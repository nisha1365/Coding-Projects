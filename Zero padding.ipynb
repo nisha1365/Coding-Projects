{
 "cells": [
  {
   "cell_type": "code",
   "execution_count": 2,
   "id": "02a48c97",
   "metadata": {},
   "outputs": [],
   "source": [
    "import keras\n",
    "from keras.models import Sequential\n",
    "from keras.layers import Activation\n",
    "from keras.layers.core import Dense, Flatten\n",
    "from keras.layers.convolutional import *"
   ]
  },
  {
   "cell_type": "code",
   "execution_count": 5,
   "id": "47eaffab",
   "metadata": {},
   "outputs": [],
   "source": [
    "model_valid = Sequential ([\n",
    "     Dense(16, activation = 'relu', input_shape=(20,20,3)),\n",
    "    Conv2D(32, kernel_size = (3, 3), activation = 'relu', padding = 'valid'),\n",
    "    Conv2D(64, kernel_size = (5, 5), activation = 'relu', padding = 'valid'),\n",
    "    Conv2D(128, kernel_size = (7, 7), activation = 'relu', padding = 'valid'),\n",
    "    Flatten(),\n",
    "    Dense(2, activation = 'softmax')\n",
    "])"
   ]
  },
  {
   "cell_type": "code",
   "execution_count": 6,
   "id": "70434498",
   "metadata": {},
   "outputs": [
    {
     "name": "stdout",
     "output_type": "stream",
     "text": [
      "Model: \"sequential\"\n",
      "_________________________________________________________________\n",
      "Layer (type)                 Output Shape              Param #   \n",
      "=================================================================\n",
      "dense (Dense)                (None, 20, 20, 16)        64        \n",
      "_________________________________________________________________\n",
      "conv2d (Conv2D)              (None, 18, 18, 32)        4640      \n",
      "_________________________________________________________________\n",
      "conv2d_1 (Conv2D)            (None, 14, 14, 64)        51264     \n",
      "_________________________________________________________________\n",
      "conv2d_2 (Conv2D)            (None, 8, 8, 128)         401536    \n",
      "_________________________________________________________________\n",
      "flatten (Flatten)            (None, 8192)              0         \n",
      "_________________________________________________________________\n",
      "dense_1 (Dense)              (None, 2)                 16386     \n",
      "=================================================================\n",
      "Total params: 473,890\n",
      "Trainable params: 473,890\n",
      "Non-trainable params: 0\n",
      "_________________________________________________________________\n"
     ]
    }
   ],
   "source": [
    "model_valid.summary()"
   ]
  },
  {
   "cell_type": "code",
   "execution_count": 7,
   "id": "7ab33b5a",
   "metadata": {},
   "outputs": [],
   "source": [
    "model_valid = Sequential ([\n",
    "     Dense(16, activation = 'relu', input_shape=(20,20,3)),\n",
    "    Conv2D(32, kernel_size = (3, 3), activation = 'relu', padding = 'same'),\n",
    "    Conv2D(64, kernel_size = (5, 5), activation = 'relu', padding = 'same'),\n",
    "    Conv2D(128, kernel_size = (7, 7), activation = 'relu', padding = 'same'),\n",
    "    Flatten(),\n",
    "    Dense(2, activation = 'softmax')\n",
    "])"
   ]
  },
  {
   "cell_type": "code",
   "execution_count": 8,
   "id": "d9a38e00",
   "metadata": {},
   "outputs": [
    {
     "name": "stdout",
     "output_type": "stream",
     "text": [
      "Model: \"sequential_1\"\n",
      "_________________________________________________________________\n",
      "Layer (type)                 Output Shape              Param #   \n",
      "=================================================================\n",
      "dense_2 (Dense)              (None, 20, 20, 16)        64        \n",
      "_________________________________________________________________\n",
      "conv2d_3 (Conv2D)            (None, 20, 20, 32)        4640      \n",
      "_________________________________________________________________\n",
      "conv2d_4 (Conv2D)            (None, 20, 20, 64)        51264     \n",
      "_________________________________________________________________\n",
      "conv2d_5 (Conv2D)            (None, 20, 20, 128)       401536    \n",
      "_________________________________________________________________\n",
      "flatten_1 (Flatten)          (None, 51200)             0         \n",
      "_________________________________________________________________\n",
      "dense_3 (Dense)              (None, 2)                 102402    \n",
      "=================================================================\n",
      "Total params: 559,906\n",
      "Trainable params: 559,906\n",
      "Non-trainable params: 0\n",
      "_________________________________________________________________\n"
     ]
    }
   ],
   "source": [
    "model_valid.summary()"
   ]
  },
  {
   "cell_type": "code",
   "execution_count": null,
   "id": "a1b4fcbd",
   "metadata": {},
   "outputs": [],
   "source": [
    "# MAX POOLING "
   ]
  },
  {
   "cell_type": "code",
   "execution_count": 9,
   "id": "58ed2fa9",
   "metadata": {},
   "outputs": [],
   "source": [
    "import keras\n",
    "from keras.models import Sequential\n",
    "from keras.layers import Activation\n",
    "from keras.layers.core import Dense, Flatten\n",
    "from keras.layers.convolutional import *\n",
    "from keras.layers.pooling import *"
   ]
  },
  {
   "cell_type": "code",
   "execution_count": 12,
   "id": "34fc65fd",
   "metadata": {},
   "outputs": [],
   "source": [
    "model = Sequential ([\n",
    "     Dense(16, activation = 'relu', input_shape=(20,20,3)),\n",
    "    Conv2D(32, kernel_size = (3, 3), activation = 'relu', padding = 'same'),\n",
    "    MaxPooling2D(pool_size = (2, 2), strides = 2, padding = 'valid'),\n",
    "    Conv2D(64, kernel_size = (5, 5), activation = 'relu', padding = 'same'),\n",
    "    \n",
    "    Flatten(),\n",
    "    Dense(2, activation = 'softmax')\n",
    "])"
   ]
  },
  {
   "cell_type": "code",
   "execution_count": 13,
   "id": "5b4cac9f",
   "metadata": {},
   "outputs": [
    {
     "name": "stdout",
     "output_type": "stream",
     "text": [
      "Model: \"sequential_3\"\n",
      "_________________________________________________________________\n",
      "Layer (type)                 Output Shape              Param #   \n",
      "=================================================================\n",
      "dense_6 (Dense)              (None, 20, 20, 16)        64        \n",
      "_________________________________________________________________\n",
      "conv2d_8 (Conv2D)            (None, 20, 20, 32)        4640      \n",
      "_________________________________________________________________\n",
      "max_pooling2d_1 (MaxPooling2 (None, 10, 10, 32)        0         \n",
      "_________________________________________________________________\n",
      "conv2d_9 (Conv2D)            (None, 10, 10, 64)        51264     \n",
      "_________________________________________________________________\n",
      "flatten_3 (Flatten)          (None, 6400)              0         \n",
      "_________________________________________________________________\n",
      "dense_7 (Dense)              (None, 2)                 12802     \n",
      "=================================================================\n",
      "Total params: 68,770\n",
      "Trainable params: 68,770\n",
      "Non-trainable params: 0\n",
      "_________________________________________________________________\n"
     ]
    }
   ],
   "source": [
    "model.summary()"
   ]
  },
  {
   "cell_type": "code",
   "execution_count": null,
   "id": "0ebac673",
   "metadata": {},
   "outputs": [],
   "source": []
  }
 ],
 "metadata": {
  "kernelspec": {
   "display_name": "Python 3",
   "language": "python",
   "name": "python3"
  },
  "language_info": {
   "codemirror_mode": {
    "name": "ipython",
    "version": 3
   },
   "file_extension": ".py",
   "mimetype": "text/x-python",
   "name": "python",
   "nbconvert_exporter": "python",
   "pygments_lexer": "ipython3",
   "version": "3.8.8"
  }
 },
 "nbformat": 4,
 "nbformat_minor": 5
}
