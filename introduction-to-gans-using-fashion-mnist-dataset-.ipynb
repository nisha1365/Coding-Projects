{
  "nbformat": 4,
  "nbformat_minor": 0,
  "metadata": {
    "kernelspec": {
      "language": "python",
      "display_name": "Python 3",
      "name": "python3"
    },
    "language_info": {
      "pygments_lexer": "ipython3",
      "nbconvert_exporter": "python",
      "version": "3.6.4",
      "file_extension": ".py",
      "codemirror_mode": {
        "name": "ipython",
        "version": 3
      },
      "name": "python",
      "mimetype": "text/x-python"
    },
    "colab": {
      "name": "introduction-to-gans-on-fashion-mnist-dataset.ipynb",
      "provenance": []
    }
  },
  "cells": [
    {
      "cell_type": "markdown",
      "metadata": {
        "id": "sd2sipy7aEBE"
      },
      "source": [
        "**Author:** [Sayak Dasgupta](https://www.linkedin.com/in/sayak-dasgupta/)"
      ]
    },
    {
      "cell_type": "markdown",
      "metadata": {
        "id": "9bfhOMas6Grr"
      },
      "source": [
        "# **Generative Adverserial Networks**\n",
        "\n",
        "\n",
        "Generative adversarial networks (GANs) are algorithmic architectures that use two neural networks, pitting one against the other (thus the “adversarial”) in order to generate new, synthetic instances of data that can pass for real data. They are used widely in image generation, video generation and voice generation.\n",
        "\n",
        "\n",
        "![Generative-Adversarial-Networks-Framework.png](https://dphi-courses.s3.ap-south-1.amazonaws.com/bootcamp-content-images/Generative-Adversarial-Networks-Framework.png)\n",
        "\n",
        "\n",
        "\n",
        "While most deep generative models are trained by maximizing log likelihood or a lower bound on log likelihood, GANs take a radically different approach that does not require inference or explicit calculation of the data likelihood. Instead, two models are used to solve a minimax game: a generator which samples data, and a discriminator which classifies the data as real or generated.In theory these models are capable of modeling an arbitrarily complex probability distribution.\n",
        "\n",
        "\n",
        "\n",
        "\n",
        "\n",
        "\n"
      ]
    },
    {
      "cell_type": "markdown",
      "metadata": {
        "id": "fB9ALfbC6Grw"
      },
      "source": [
        "![](http://)"
      ]
    },
    {
      "cell_type": "markdown",
      "metadata": {
        "id": "7UxQtGhb6Grx"
      },
      "source": [
        "# **Objective**\n",
        "\n",
        "The objective of this notebook is to introduce beginners to the underlying concept of Generative Adversarial Networks (GANs) in the most intuitive way possible. The aim is to describe the working of such network without delving deep into the complex mathematics associated and in a more practical way such that the viewer can develop his own simple GAN. \n",
        "\n",
        "A simple GAN is first constructed here with only hidden dense layers and tries to output meaningful images. The output is analysed discovering one particular issue which is commonplace in simple GANs. The issue is resolved in the next part with one particular type of GAN called Deep Convolution Generative Adversarial Networks (DCGANs) ."
      ]
    },
    {
      "cell_type": "markdown",
      "metadata": {
        "id": "H-Ze4yvZ6Gry"
      },
      "source": [
        "# **Introduction**\n",
        "\n",
        "\n",
        "GANs are made up of two components - \n",
        "\n",
        "1. **Generator - generates new data instances**\n",
        "\n",
        "2. **Discriminator - tries to distinguish the generated or fake data from the real dataset.**\n",
        "\n",
        "Discriminative algorithms try to classify input data; that is, given the features of an instance of data, they predict a label or category to which that data belongs. So discriminative algorithms map features to labels. They are concerned solely with that correlation.One the other way,loosely speaking,generative algorithms do the opposite. Instead of predicting a label given certain features, they attempt to predict features given a certain label.\n",
        "\n",
        "While training they both start together from scratch and the generator learn to shape the random distribition through the training epochs."
      ]
    },
    {
      "cell_type": "markdown",
      "metadata": {
        "id": "Ha21iiwd6Grz"
      },
      "source": [
        "# **Working Principle**\n",
        "\n",
        "**Generative** network is fed noise may be in the form a random distribution and generates fake data from the noise. The fake data from the generator is input to the discriminator. Once the training is complete, the generator should be able to generate real like data from the noises.\n",
        "\n",
        "The interesting fact here is that the generator learns to produce meaningful images without even actually looking at the image.\n",
        "\n",
        "![GANs Working Principle](https://dphi-courses.s3.ap-south-1.amazonaws.com/bootcamp-content-images/GANs+Working+principle.png)\n",
        "\n",
        "**Discriminator** or the adversarial network works as the opponent to the generator. It is basically a  classifier or discriminator whose function is to distinguish between two different classes of data. Here the classes are real data (labelled as 1) and the fake data the generator produces (labelled as 0).\n",
        "\n"
      ]
    },
    {
      "cell_type": "markdown",
      "metadata": {
        "id": "A0KmmmRa6Gr0"
      },
      "source": [
        "# **Training the network**\n",
        "\n",
        "The important thing about training a GAN is that the two components should never be trained together. Rather the network is trained in two different phases,the first phase is for training the discriminator and updating the weights appropriately and in the next step the generator is trained while the discriminator training is disabled.\n",
        "\n",
        "**Phase 1**\n",
        "During phase one of training the generator is fed random data(in the form of a distribution) as noise. The generator creates some random images which are given to the discriminator. The discriminator also takes input from dataset of real images. \n",
        "The discriminator learns to distinguish the real data from the fake ones by learning or assessing features from it's inputs. The discriminator outputs some probability and difference between the predicted results and the actual results are backpropagated through the network and the weights of the discriminator is updated. \n",
        "Remember during this phase, the backpropagation stops at the end of the discriminator and the generator is not trained or updated.\n",
        "\n",
        "\n",
        "**Phase 2**\n",
        "In this phase, the generator produced batch of images are directly given as input to the discriminator. The real images are not given this time to the discriminator. The generator learns by tricking the discriminator into it outputting false positives. The discriminator outputs probabilities which are assessed against the actual results and the weights of of the generator are updated through backpropagation.\n",
        "Remember here during backpropagation, the discriminator weights should not be updated and kept as they were before.\n",
        "\n",
        "![Train1_t82vgL9KcDVpT4JqCb9Q4Q.png](https://dphi-courses.s3.ap-south-1.amazonaws.com/bootcamp-content-images/train1.png)"
      ]
    },
    {
      "cell_type": "markdown",
      "metadata": {
        "id": "y0-xRRxH6Gr2"
      },
      "source": [
        "**LOSS FUNCTION of simple GAN**\n",
        "\n",
        "In the paper that introduced GANs(link below in the reference), the generator tries to minimize the following function while the discriminator tries to maximize it:\n",
        "\n",
        "![loss.png](https://dphi-courses.s3.ap-south-1.amazonaws.com/bootcamp-content-images/loss_fun_gans.png)\n",
        "In this function:\n",
        "\n",
        "* D(x) is the discriminator's estimate of the probability that real data instance x is real.\n",
        "* Ex is the expected value over all real data instances.\n",
        "* G(z) is the generator's output when given noise z.\n",
        "* D(G(z)) is the discriminator's estimate of the probability that a fake instance is real.\n",
        "* Ez is the expected value over all random inputs to the generator (in effect, the expected value over all generated fake instances G(z)).\n",
        "\n",
        "\n",
        "The generator can't directly affect the log(D(x)) term in the function, so, for the generator, minimizing the loss is equivalent to minimizing log(1 - D(G(z)))."
      ]
    },
    {
      "cell_type": "markdown",
      "metadata": {
        "id": "6Rm-0jfH6Gr4"
      },
      "source": [
        "**Applications of GANs**\n",
        "\n",
        "* Generate Examples for Image Datasets\n",
        "* Generate Photographs of Human Faces\n",
        "* Generate Realistic Photographs\n",
        "* Image-to-Image Translation\n",
        "* Text-to-Image Translation\n",
        "* Semantic-Image-to-Photo Translation\n",
        "* Photos to Emojis\n",
        "* Face Aging\n",
        "* Super Resolution\n",
        "* 3D Object Generation\n",
        "\n",
        "\n",
        "![sr.jpg](https://dphi-courses.s3.ap-south-1.amazonaws.com/bootcamp-content-images/app_gans.jpg)"
      ]
    },
    {
      "cell_type": "markdown",
      "metadata": {
        "id": "mZDmTwgR6Gr6"
      },
      "source": [
        "# **Problems with simple GANs**\n",
        "\n",
        "In practice, however, GANs suffer from many issues, particularly during training. One common\n",
        "failure mode involves the generator collapsing to produce only a single sample or a small family of\n",
        "very similar samples. In this case, the generator learns to trick the discriminator with a single image or a few images to believe as real image. Another involves the generator and discriminator oscillating during training,rather than converging to a fixed point. In addition, if one agent becomes much more powerful than the other, the learning signal to the other agent becomes useless, and the system does not learn.\n",
        "To train GANs many tricks must be employed,one such method is using Deep Convolution Generative Adversarial Networks as discussed in a research paper published in 2016 (link in the references).\n",
        "\n",
        "\n"
      ]
    },
    {
      "cell_type": "markdown",
      "metadata": {
        "id": "UczOYe6O6Gr8"
      },
      "source": [
        "# **Let's begin**"
      ]
    },
    {
      "cell_type": "code",
      "metadata": {
        "_uuid": "8f2839f25d086af736a60e9eeb907d3b93b6e0e5",
        "_cell_guid": "b1076dfc-b9ad-4769-8c92-a6c4dae69d19",
        "trusted": true,
        "id": "Ah8QFn6Z6Gr9",
        "outputId": "e9fa96c0-6b3f-49fd-c7fe-cc719a72b481"
      },
      "source": [
        "# This Python 3 environment comes with many helpful analytics libraries installed\n",
        "# It is defined by the kaggle/python docker image: https://github.com/kaggle/docker-python\n",
        "# For example, here's several helpful packages to load in \n",
        "\n",
        "import numpy as np # linear algebra\n",
        "import pandas as pd # data processing, CSV file I/O (e.g. pd.read_csv)\n",
        "\n",
        "# Input data files are available in the \"../input/\" directory.\n",
        "# For example, running this (by clicking run or pressing Shift+Enter) will list all files under the input directory\n",
        "\n",
        "import os\n",
        "for dirname, _, filenames in os.walk('/kaggle/input'):\n",
        "    for filename in filenames:\n",
        "        print(os.path.join(dirname, filename))\n",
        "\n",
        "# Any results you write to the current directory are saved as output."
      ],
      "execution_count": null,
      "outputs": [
        {
          "output_type": "stream",
          "text": [
            "/kaggle/input/fashionmnist/train-images-idx3-ubyte\n",
            "/kaggle/input/fashionmnist/t10k-labels-idx1-ubyte\n",
            "/kaggle/input/fashionmnist/fashion-mnist_test.csv\n",
            "/kaggle/input/fashionmnist/train-labels-idx1-ubyte\n",
            "/kaggle/input/fashionmnist/fashion-mnist_train.csv\n",
            "/kaggle/input/fashionmnist/t10k-images-idx3-ubyte\n"
          ],
          "name": "stdout"
        }
      ]
    },
    {
      "cell_type": "markdown",
      "metadata": {
        "id": "s11fdrim6GsB"
      },
      "source": [
        "**Importing useful packages**"
      ]
    },
    {
      "cell_type": "code",
      "metadata": {
        "trusted": true,
        "id": "-HvibqOT6GsC",
        "outputId": "207a2517-b0d8-4577-daff-34f05c9cca1f"
      },
      "source": [
        "import matplotlib.pyplot as plt\n",
        "from keras import preprocessing\n",
        "from keras.models import Sequential\n",
        "from keras.layers import Conv2D,Dropout,Dense,Flatten,Conv2DTranspose,BatchNormalization,LeakyReLU,Reshape\n",
        "import tensorflow as tf"
      ],
      "execution_count": null,
      "outputs": [
        {
          "output_type": "stream",
          "text": [
            "Using TensorFlow backend.\n"
          ],
          "name": "stderr"
        }
      ]
    },
    {
      "cell_type": "markdown",
      "metadata": {
        "id": "943GDH946GsE"
      },
      "source": [
        "# **Loading and Preprocessing the data**"
      ]
    },
    {
      "cell_type": "code",
      "metadata": {
        "_uuid": "d629ff2d2480ee46fbb7e2d37f6b5fab8052498a",
        "_cell_guid": "79c7e3d0-c299-4dcb-8224-4455121ee9b0",
        "trusted": true,
        "id": "dMuhAP5h6GsE",
        "outputId": "47056e80-1333-4672-8090-4241b5291d42"
      },
      "source": [
        "train_data = pd.read_csv('/kaggle/input/fashionmnist/fashion-mnist_train.csv')\n",
        "train_data.head()"
      ],
      "execution_count": null,
      "outputs": [
        {
          "output_type": "execute_result",
          "data": {
            "text/plain": [
              "   label  pixel1  pixel2  pixel3  pixel4  pixel5  pixel6  pixel7  pixel8  \\\n",
              "0      2       0       0       0       0       0       0       0       0   \n",
              "1      9       0       0       0       0       0       0       0       0   \n",
              "2      6       0       0       0       0       0       0       0       5   \n",
              "3      0       0       0       0       1       2       0       0       0   \n",
              "4      3       0       0       0       0       0       0       0       0   \n",
              "\n",
              "   pixel9  ...  pixel775  pixel776  pixel777  pixel778  pixel779  pixel780  \\\n",
              "0       0  ...         0         0         0         0         0         0   \n",
              "1       0  ...         0         0         0         0         0         0   \n",
              "2       0  ...         0         0         0        30        43         0   \n",
              "3       0  ...         3         0         0         0         0         1   \n",
              "4       0  ...         0         0         0         0         0         0   \n",
              "\n",
              "   pixel781  pixel782  pixel783  pixel784  \n",
              "0         0         0         0         0  \n",
              "1         0         0         0         0  \n",
              "2         0         0         0         0  \n",
              "3         0         0         0         0  \n",
              "4         0         0         0         0  \n",
              "\n",
              "[5 rows x 785 columns]"
            ],
            "text/html": [
              "<div>\n",
              "<style scoped>\n",
              "    .dataframe tbody tr th:only-of-type {\n",
              "        vertical-align: middle;\n",
              "    }\n",
              "\n",
              "    .dataframe tbody tr th {\n",
              "        vertical-align: top;\n",
              "    }\n",
              "\n",
              "    .dataframe thead th {\n",
              "        text-align: right;\n",
              "    }\n",
              "</style>\n",
              "<table border=\"1\" class=\"dataframe\">\n",
              "  <thead>\n",
              "    <tr style=\"text-align: right;\">\n",
              "      <th></th>\n",
              "      <th>label</th>\n",
              "      <th>pixel1</th>\n",
              "      <th>pixel2</th>\n",
              "      <th>pixel3</th>\n",
              "      <th>pixel4</th>\n",
              "      <th>pixel5</th>\n",
              "      <th>pixel6</th>\n",
              "      <th>pixel7</th>\n",
              "      <th>pixel8</th>\n",
              "      <th>pixel9</th>\n",
              "      <th>...</th>\n",
              "      <th>pixel775</th>\n",
              "      <th>pixel776</th>\n",
              "      <th>pixel777</th>\n",
              "      <th>pixel778</th>\n",
              "      <th>pixel779</th>\n",
              "      <th>pixel780</th>\n",
              "      <th>pixel781</th>\n",
              "      <th>pixel782</th>\n",
              "      <th>pixel783</th>\n",
              "      <th>pixel784</th>\n",
              "    </tr>\n",
              "  </thead>\n",
              "  <tbody>\n",
              "    <tr>\n",
              "      <th>0</th>\n",
              "      <td>2</td>\n",
              "      <td>0</td>\n",
              "      <td>0</td>\n",
              "      <td>0</td>\n",
              "      <td>0</td>\n",
              "      <td>0</td>\n",
              "      <td>0</td>\n",
              "      <td>0</td>\n",
              "      <td>0</td>\n",
              "      <td>0</td>\n",
              "      <td>...</td>\n",
              "      <td>0</td>\n",
              "      <td>0</td>\n",
              "      <td>0</td>\n",
              "      <td>0</td>\n",
              "      <td>0</td>\n",
              "      <td>0</td>\n",
              "      <td>0</td>\n",
              "      <td>0</td>\n",
              "      <td>0</td>\n",
              "      <td>0</td>\n",
              "    </tr>\n",
              "    <tr>\n",
              "      <th>1</th>\n",
              "      <td>9</td>\n",
              "      <td>0</td>\n",
              "      <td>0</td>\n",
              "      <td>0</td>\n",
              "      <td>0</td>\n",
              "      <td>0</td>\n",
              "      <td>0</td>\n",
              "      <td>0</td>\n",
              "      <td>0</td>\n",
              "      <td>0</td>\n",
              "      <td>...</td>\n",
              "      <td>0</td>\n",
              "      <td>0</td>\n",
              "      <td>0</td>\n",
              "      <td>0</td>\n",
              "      <td>0</td>\n",
              "      <td>0</td>\n",
              "      <td>0</td>\n",
              "      <td>0</td>\n",
              "      <td>0</td>\n",
              "      <td>0</td>\n",
              "    </tr>\n",
              "    <tr>\n",
              "      <th>2</th>\n",
              "      <td>6</td>\n",
              "      <td>0</td>\n",
              "      <td>0</td>\n",
              "      <td>0</td>\n",
              "      <td>0</td>\n",
              "      <td>0</td>\n",
              "      <td>0</td>\n",
              "      <td>0</td>\n",
              "      <td>5</td>\n",
              "      <td>0</td>\n",
              "      <td>...</td>\n",
              "      <td>0</td>\n",
              "      <td>0</td>\n",
              "      <td>0</td>\n",
              "      <td>30</td>\n",
              "      <td>43</td>\n",
              "      <td>0</td>\n",
              "      <td>0</td>\n",
              "      <td>0</td>\n",
              "      <td>0</td>\n",
              "      <td>0</td>\n",
              "    </tr>\n",
              "    <tr>\n",
              "      <th>3</th>\n",
              "      <td>0</td>\n",
              "      <td>0</td>\n",
              "      <td>0</td>\n",
              "      <td>0</td>\n",
              "      <td>1</td>\n",
              "      <td>2</td>\n",
              "      <td>0</td>\n",
              "      <td>0</td>\n",
              "      <td>0</td>\n",
              "      <td>0</td>\n",
              "      <td>...</td>\n",
              "      <td>3</td>\n",
              "      <td>0</td>\n",
              "      <td>0</td>\n",
              "      <td>0</td>\n",
              "      <td>0</td>\n",
              "      <td>1</td>\n",
              "      <td>0</td>\n",
              "      <td>0</td>\n",
              "      <td>0</td>\n",
              "      <td>0</td>\n",
              "    </tr>\n",
              "    <tr>\n",
              "      <th>4</th>\n",
              "      <td>3</td>\n",
              "      <td>0</td>\n",
              "      <td>0</td>\n",
              "      <td>0</td>\n",
              "      <td>0</td>\n",
              "      <td>0</td>\n",
              "      <td>0</td>\n",
              "      <td>0</td>\n",
              "      <td>0</td>\n",
              "      <td>0</td>\n",
              "      <td>...</td>\n",
              "      <td>0</td>\n",
              "      <td>0</td>\n",
              "      <td>0</td>\n",
              "      <td>0</td>\n",
              "      <td>0</td>\n",
              "      <td>0</td>\n",
              "      <td>0</td>\n",
              "      <td>0</td>\n",
              "      <td>0</td>\n",
              "      <td>0</td>\n",
              "    </tr>\n",
              "  </tbody>\n",
              "</table>\n",
              "<p>5 rows × 785 columns</p>\n",
              "</div>"
            ]
          },
          "metadata": {
            "tags": []
          },
          "execution_count": 3
        }
      ]
    },
    {
      "cell_type": "markdown",
      "metadata": {
        "id": "McGcPphW6GsG"
      },
      "source": [
        "dropping the labels from the dataset"
      ]
    },
    {
      "cell_type": "code",
      "metadata": {
        "trusted": true,
        "id": "aNwmL3T46GsH",
        "outputId": "8bfde4b3-1c90-47fb-edef-8d07662dd108"
      },
      "source": [
        "X_train = train_data.drop('label',axis=1)\n",
        "X_train.head()"
      ],
      "execution_count": null,
      "outputs": [
        {
          "output_type": "execute_result",
          "data": {
            "text/plain": [
              "   pixel1  pixel2  pixel3  pixel4  pixel5  pixel6  pixel7  pixel8  pixel9  \\\n",
              "0       0       0       0       0       0       0       0       0       0   \n",
              "1       0       0       0       0       0       0       0       0       0   \n",
              "2       0       0       0       0       0       0       0       5       0   \n",
              "3       0       0       0       1       2       0       0       0       0   \n",
              "4       0       0       0       0       0       0       0       0       0   \n",
              "\n",
              "   pixel10  ...  pixel775  pixel776  pixel777  pixel778  pixel779  pixel780  \\\n",
              "0        0  ...         0         0         0         0         0         0   \n",
              "1        0  ...         0         0         0         0         0         0   \n",
              "2        0  ...         0         0         0        30        43         0   \n",
              "3        0  ...         3         0         0         0         0         1   \n",
              "4        0  ...         0         0         0         0         0         0   \n",
              "\n",
              "   pixel781  pixel782  pixel783  pixel784  \n",
              "0         0         0         0         0  \n",
              "1         0         0         0         0  \n",
              "2         0         0         0         0  \n",
              "3         0         0         0         0  \n",
              "4         0         0         0         0  \n",
              "\n",
              "[5 rows x 784 columns]"
            ],
            "text/html": [
              "<div>\n",
              "<style scoped>\n",
              "    .dataframe tbody tr th:only-of-type {\n",
              "        vertical-align: middle;\n",
              "    }\n",
              "\n",
              "    .dataframe tbody tr th {\n",
              "        vertical-align: top;\n",
              "    }\n",
              "\n",
              "    .dataframe thead th {\n",
              "        text-align: right;\n",
              "    }\n",
              "</style>\n",
              "<table border=\"1\" class=\"dataframe\">\n",
              "  <thead>\n",
              "    <tr style=\"text-align: right;\">\n",
              "      <th></th>\n",
              "      <th>pixel1</th>\n",
              "      <th>pixel2</th>\n",
              "      <th>pixel3</th>\n",
              "      <th>pixel4</th>\n",
              "      <th>pixel5</th>\n",
              "      <th>pixel6</th>\n",
              "      <th>pixel7</th>\n",
              "      <th>pixel8</th>\n",
              "      <th>pixel9</th>\n",
              "      <th>pixel10</th>\n",
              "      <th>...</th>\n",
              "      <th>pixel775</th>\n",
              "      <th>pixel776</th>\n",
              "      <th>pixel777</th>\n",
              "      <th>pixel778</th>\n",
              "      <th>pixel779</th>\n",
              "      <th>pixel780</th>\n",
              "      <th>pixel781</th>\n",
              "      <th>pixel782</th>\n",
              "      <th>pixel783</th>\n",
              "      <th>pixel784</th>\n",
              "    </tr>\n",
              "  </thead>\n",
              "  <tbody>\n",
              "    <tr>\n",
              "      <th>0</th>\n",
              "      <td>0</td>\n",
              "      <td>0</td>\n",
              "      <td>0</td>\n",
              "      <td>0</td>\n",
              "      <td>0</td>\n",
              "      <td>0</td>\n",
              "      <td>0</td>\n",
              "      <td>0</td>\n",
              "      <td>0</td>\n",
              "      <td>0</td>\n",
              "      <td>...</td>\n",
              "      <td>0</td>\n",
              "      <td>0</td>\n",
              "      <td>0</td>\n",
              "      <td>0</td>\n",
              "      <td>0</td>\n",
              "      <td>0</td>\n",
              "      <td>0</td>\n",
              "      <td>0</td>\n",
              "      <td>0</td>\n",
              "      <td>0</td>\n",
              "    </tr>\n",
              "    <tr>\n",
              "      <th>1</th>\n",
              "      <td>0</td>\n",
              "      <td>0</td>\n",
              "      <td>0</td>\n",
              "      <td>0</td>\n",
              "      <td>0</td>\n",
              "      <td>0</td>\n",
              "      <td>0</td>\n",
              "      <td>0</td>\n",
              "      <td>0</td>\n",
              "      <td>0</td>\n",
              "      <td>...</td>\n",
              "      <td>0</td>\n",
              "      <td>0</td>\n",
              "      <td>0</td>\n",
              "      <td>0</td>\n",
              "      <td>0</td>\n",
              "      <td>0</td>\n",
              "      <td>0</td>\n",
              "      <td>0</td>\n",
              "      <td>0</td>\n",
              "      <td>0</td>\n",
              "    </tr>\n",
              "    <tr>\n",
              "      <th>2</th>\n",
              "      <td>0</td>\n",
              "      <td>0</td>\n",
              "      <td>0</td>\n",
              "      <td>0</td>\n",
              "      <td>0</td>\n",
              "      <td>0</td>\n",
              "      <td>0</td>\n",
              "      <td>5</td>\n",
              "      <td>0</td>\n",
              "      <td>0</td>\n",
              "      <td>...</td>\n",
              "      <td>0</td>\n",
              "      <td>0</td>\n",
              "      <td>0</td>\n",
              "      <td>30</td>\n",
              "      <td>43</td>\n",
              "      <td>0</td>\n",
              "      <td>0</td>\n",
              "      <td>0</td>\n",
              "      <td>0</td>\n",
              "      <td>0</td>\n",
              "    </tr>\n",
              "    <tr>\n",
              "      <th>3</th>\n",
              "      <td>0</td>\n",
              "      <td>0</td>\n",
              "      <td>0</td>\n",
              "      <td>1</td>\n",
              "      <td>2</td>\n",
              "      <td>0</td>\n",
              "      <td>0</td>\n",
              "      <td>0</td>\n",
              "      <td>0</td>\n",
              "      <td>0</td>\n",
              "      <td>...</td>\n",
              "      <td>3</td>\n",
              "      <td>0</td>\n",
              "      <td>0</td>\n",
              "      <td>0</td>\n",
              "      <td>0</td>\n",
              "      <td>1</td>\n",
              "      <td>0</td>\n",
              "      <td>0</td>\n",
              "      <td>0</td>\n",
              "      <td>0</td>\n",
              "    </tr>\n",
              "    <tr>\n",
              "      <th>4</th>\n",
              "      <td>0</td>\n",
              "      <td>0</td>\n",
              "      <td>0</td>\n",
              "      <td>0</td>\n",
              "      <td>0</td>\n",
              "      <td>0</td>\n",
              "      <td>0</td>\n",
              "      <td>0</td>\n",
              "      <td>0</td>\n",
              "      <td>0</td>\n",
              "      <td>...</td>\n",
              "      <td>0</td>\n",
              "      <td>0</td>\n",
              "      <td>0</td>\n",
              "      <td>0</td>\n",
              "      <td>0</td>\n",
              "      <td>0</td>\n",
              "      <td>0</td>\n",
              "      <td>0</td>\n",
              "      <td>0</td>\n",
              "      <td>0</td>\n",
              "    </tr>\n",
              "  </tbody>\n",
              "</table>\n",
              "<p>5 rows × 784 columns</p>\n",
              "</div>"
            ]
          },
          "metadata": {
            "tags": []
          },
          "execution_count": 4
        }
      ]
    },
    {
      "cell_type": "code",
      "metadata": {
        "trusted": true,
        "id": "pNdAnnf16GsI",
        "outputId": "4affb10a-0eec-42ac-f41b-dcc29971ddf8"
      },
      "source": [
        "X_train=X_train.values\n",
        "print(X_train.shape)"
      ],
      "execution_count": null,
      "outputs": [
        {
          "output_type": "stream",
          "text": [
            "(60000, 784)\n"
          ],
          "name": "stdout"
        }
      ]
    },
    {
      "cell_type": "code",
      "metadata": {
        "trusted": true,
        "id": "kgkv80Kk6GsJ",
        "outputId": "b80cf37f-3612-466d-a69f-20d2d03ab619"
      },
      "source": [
        "X_train=X_train.reshape(-1,28,28,1)\n",
        "print(X_train.shape)"
      ],
      "execution_count": null,
      "outputs": [
        {
          "output_type": "stream",
          "text": [
            "(60000, 28, 28, 1)\n"
          ],
          "name": "stdout"
        }
      ]
    },
    {
      "cell_type": "markdown",
      "metadata": {
        "id": "GMiamkhg6GsK"
      },
      "source": [
        "# **Data Visualization**"
      ]
    },
    {
      "cell_type": "code",
      "metadata": {
        "trusted": true,
        "id": "U0kZtl-C6GsL",
        "outputId": "6b0d859b-bf43-4a40-b95c-5cddc72a4fa4"
      },
      "source": [
        "fig,axe=plt.subplots(2,2)\n",
        "idx = 0\n",
        "for i in range(2):\n",
        "    for j in range(2):\n",
        "        axe[i,j].imshow(X_train[idx].reshape(28,28),cmap='gray')\n",
        "        idx+=1"
      ],
      "execution_count": null,
      "outputs": [
        {
          "output_type": "display_data",
          "data": {
            "text/plain": [
              "<Figure size 432x288 with 4 Axes>"
            ],
            "image/png": "[encoded data removed]"
          },
          "metadata": {
            "tags": [],
            "needs_background": "light"
          }
        }
      ]
    },
    {
      "cell_type": "code",
      "metadata": {
        "trusted": true,
        "id": "Bnz5sOL96GsM"
      },
      "source": [
        "X_train =  X_train.astype('float32')"
      ],
      "execution_count": null,
      "outputs": []
    },
    {
      "cell_type": "markdown",
      "metadata": {
        "id": "s0ILTwLS6GsM"
      },
      "source": [
        "The pixel data ranges from 0 to 255 hence dividing each pixel by 255,i.e,normalizing the data such that the range is within 0 to 1."
      ]
    },
    {
      "cell_type": "code",
      "metadata": {
        "trusted": true,
        "id": "_kOzeie_6GsN"
      },
      "source": [
        "X_train = X_train/255\n",
        "X_train = X_train*2 - 1."
      ],
      "execution_count": null,
      "outputs": []
    },
    {
      "cell_type": "markdown",
      "metadata": {
        "id": "exJydNMX6GsO"
      },
      "source": [
        "**NOTE**  after normalizing it is multiplied with 2 and substracted from 1 such that it ranges from (-1,1) because in DCGANs the last layer generative model activation is tanh which range is (-1,1) unlike sigmoid ranging (0,1) ."
      ]
    },
    {
      "cell_type": "code",
      "metadata": {
        "trusted": true,
        "id": "El318ikB6GsP",
        "outputId": "49c9653d-ec28-47a7-9f2f-52530d3c89c2"
      },
      "source": [
        "print(X_train.max(),X_train.min())"
      ],
      "execution_count": null,
      "outputs": [
        {
          "output_type": "stream",
          "text": [
            "1.0 -1.0\n"
          ],
          "name": "stdout"
        }
      ]
    },
    {
      "cell_type": "markdown",
      "metadata": {
        "id": "WHukxAge6GsQ"
      },
      "source": [
        "# **Simple GAN Model**"
      ]
    },
    {
      "cell_type": "markdown",
      "metadata": {
        "id": "i5vSYBVV6GsR"
      },
      "source": [
        "**Generative part**"
      ]
    },
    {
      "cell_type": "code",
      "metadata": {
        "trusted": true,
        "id": "hrCj3Nmj6GsS"
      },
      "source": [
        "generator = Sequential()\n",
        "generator.add(Dense(512,input_shape=[100]))\n",
        "generator.add(LeakyReLU(alpha=0.2))\n",
        "generator.add(BatchNormalization(momentum=0.8))\n",
        "generator.add(Dense(256))\n",
        "generator.add(LeakyReLU(alpha=0.2))\n",
        "generator.add(BatchNormalization(momentum=0.8))\n",
        "generator.add(Dense(128))\n",
        "generator.add(LeakyReLU(alpha=0.2))\n",
        "generator.add(BatchNormalization(momentum=0.8))\n",
        "generator.add(Dense(784))\n",
        "generator.add(Reshape([28,28,1]))"
      ],
      "execution_count": null,
      "outputs": []
    },
    {
      "cell_type": "code",
      "metadata": {
        "trusted": true,
        "id": "E8KZdLKw6GsS",
        "outputId": "28754e67-74bb-4f7b-a270-5c6b7d49e033"
      },
      "source": [
        "generator.summary()"
      ],
      "execution_count": null,
      "outputs": [
        {
          "output_type": "stream",
          "text": [
            "Model: \"sequential_7\"\n",
            "_________________________________________________________________\n",
            "Layer (type)                 Output Shape              Param #   \n",
            "=================================================================\n",
            "dense_12 (Dense)             (None, 512)               51712     \n",
            "_________________________________________________________________\n",
            "leaky_re_lu_9 (LeakyReLU)    (None, 512)               0         \n",
            "_________________________________________________________________\n",
            "batch_normalization_6 (Batch (None, 512)               2048      \n",
            "_________________________________________________________________\n",
            "dense_13 (Dense)             (None, 256)               131328    \n",
            "_________________________________________________________________\n",
            "leaky_re_lu_10 (LeakyReLU)   (None, 256)               0         \n",
            "_________________________________________________________________\n",
            "batch_normalization_7 (Batch (None, 256)               1024      \n",
            "_________________________________________________________________\n",
            "dense_14 (Dense)             (None, 128)               32896     \n",
            "_________________________________________________________________\n",
            "leaky_re_lu_11 (LeakyReLU)   (None, 128)               0         \n",
            "_________________________________________________________________\n",
            "batch_normalization_8 (Batch (None, 128)               512       \n",
            "_________________________________________________________________\n",
            "dense_15 (Dense)             (None, 784)               101136    \n",
            "_________________________________________________________________\n",
            "reshape_3 (Reshape)          (None, 28, 28, 1)         0         \n",
            "=================================================================\n",
            "Total params: 320,656\n",
            "Trainable params: 318,864\n",
            "Non-trainable params: 1,792\n",
            "_________________________________________________________________\n"
          ],
          "name": "stdout"
        }
      ]
    },
    {
      "cell_type": "markdown",
      "metadata": {
        "id": "5g-YwKt36GsT"
      },
      "source": [
        "**Discriminatory part**"
      ]
    },
    {
      "cell_type": "code",
      "metadata": {
        "trusted": true,
        "id": "edmiUm7E6GsU"
      },
      "source": [
        "discriminator = Sequential()\n",
        "discriminator.add(Dense(1,input_shape=[28,28,1]))\n",
        "discriminator.add(Flatten())\n",
        "discriminator.add(Dense(256))\n",
        "discriminator.add(LeakyReLU(alpha=0.2))\n",
        "discriminator.add(Dropout(0.5))\n",
        "discriminator.add(Dense(128))\n",
        "discriminator.add(LeakyReLU(alpha=0.2))\n",
        "discriminator.add(Dropout(0.5))\n",
        "discriminator.add(Dense(64))\n",
        "discriminator.add(LeakyReLU(alpha=0.2))\n",
        "discriminator.add(Dropout(0.5))\n",
        "discriminator.add(Dense(1,activation='sigmoid'))"
      ],
      "execution_count": null,
      "outputs": []
    },
    {
      "cell_type": "code",
      "metadata": {
        "trusted": true,
        "id": "NmN8Sw056GsU",
        "outputId": "87fe0e12-bf9e-4010-85f4-cae2346647ce"
      },
      "source": [
        "discriminator.summary()"
      ],
      "execution_count": null,
      "outputs": [
        {
          "output_type": "stream",
          "text": [
            "Model: \"sequential_2\"\n",
            "_________________________________________________________________\n",
            "Layer (type)                 Output Shape              Param #   \n",
            "=================================================================\n",
            "dense_5 (Dense)              (None, 28, 28, 1)         2         \n",
            "_________________________________________________________________\n",
            "flatten_1 (Flatten)          (None, 784)               0         \n",
            "_________________________________________________________________\n",
            "dense_6 (Dense)              (None, 256)               200960    \n",
            "_________________________________________________________________\n",
            "leaky_re_lu_4 (LeakyReLU)    (None, 256)               0         \n",
            "_________________________________________________________________\n",
            "dropout_1 (Dropout)          (None, 256)               0         \n",
            "_________________________________________________________________\n",
            "dense_7 (Dense)              (None, 128)               32896     \n",
            "_________________________________________________________________\n",
            "leaky_re_lu_5 (LeakyReLU)    (None, 128)               0         \n",
            "_________________________________________________________________\n",
            "dropout_2 (Dropout)          (None, 128)               0         \n",
            "_________________________________________________________________\n",
            "dense_8 (Dense)              (None, 64)                8256      \n",
            "_________________________________________________________________\n",
            "leaky_re_lu_6 (LeakyReLU)    (None, 64)                0         \n",
            "_________________________________________________________________\n",
            "dropout_3 (Dropout)          (None, 64)                0         \n",
            "_________________________________________________________________\n",
            "dense_9 (Dense)              (None, 1)                 65        \n",
            "=================================================================\n",
            "Total params: 242,179\n",
            "Trainable params: 242,179\n",
            "Non-trainable params: 0\n",
            "_________________________________________________________________\n"
          ],
          "name": "stdout"
        }
      ]
    },
    {
      "cell_type": "markdown",
      "metadata": {
        "id": "kH6wjmK86GsV"
      },
      "source": [
        "1. Compiling the discriminator layer\n",
        "2. Compiling the GAN \n",
        "\n",
        "NOTE : the generator layer is not compiled seperately because it gets trained as part of the combined model but training the discriminator is necessary because it is trained before the combined model."
      ]
    },
    {
      "cell_type": "code",
      "metadata": {
        "trusted": true,
        "id": "BkXfLnKd6GsV"
      },
      "source": [
        "GAN =Sequential([generator,discriminator])\n",
        "discriminator.compile(optimizer='adam',loss='binary_crossentropy')\n",
        "discriminator.trainable = False"
      ],
      "execution_count": null,
      "outputs": []
    },
    {
      "cell_type": "code",
      "metadata": {
        "trusted": true,
        "id": "dKYWf90B6GsW"
      },
      "source": [
        "GAN.compile(optimizer='adam',loss='binary_crossentropy')"
      ],
      "execution_count": null,
      "outputs": []
    },
    {
      "cell_type": "code",
      "metadata": {
        "trusted": true,
        "id": "X-jSlCbk6GsW",
        "outputId": "f3999149-8ace-4fa8-e4bf-e04cec432df5"
      },
      "source": [
        "GAN.layers"
      ],
      "execution_count": null,
      "outputs": [
        {
          "output_type": "execute_result",
          "data": {
            "text/plain": [
              "[<keras.engine.sequential.Sequential at 0x7f6dd060f8d0>,\n",
              " <keras.engine.sequential.Sequential at 0x7f6dd087ca90>]"
            ]
          },
          "metadata": {
            "tags": []
          },
          "execution_count": 17
        }
      ]
    },
    {
      "cell_type": "code",
      "metadata": {
        "trusted": true,
        "id": "DqjE48Hn6GsX",
        "outputId": "1f2c564d-282b-40de-ec6a-6047de8ea7fd"
      },
      "source": [
        "GAN.summary()"
      ],
      "execution_count": null,
      "outputs": [
        {
          "output_type": "stream",
          "text": [
            "Model: \"sequential_3\"\n",
            "_________________________________________________________________\n",
            "Layer (type)                 Output Shape              Param #   \n",
            "=================================================================\n",
            "sequential_1 (Sequential)    (None, 28, 28, 1)         320656    \n",
            "_________________________________________________________________\n",
            "sequential_2 (Sequential)    (None, 1)                 242179    \n",
            "=================================================================\n",
            "Total params: 562,835\n",
            "Trainable params: 318,864\n",
            "Non-trainable params: 243,971\n",
            "_________________________________________________________________\n"
          ],
          "name": "stdout"
        }
      ]
    },
    {
      "cell_type": "code",
      "metadata": {
        "trusted": true,
        "id": "RHimhuLu6GsX"
      },
      "source": [
        "epochs = 30\n",
        "batch_size = 100\n",
        "noise_shape=100"
      ],
      "execution_count": null,
      "outputs": []
    },
    {
      "cell_type": "code",
      "metadata": {
        "trusted": true,
        "_kg_hide-output": true,
        "id": "z6JsAUgj6GsY",
        "outputId": "e4b9e613-48f6-4132-ede6-7fad9b1806b7"
      },
      "source": [
        "with tf.device('/gpu:0'):\n",
        " for epoch in range(epochs):\n",
        "    print(f\"Currently on Epoch {epoch+1}\")\n",
        "    \n",
        "    \n",
        "    for i in range(X_train.shape[0]//batch_size):\n",
        "        \n",
        "        if (i+1)%50 == 0:\n",
        "            print(f\"\\tCurrently on batch number {i+1} of {X_train.shape[0]//batch_size}\")\n",
        "            \n",
        "        noise=np.random.normal(size=[batch_size,noise_shape])\n",
        "       \n",
        "        gen_image = generator.predict_on_batch(noise)\n",
        "        \n",
        "        train_dataset = X_train[i*batch_size:(i+1)*batch_size]\n",
        "       \n",
        "        #training discriminator on real images\n",
        "        train_label=np.ones(shape=(batch_size,1))\n",
        "        discriminator.trainable = True\n",
        "        d_loss_real=discriminator.train_on_batch(train_dataset,train_label)\n",
        "        \n",
        "        #training discriminator on fake images\n",
        "        train_label=np.zeros(shape=(batch_size,1))\n",
        "        d_loss_fake=discriminator.train_on_batch(gen_image,train_label)\n",
        "        \n",
        "        \n",
        "        #training generator \n",
        "        noise=np.random.normal(size=[batch_size,noise_shape])\n",
        "        train_label=np.ones(shape=(batch_size,1))\n",
        "        discriminator.trainable = False\n",
        "        \n",
        "        d_g_loss_batch =GAN.train_on_batch(noise, train_label)\n",
        "        \n",
        "        \n",
        "        \n",
        "       \n",
        "    #plotting generated images at the start and then after every 10 epoch\n",
        "    if epoch % 10 == 0:\n",
        "        samples = 10\n",
        "        x_fake = generator.predict(np.random.normal(loc=0, scale=1, size=(samples, 100)))\n",
        "\n",
        "        for k in range(samples):\n",
        "            plt.subplot(2, 5, k+1)\n",
        "            plt.imshow(x_fake[k].reshape(28, 28), cmap='gray')\n",
        "            plt.xticks([])\n",
        "            plt.yticks([])\n",
        "\n",
        "        plt.tight_layout()\n",
        "        plt.show()\n",
        "\n",
        "        \n",
        "        \n",
        "print('Training is complete')"
      ],
      "execution_count": null,
      "outputs": [
        {
          "output_type": "stream",
          "text": [
            "Currently on Epoch 1\n",
            "\tCurrently on batch number 50 of 600\n",
            "\tCurrently on batch number 100 of 600\n",
            "\tCurrently on batch number 150 of 600\n",
            "\tCurrently on batch number 200 of 600\n",
            "\tCurrently on batch number 250 of 600\n",
            "\tCurrently on batch number 300 of 600\n",
            "\tCurrently on batch number 350 of 600\n",
            "\tCurrently on batch number 400 of 600\n",
            "\tCurrently on batch number 450 of 600\n",
            "\tCurrently on batch number 500 of 600\n",
            "\tCurrently on batch number 550 of 600\n",
            "\tCurrently on batch number 600 of 600\n"
          ],
          "name": "stdout"
        },
        {
          "output_type": "display_data",
          "data": {
            "text/plain": [
              "<Figure size 432x288 with 10 Axes>"
            ],
            "image/png": "[encoded data removed]"
          },
          "metadata": {
            "tags": []
          }
        },
        {
          "output_type": "stream",
          "text": [
            "Currently on Epoch 2\n",
            "\tCurrently on batch number 50 of 600\n",
            "\tCurrently on batch number 100 of 600\n",
            "\tCurrently on batch number 150 of 600\n",
            "\tCurrently on batch number 200 of 600\n",
            "\tCurrently on batch number 250 of 600\n",
            "\tCurrently on batch number 300 of 600\n",
            "\tCurrently on batch number 350 of 600\n",
            "\tCurrently on batch number 400 of 600\n",
            "\tCurrently on batch number 450 of 600\n",
            "\tCurrently on batch number 500 of 600\n",
            "\tCurrently on batch number 550 of 600\n",
            "\tCurrently on batch number 600 of 600\n",
            "Currently on Epoch 3\n",
            "\tCurrently on batch number 50 of 600\n",
            "\tCurrently on batch number 100 of 600\n",
            "\tCurrently on batch number 150 of 600\n",
            "\tCurrently on batch number 200 of 600\n",
            "\tCurrently on batch number 250 of 600\n",
            "\tCurrently on batch number 300 of 600\n",
            "\tCurrently on batch number 350 of 600\n",
            "\tCurrently on batch number 400 of 600\n",
            "\tCurrently on batch number 450 of 600\n",
            "\tCurrently on batch number 500 of 600\n",
            "\tCurrently on batch number 550 of 600\n",
            "\tCurrently on batch number 600 of 600\n",
            "Currently on Epoch 4\n",
            "\tCurrently on batch number 50 of 600\n",
            "\tCurrently on batch number 100 of 600\n",
            "\tCurrently on batch number 150 of 600\n",
            "\tCurrently on batch number 200 of 600\n",
            "\tCurrently on batch number 250 of 600\n",
            "\tCurrently on batch number 300 of 600\n",
            "\tCurrently on batch number 350 of 600\n",
            "\tCurrently on batch number 400 of 600\n",
            "\tCurrently on batch number 450 of 600\n",
            "\tCurrently on batch number 500 of 600\n",
            "\tCurrently on batch number 550 of 600\n",
            "\tCurrently on batch number 600 of 600\n",
            "Currently on Epoch 5\n",
            "\tCurrently on batch number 50 of 600\n",
            "\tCurrently on batch number 100 of 600\n",
            "\tCurrently on batch number 150 of 600\n",
            "\tCurrently on batch number 200 of 600\n",
            "\tCurrently on batch number 250 of 600\n",
            "\tCurrently on batch number 300 of 600\n",
            "\tCurrently on batch number 350 of 600\n",
            "\tCurrently on batch number 400 of 600\n",
            "\tCurrently on batch number 450 of 600\n",
            "\tCurrently on batch number 500 of 600\n",
            "\tCurrently on batch number 550 of 600\n",
            "\tCurrently on batch number 600 of 600\n",
            "Currently on Epoch 6\n",
            "\tCurrently on batch number 50 of 600\n",
            "\tCurrently on batch number 100 of 600\n",
            "\tCurrently on batch number 150 of 600\n",
            "\tCurrently on batch number 200 of 600\n",
            "\tCurrently on batch number 250 of 600\n",
            "\tCurrently on batch number 300 of 600\n",
            "\tCurrently on batch number 350 of 600\n",
            "\tCurrently on batch number 400 of 600\n",
            "\tCurrently on batch number 450 of 600\n",
            "\tCurrently on batch number 500 of 600\n",
            "\tCurrently on batch number 550 of 600\n",
            "\tCurrently on batch number 600 of 600\n",
            "Currently on Epoch 7\n",
            "\tCurrently on batch number 50 of 600\n",
            "\tCurrently on batch number 100 of 600\n",
            "\tCurrently on batch number 150 of 600\n",
            "\tCurrently on batch number 200 of 600\n",
            "\tCurrently on batch number 250 of 600\n",
            "\tCurrently on batch number 300 of 600\n",
            "\tCurrently on batch number 350 of 600\n",
            "\tCurrently on batch number 400 of 600\n",
            "\tCurrently on batch number 450 of 600\n",
            "\tCurrently on batch number 500 of 600\n",
            "\tCurrently on batch number 550 of 600\n",
            "\tCurrently on batch number 600 of 600\n",
            "Currently on Epoch 8\n",
            "\tCurrently on batch number 50 of 600\n",
            "\tCurrently on batch number 100 of 600\n",
            "\tCurrently on batch number 150 of 600\n",
            "\tCurrently on batch number 200 of 600\n",
            "\tCurrently on batch number 250 of 600\n",
            "\tCurrently on batch number 300 of 600\n",
            "\tCurrently on batch number 350 of 600\n",
            "\tCurrently on batch number 400 of 600\n",
            "\tCurrently on batch number 450 of 600\n",
            "\tCurrently on batch number 500 of 600\n",
            "\tCurrently on batch number 550 of 600\n",
            "\tCurrently on batch number 600 of 600\n",
            "Currently on Epoch 9\n",
            "\tCurrently on batch number 50 of 600\n",
            "\tCurrently on batch number 100 of 600\n",
            "\tCurrently on batch number 150 of 600\n",
            "\tCurrently on batch number 200 of 600\n",
            "\tCurrently on batch number 250 of 600\n",
            "\tCurrently on batch number 300 of 600\n",
            "\tCurrently on batch number 350 of 600\n",
            "\tCurrently on batch number 400 of 600\n",
            "\tCurrently on batch number 450 of 600\n",
            "\tCurrently on batch number 500 of 600\n",
            "\tCurrently on batch number 550 of 600\n",
            "\tCurrently on batch number 600 of 600\n",
            "Currently on Epoch 10\n",
            "\tCurrently on batch number 50 of 600\n",
            "\tCurrently on batch number 100 of 600\n",
            "\tCurrently on batch number 150 of 600\n",
            "\tCurrently on batch number 200 of 600\n",
            "\tCurrently on batch number 250 of 600\n",
            "\tCurrently on batch number 300 of 600\n",
            "\tCurrently on batch number 350 of 600\n",
            "\tCurrently on batch number 400 of 600\n",
            "\tCurrently on batch number 450 of 600\n",
            "\tCurrently on batch number 500 of 600\n",
            "\tCurrently on batch number 550 of 600\n",
            "\tCurrently on batch number 600 of 600\n",
            "Currently on Epoch 11\n",
            "\tCurrently on batch number 50 of 600\n",
            "\tCurrently on batch number 100 of 600\n",
            "\tCurrently on batch number 150 of 600\n",
            "\tCurrently on batch number 200 of 600\n",
            "\tCurrently on batch number 250 of 600\n",
            "\tCurrently on batch number 300 of 600\n",
            "\tCurrently on batch number 350 of 600\n",
            "\tCurrently on batch number 400 of 600\n",
            "\tCurrently on batch number 450 of 600\n",
            "\tCurrently on batch number 500 of 600\n",
            "\tCurrently on batch number 550 of 600\n",
            "\tCurrently on batch number 600 of 600\n"
          ],
          "name": "stdout"
        },
        {
          "output_type": "display_data",
          "data": {
            "text/plain": [
              "<Figure size 432x288 with 10 Axes>"
            ],
            "image/png": "[encoded data removed]"
          },
          "metadata": {
            "tags": []
          }
        },
        {
          "output_type": "stream",
          "text": [
            "Currently on Epoch 12\n",
            "\tCurrently on batch number 50 of 600\n",
            "\tCurrently on batch number 100 of 600\n",
            "\tCurrently on batch number 150 of 600\n",
            "\tCurrently on batch number 200 of 600\n",
            "\tCurrently on batch number 250 of 600\n",
            "\tCurrently on batch number 300 of 600\n",
            "\tCurrently on batch number 350 of 600\n",
            "\tCurrently on batch number 400 of 600\n",
            "\tCurrently on batch number 450 of 600\n",
            "\tCurrently on batch number 500 of 600\n",
            "\tCurrently on batch number 550 of 600\n",
            "\tCurrently on batch number 600 of 600\n",
            "Currently on Epoch 13\n",
            "\tCurrently on batch number 50 of 600\n",
            "\tCurrently on batch number 100 of 600\n",
            "\tCurrently on batch number 150 of 600\n",
            "\tCurrently on batch number 200 of 600\n",
            "\tCurrently on batch number 250 of 600\n",
            "\tCurrently on batch number 300 of 600\n",
            "\tCurrently on batch number 350 of 600\n",
            "\tCurrently on batch number 400 of 600\n",
            "\tCurrently on batch number 450 of 600\n",
            "\tCurrently on batch number 500 of 600\n",
            "\tCurrently on batch number 550 of 600\n",
            "\tCurrently on batch number 600 of 600\n",
            "Currently on Epoch 14\n",
            "\tCurrently on batch number 50 of 600\n",
            "\tCurrently on batch number 100 of 600\n",
            "\tCurrently on batch number 150 of 600\n",
            "\tCurrently on batch number 200 of 600\n",
            "\tCurrently on batch number 250 of 600\n",
            "\tCurrently on batch number 300 of 600\n",
            "\tCurrently on batch number 350 of 600\n",
            "\tCurrently on batch number 400 of 600\n",
            "\tCurrently on batch number 450 of 600\n",
            "\tCurrently on batch number 500 of 600\n",
            "\tCurrently on batch number 550 of 600\n",
            "\tCurrently on batch number 600 of 600\n",
            "Currently on Epoch 15\n",
            "\tCurrently on batch number 50 of 600\n",
            "\tCurrently on batch number 100 of 600\n",
            "\tCurrently on batch number 150 of 600\n",
            "\tCurrently on batch number 200 of 600\n",
            "\tCurrently on batch number 250 of 600\n",
            "\tCurrently on batch number 300 of 600\n",
            "\tCurrently on batch number 350 of 600\n",
            "\tCurrently on batch number 400 of 600\n",
            "\tCurrently on batch number 450 of 600\n",
            "\tCurrently on batch number 500 of 600\n",
            "\tCurrently on batch number 550 of 600\n",
            "\tCurrently on batch number 600 of 600\n",
            "Currently on Epoch 16\n",
            "\tCurrently on batch number 50 of 600\n",
            "\tCurrently on batch number 100 of 600\n",
            "\tCurrently on batch number 150 of 600\n",
            "\tCurrently on batch number 200 of 600\n",
            "\tCurrently on batch number 250 of 600\n",
            "\tCurrently on batch number 300 of 600\n",
            "\tCurrently on batch number 350 of 600\n",
            "\tCurrently on batch number 400 of 600\n",
            "\tCurrently on batch number 450 of 600\n",
            "\tCurrently on batch number 500 of 600\n",
            "\tCurrently on batch number 550 of 600\n",
            "\tCurrently on batch number 600 of 600\n",
            "Currently on Epoch 17\n",
            "\tCurrently on batch number 50 of 600\n",
            "\tCurrently on batch number 100 of 600\n",
            "\tCurrently on batch number 150 of 600\n",
            "\tCurrently on batch number 200 of 600\n",
            "\tCurrently on batch number 250 of 600\n",
            "\tCurrently on batch number 300 of 600\n",
            "\tCurrently on batch number 350 of 600\n",
            "\tCurrently on batch number 400 of 600\n",
            "\tCurrently on batch number 450 of 600\n",
            "\tCurrently on batch number 500 of 600\n",
            "\tCurrently on batch number 550 of 600\n",
            "\tCurrently on batch number 600 of 600\n",
            "Currently on Epoch 18\n",
            "\tCurrently on batch number 50 of 600\n",
            "\tCurrently on batch number 100 of 600\n",
            "\tCurrently on batch number 150 of 600\n",
            "\tCurrently on batch number 200 of 600\n",
            "\tCurrently on batch number 250 of 600\n",
            "\tCurrently on batch number 300 of 600\n",
            "\tCurrently on batch number 350 of 600\n",
            "\tCurrently on batch number 400 of 600\n",
            "\tCurrently on batch number 450 of 600\n",
            "\tCurrently on batch number 500 of 600\n",
            "\tCurrently on batch number 550 of 600\n",
            "\tCurrently on batch number 600 of 600\n",
            "Currently on Epoch 19\n",
            "\tCurrently on batch number 50 of 600\n",
            "\tCurrently on batch number 100 of 600\n",
            "\tCurrently on batch number 150 of 600\n",
            "\tCurrently on batch number 200 of 600\n",
            "\tCurrently on batch number 250 of 600\n",
            "\tCurrently on batch number 300 of 600\n",
            "\tCurrently on batch number 350 of 600\n",
            "\tCurrently on batch number 400 of 600\n",
            "\tCurrently on batch number 450 of 600\n",
            "\tCurrently on batch number 500 of 600\n",
            "\tCurrently on batch number 550 of 600\n",
            "\tCurrently on batch number 600 of 600\n",
            "Currently on Epoch 20\n",
            "\tCurrently on batch number 50 of 600\n",
            "\tCurrently on batch number 100 of 600\n",
            "\tCurrently on batch number 150 of 600\n",
            "\tCurrently on batch number 200 of 600\n",
            "\tCurrently on batch number 250 of 600\n",
            "\tCurrently on batch number 300 of 600\n",
            "\tCurrently on batch number 350 of 600\n",
            "\tCurrently on batch number 400 of 600\n",
            "\tCurrently on batch number 450 of 600\n",
            "\tCurrently on batch number 500 of 600\n",
            "\tCurrently on batch number 550 of 600\n",
            "\tCurrently on batch number 600 of 600\n",
            "Currently on Epoch 21\n",
            "\tCurrently on batch number 50 of 600\n",
            "\tCurrently on batch number 100 of 600\n",
            "\tCurrently on batch number 150 of 600\n",
            "\tCurrently on batch number 200 of 600\n",
            "\tCurrently on batch number 250 of 600\n",
            "\tCurrently on batch number 300 of 600\n",
            "\tCurrently on batch number 350 of 600\n",
            "\tCurrently on batch number 400 of 600\n",
            "\tCurrently on batch number 450 of 600\n",
            "\tCurrently on batch number 500 of 600\n",
            "\tCurrently on batch number 550 of 600\n",
            "\tCurrently on batch number 600 of 600\n"
          ],
          "name": "stdout"
        },
        {
          "output_type": "display_data",
          "data": {
            "text/plain": [
              "<Figure size 432x288 with 10 Axes>"
            ],
            "image/png": "[encoded data removed]"
          },
          "metadata": {
            "tags": []
          }
        },
        {
          "output_type": "stream",
          "text": [
            "Currently on Epoch 22\n",
            "\tCurrently on batch number 50 of 600\n",
            "\tCurrently on batch number 100 of 600\n",
            "\tCurrently on batch number 150 of 600\n",
            "\tCurrently on batch number 200 of 600\n",
            "\tCurrently on batch number 250 of 600\n",
            "\tCurrently on batch number 300 of 600\n",
            "\tCurrently on batch number 350 of 600\n",
            "\tCurrently on batch number 400 of 600\n",
            "\tCurrently on batch number 450 of 600\n",
            "\tCurrently on batch number 500 of 600\n",
            "\tCurrently on batch number 550 of 600\n",
            "\tCurrently on batch number 600 of 600\n",
            "Currently on Epoch 23\n",
            "\tCurrently on batch number 50 of 600\n",
            "\tCurrently on batch number 100 of 600\n",
            "\tCurrently on batch number 150 of 600\n",
            "\tCurrently on batch number 200 of 600\n",
            "\tCurrently on batch number 250 of 600\n",
            "\tCurrently on batch number 300 of 600\n",
            "\tCurrently on batch number 350 of 600\n",
            "\tCurrently on batch number 400 of 600\n",
            "\tCurrently on batch number 450 of 600\n",
            "\tCurrently on batch number 500 of 600\n",
            "\tCurrently on batch number 550 of 600\n",
            "\tCurrently on batch number 600 of 600\n",
            "Currently on Epoch 24\n",
            "\tCurrently on batch number 50 of 600\n",
            "\tCurrently on batch number 100 of 600\n",
            "\tCurrently on batch number 150 of 600\n",
            "\tCurrently on batch number 200 of 600\n",
            "\tCurrently on batch number 250 of 600\n",
            "\tCurrently on batch number 300 of 600\n",
            "\tCurrently on batch number 350 of 600\n",
            "\tCurrently on batch number 400 of 600\n",
            "\tCurrently on batch number 450 of 600\n",
            "\tCurrently on batch number 500 of 600\n",
            "\tCurrently on batch number 550 of 600\n",
            "\tCurrently on batch number 600 of 600\n",
            "Currently on Epoch 25\n",
            "\tCurrently on batch number 50 of 600\n",
            "\tCurrently on batch number 100 of 600\n",
            "\tCurrently on batch number 150 of 600\n",
            "\tCurrently on batch number 200 of 600\n",
            "\tCurrently on batch number 250 of 600\n",
            "\tCurrently on batch number 300 of 600\n",
            "\tCurrently on batch number 350 of 600\n",
            "\tCurrently on batch number 400 of 600\n",
            "\tCurrently on batch number 450 of 600\n",
            "\tCurrently on batch number 500 of 600\n",
            "\tCurrently on batch number 550 of 600\n",
            "\tCurrently on batch number 600 of 600\n",
            "Currently on Epoch 26\n",
            "\tCurrently on batch number 50 of 600\n",
            "\tCurrently on batch number 100 of 600\n",
            "\tCurrently on batch number 150 of 600\n",
            "\tCurrently on batch number 200 of 600\n",
            "\tCurrently on batch number 250 of 600\n",
            "\tCurrently on batch number 300 of 600\n",
            "\tCurrently on batch number 350 of 600\n",
            "\tCurrently on batch number 400 of 600\n",
            "\tCurrently on batch number 450 of 600\n",
            "\tCurrently on batch number 500 of 600\n",
            "\tCurrently on batch number 550 of 600\n",
            "\tCurrently on batch number 600 of 600\n",
            "Currently on Epoch 27\n",
            "\tCurrently on batch number 50 of 600\n",
            "\tCurrently on batch number 100 of 600\n",
            "\tCurrently on batch number 150 of 600\n",
            "\tCurrently on batch number 200 of 600\n",
            "\tCurrently on batch number 250 of 600\n",
            "\tCurrently on batch number 300 of 600\n",
            "\tCurrently on batch number 350 of 600\n",
            "\tCurrently on batch number 400 of 600\n",
            "\tCurrently on batch number 450 of 600\n",
            "\tCurrently on batch number 500 of 600\n",
            "\tCurrently on batch number 550 of 600\n",
            "\tCurrently on batch number 600 of 600\n",
            "Currently on Epoch 28\n",
            "\tCurrently on batch number 50 of 600\n",
            "\tCurrently on batch number 100 of 600\n",
            "\tCurrently on batch number 150 of 600\n",
            "\tCurrently on batch number 200 of 600\n",
            "\tCurrently on batch number 250 of 600\n",
            "\tCurrently on batch number 300 of 600\n",
            "\tCurrently on batch number 350 of 600\n",
            "\tCurrently on batch number 400 of 600\n",
            "\tCurrently on batch number 450 of 600\n",
            "\tCurrently on batch number 500 of 600\n",
            "\tCurrently on batch number 550 of 600\n",
            "\tCurrently on batch number 600 of 600\n",
            "Currently on Epoch 29\n",
            "\tCurrently on batch number 50 of 600\n",
            "\tCurrently on batch number 100 of 600\n",
            "\tCurrently on batch number 150 of 600\n",
            "\tCurrently on batch number 200 of 600\n",
            "\tCurrently on batch number 250 of 600\n",
            "\tCurrently on batch number 300 of 600\n",
            "\tCurrently on batch number 350 of 600\n",
            "\tCurrently on batch number 400 of 600\n",
            "\tCurrently on batch number 450 of 600\n",
            "\tCurrently on batch number 500 of 600\n",
            "\tCurrently on batch number 550 of 600\n",
            "\tCurrently on batch number 600 of 600\n",
            "Currently on Epoch 30\n",
            "\tCurrently on batch number 50 of 600\n",
            "\tCurrently on batch number 100 of 600\n",
            "\tCurrently on batch number 150 of 600\n",
            "\tCurrently on batch number 200 of 600\n",
            "\tCurrently on batch number 250 of 600\n",
            "\tCurrently on batch number 300 of 600\n",
            "\tCurrently on batch number 350 of 600\n",
            "\tCurrently on batch number 400 of 600\n",
            "\tCurrently on batch number 450 of 600\n",
            "\tCurrently on batch number 500 of 600\n",
            "\tCurrently on batch number 550 of 600\n",
            "\tCurrently on batch number 600 of 600\n",
            "Training is complete\n"
          ],
          "name": "stdout"
        }
      ]
    },
    {
      "cell_type": "code",
      "metadata": {
        "trusted": true,
        "id": "2dBesAvm6GsZ"
      },
      "source": [
        "noise=np.random.normal(size=[10,noise_shape])\n",
        "\n",
        "gen_image = generator.predict(noise)"
      ],
      "execution_count": null,
      "outputs": []
    },
    {
      "cell_type": "markdown",
      "metadata": {
        "id": "UTYaHbbs6GsZ"
      },
      "source": [
        "noise generated using np.random.normal is given to as input to the generator. In the next step the generator produces batches of meaningful alike image from the random distribution."
      ]
    },
    {
      "cell_type": "code",
      "metadata": {
        "trusted": true,
        "id": "OB8bHebX6GsZ",
        "outputId": "e8dedb85-ffe4-4181-d645-0f9ca397511c"
      },
      "source": [
        "plt.imshow(noise)\n",
        "plt.title('How the noise looks')"
      ],
      "execution_count": null,
      "outputs": [
        {
          "output_type": "execute_result",
          "data": {
            "text/plain": [
              "Text(0.5, 1.0, 'How the noise looks')"
            ]
          },
          "metadata": {
            "tags": []
          },
          "execution_count": 22
        },
        {
          "output_type": "display_data",
          "data": {
            "text/plain": [
              "<Figure size 432x288 with 1 Axes>"
            ],
            "image/png": "[encoded data removed]"
          },
          "metadata": {
            "tags": [],
            "needs_background": "light"
          }
        }
      ]
    },
    {
      "cell_type": "markdown",
      "metadata": {
        "id": "V6aKDt1u6Gsa"
      },
      "source": [
        "**Generator producing images from noise**"
      ]
    },
    {
      "cell_type": "code",
      "metadata": {
        "trusted": true,
        "id": "ILFL91Hh6Gsa",
        "outputId": "058c4103-0491-4171-8ad0-51afbc2c4b79"
      },
      "source": [
        "fig,axe=plt.subplots(2,5)\n",
        "fig.suptitle('Generated Images from Noise using GANs')\n",
        "idx=0\n",
        "for i in range(2):\n",
        "    for j in range(5):\n",
        "         axe[i,j].imshow(gen_image[idx].reshape(28,28),cmap='gray')\n",
        "         idx+=1"
      ],
      "execution_count": null,
      "outputs": [
        {
          "output_type": "display_data",
          "data": {
            "text/plain": [
              "<Figure size 432x288 with 10 Axes>"
            ],
            "image/png": "[encoded data removed]"
          },
          "metadata": {
            "tags": [],
            "needs_background": "light"
          }
        }
      ]
    },
    {
      "cell_type": "markdown",
      "metadata": {
        "id": "2R0eqL026Gsb"
      },
      "source": [
        "**Inference from generated images**\n",
        "\n",
        "As discussed before after iterating through few tens of epochs the generator learns to trick the discriminator with only one specific category of output image and hence stops learning beyond that point. The ouput after complete training is thus only single type of images almost similar in features ,i.e, shirts in this particular case and there is no variation in generated image features.\n",
        "\n",
        "The above issue can be resolved using DCGANs as given below."
      ]
    },
    {
      "cell_type": "markdown",
      "metadata": {
        "id": "tvlxTa0M6Gsb"
      },
      "source": [
        "# **GAN using Deep Convolutions**"
      ]
    },
    {
      "cell_type": "markdown",
      "metadata": {
        "id": "VAwFFIVU6Gsc"
      },
      "source": [
        "In this model we construct the generator using transpose convolution layers instead of simple dense layers which helps better in feature capturing and prevents the issue as described earlier. Similarly while building the discriminator layer,instead of simple dense units it uses convolution layers to increase efficiency of it's classification.\n",
        "\n",
        "\n",
        "![GANsdeep.png](https://dphi-courses.s3.ap-south-1.amazonaws.com/bootcamp-content-images/GANs_deep_convolutions.png)\n",
        "\n",
        "\n",
        "The paper that proposed this architecture https://arxiv.org/abs/1511.06434\n",
        "To know more about Conv2D https://keras.io/layers/convolutional/"
      ]
    },
    {
      "cell_type": "code",
      "metadata": {
        "trusted": true,
        "id": "Z6BiMMR16Gsc"
      },
      "source": [
        "generator = Sequential()\n",
        "generator.add(Dense(7 * 7 * 128, input_shape=[100]))\n",
        "generator.add(Reshape([7, 7, 128]))\n",
        "generator.add(BatchNormalization())\n",
        "generator.add(Conv2DTranspose(64, kernel_size=5, strides=2, padding=\"same\",\n",
        "                                 activation=\"relu\"))\n",
        "generator.add(BatchNormalization())\n",
        "generator.add(Conv2DTranspose(1, kernel_size=5, strides=2, padding=\"same\",\n",
        "                                 activation=\"tanh\"))"
      ],
      "execution_count": null,
      "outputs": []
    },
    {
      "cell_type": "code",
      "metadata": {
        "trusted": true,
        "id": "JiexwP3q6Gsc",
        "outputId": "cbb567e7-732e-41b6-e986-28f9399b9a3c"
      },
      "source": [
        "generator.summary()"
      ],
      "execution_count": null,
      "outputs": [
        {
          "output_type": "stream",
          "text": [
            "Model: \"sequential_4\"\n",
            "_________________________________________________________________\n",
            "Layer (type)                 Output Shape              Param #   \n",
            "=================================================================\n",
            "dense_10 (Dense)             (None, 6272)              633472    \n",
            "_________________________________________________________________\n",
            "reshape_2 (Reshape)          (None, 7, 7, 128)         0         \n",
            "_________________________________________________________________\n",
            "batch_normalization_4 (Batch (None, 7, 7, 128)         512       \n",
            "_________________________________________________________________\n",
            "conv2d_transpose_1 (Conv2DTr (None, 14, 14, 64)        204864    \n",
            "_________________________________________________________________\n",
            "batch_normalization_5 (Batch (None, 14, 14, 64)        256       \n",
            "_________________________________________________________________\n",
            "conv2d_transpose_2 (Conv2DTr (None, 28, 28, 1)         1601      \n",
            "=================================================================\n",
            "Total params: 840,705\n",
            "Trainable params: 840,321\n",
            "Non-trainable params: 384\n",
            "_________________________________________________________________\n"
          ],
          "name": "stdout"
        }
      ]
    },
    {
      "cell_type": "code",
      "metadata": {
        "trusted": true,
        "id": "cQ-wXQFl6Gsd",
        "outputId": "5353d571-0952-433b-a93c-819addc179c6"
      },
      "source": [
        "discriminator = Sequential()\n",
        "discriminator.add(Conv2D(64, kernel_size=5, strides=2, padding=\"same\",\n",
        "                        activation=LeakyReLU(0.3),\n",
        "                        input_shape=[28, 28, 1]))\n",
        "discriminator.add(Dropout(0.5))\n",
        "discriminator.add(Conv2D(128, kernel_size=5, strides=2, padding=\"same\",\n",
        "                        activation=LeakyReLU(0.3)))\n",
        "discriminator.add(Dropout(0.5))\n",
        "discriminator.add(Flatten())\n",
        "discriminator.add(Dense(1, activation=\"sigmoid\"))"
      ],
      "execution_count": null,
      "outputs": [
        {
          "output_type": "stream",
          "text": [
            "/opt/conda/lib/python3.7/site-packages/keras/activations.py:235: UserWarning: Do not pass a layer instance (such as LeakyReLU) as the activation argument of another layer. Instead, advanced activation layers should be used just like any other layer in a model.\n",
            "  identifier=identifier.__class__.__name__))\n"
          ],
          "name": "stderr"
        }
      ]
    },
    {
      "cell_type": "code",
      "metadata": {
        "trusted": true,
        "id": "FM_J4mvI6Gse",
        "outputId": "857c2455-6ed6-43f8-f7b9-7e663141f384"
      },
      "source": [
        "discriminator.summary()"
      ],
      "execution_count": null,
      "outputs": [
        {
          "output_type": "stream",
          "text": [
            "Model: \"sequential_5\"\n",
            "_________________________________________________________________\n",
            "Layer (type)                 Output Shape              Param #   \n",
            "=================================================================\n",
            "conv2d_1 (Conv2D)            (None, 14, 14, 64)        1664      \n",
            "_________________________________________________________________\n",
            "dropout_4 (Dropout)          (None, 14, 14, 64)        0         \n",
            "_________________________________________________________________\n",
            "conv2d_2 (Conv2D)            (None, 7, 7, 128)         204928    \n",
            "_________________________________________________________________\n",
            "dropout_5 (Dropout)          (None, 7, 7, 128)         0         \n",
            "_________________________________________________________________\n",
            "flatten_2 (Flatten)          (None, 6272)              0         \n",
            "_________________________________________________________________\n",
            "dense_11 (Dense)             (None, 1)                 6273      \n",
            "=================================================================\n",
            "Total params: 212,865\n",
            "Trainable params: 212,865\n",
            "Non-trainable params: 0\n",
            "_________________________________________________________________\n"
          ],
          "name": "stdout"
        }
      ]
    },
    {
      "cell_type": "code",
      "metadata": {
        "trusted": true,
        "id": "VgR9vCNh6Gse"
      },
      "source": [
        "GAN =Sequential([generator,discriminator])\n",
        "discriminator.compile(optimizer='adam',loss='binary_crossentropy')\n",
        "discriminator.trainable = False"
      ],
      "execution_count": null,
      "outputs": []
    },
    {
      "cell_type": "code",
      "metadata": {
        "trusted": true,
        "id": "Eca9oExx6Gse"
      },
      "source": [
        "GAN.compile(optimizer='adam',loss='binary_crossentropy')"
      ],
      "execution_count": null,
      "outputs": []
    },
    {
      "cell_type": "code",
      "metadata": {
        "trusted": true,
        "id": "oGWi6Jih6Gsf",
        "outputId": "87f4b87c-d0a9-4da9-a6a7-8fd58519e92a"
      },
      "source": [
        "GAN.layers"
      ],
      "execution_count": null,
      "outputs": [
        {
          "output_type": "execute_result",
          "data": {
            "text/plain": [
              "[<keras.engine.sequential.Sequential at 0x7f6d880a0fd0>,\n",
              " <keras.engine.sequential.Sequential at 0x7f6d80218f10>]"
            ]
          },
          "metadata": {
            "tags": []
          },
          "execution_count": 30
        }
      ]
    },
    {
      "cell_type": "code",
      "metadata": {
        "trusted": true,
        "id": "Lg1DLfYc6Gsf",
        "outputId": "8b372342-1773-4139-f1d8-df7927eccf02"
      },
      "source": [
        "GAN.summary()"
      ],
      "execution_count": null,
      "outputs": [
        {
          "output_type": "stream",
          "text": [
            "Model: \"sequential_6\"\n",
            "_________________________________________________________________\n",
            "Layer (type)                 Output Shape              Param #   \n",
            "=================================================================\n",
            "sequential_4 (Sequential)    (None, 28, 28, 1)         840705    \n",
            "_________________________________________________________________\n",
            "sequential_5 (Sequential)    (None, 1)                 212865    \n",
            "=================================================================\n",
            "Total params: 1,053,570\n",
            "Trainable params: 840,321\n",
            "Non-trainable params: 213,249\n",
            "_________________________________________________________________\n"
          ],
          "name": "stdout"
        }
      ]
    },
    {
      "cell_type": "code",
      "metadata": {
        "trusted": true,
        "id": "kygR8bXW6Gsg"
      },
      "source": [
        "epochs = 150 #vary epoch size as per required to train the model\n",
        "batch_size = 100"
      ],
      "execution_count": null,
      "outputs": []
    },
    {
      "cell_type": "code",
      "metadata": {
        "trusted": true,
        "id": "OYu7QAej6Gsg"
      },
      "source": [
        "noise_shape=100"
      ],
      "execution_count": null,
      "outputs": []
    },
    {
      "cell_type": "code",
      "metadata": {
        "trusted": true,
        "_kg_hide-output": true,
        "id": "9dQwdRPP6Gsh",
        "outputId": "08ad36fa-1fd9-401d-ead5-62666ea9138b"
      },
      "source": [
        "\n",
        "with tf.device('/gpu:0'):\n",
        " for epoch in range(epochs):\n",
        "    print(f\"Currently on Epoch {epoch+1}\")\n",
        "    \n",
        "    \n",
        "    for i in range(X_train.shape[0]//batch_size):\n",
        "        \n",
        "        if (i+1)%50 == 0:\n",
        "            print(f\"\\tCurrently on batch number {i+1} of {X_train.shape[0]//batch_size}\")\n",
        "            \n",
        "        noise=np.random.normal(size=[batch_size,noise_shape])\n",
        "       \n",
        "        gen_image = generator.predict_on_batch(noise)\n",
        "        \n",
        "        train_dataset = X_train[i*batch_size:(i+1)*batch_size]\n",
        "       \n",
        "        #training discriminator on real images\n",
        "        train_label=np.ones(shape=(batch_size,1))\n",
        "        discriminator.trainable = True\n",
        "        d_loss_real=discriminator.train_on_batch(train_dataset,train_label)\n",
        "        \n",
        "        #training discriminator on fake images\n",
        "        train_label=np.zeros(shape=(batch_size,1))\n",
        "        d_loss_fake=discriminator.train_on_batch(gen_image,train_label)\n",
        "        \n",
        "        \n",
        "        #training generator \n",
        "        noise=np.random.normal(size=[batch_size,noise_shape])\n",
        "        train_label=np.ones(shape=(batch_size,1))\n",
        "        discriminator.trainable = False #while training the generator as combined model,discriminator training should be turned off\n",
        "        \n",
        "        d_g_loss_batch =GAN.train_on_batch(noise, train_label)\n",
        "        \n",
        "        \n",
        "        \n",
        "       \n",
        "    #plotting generated images at the start and then after every 10 epoch\n",
        "    if epoch % 10 == 0:\n",
        "        samples = 10\n",
        "        x_fake = generator.predict(np.random.normal(loc=0, scale=1, size=(samples, 100)))\n",
        "\n",
        "        for k in range(samples):\n",
        "            plt.subplot(2, 5, k+1)\n",
        "            plt.imshow(x_fake[k].reshape(28, 28), cmap='gray')\n",
        "            plt.xticks([])\n",
        "            plt.yticks([])\n",
        "\n",
        "        plt.tight_layout()\n",
        "        plt.show()\n",
        "\n",
        "        \n",
        "        \n",
        "print('Training is complete')"
      ],
      "execution_count": null,
      "outputs": [
        {
          "output_type": "stream",
          "text": [
            "Currently on Epoch 1\n",
            "\tCurrently on batch number 50 of 600\n",
            "\tCurrently on batch number 100 of 600\n",
            "\tCurrently on batch number 150 of 600\n",
            "\tCurrently on batch number 200 of 600\n",
            "\tCurrently on batch number 250 of 600\n",
            "\tCurrently on batch number 300 of 600\n",
            "\tCurrently on batch number 350 of 600\n",
            "\tCurrently on batch number 400 of 600\n",
            "\tCurrently on batch number 450 of 600\n",
            "\tCurrently on batch number 500 of 600\n",
            "\tCurrently on batch number 550 of 600\n",
            "\tCurrently on batch number 600 of 600\n"
          ],
          "name": "stdout"
        },
        {
          "output_type": "display_data",
          "data": {
            "text/plain": [
              "<Figure size 432x288 with 10 Axes>"
            ],
            "image/png": "[encoded data removed]"
          },
          "metadata": {
            "tags": []
          }
        },
        {
          "output_type": "stream",
          "text": [
            "Currently on Epoch 2\n",
            "\tCurrently on batch number 50 of 600\n",
            "\tCurrently on batch number 100 of 600\n",
            "\tCurrently on batch number 150 of 600\n",
            "\tCurrently on batch number 200 of 600\n",
            "\tCurrently on batch number 250 of 600\n",
            "\tCurrently on batch number 300 of 600\n",
            "\tCurrently on batch number 350 of 600\n",
            "\tCurrently on batch number 400 of 600\n",
            "\tCurrently on batch number 450 of 600\n",
            "\tCurrently on batch number 500 of 600\n",
            "\tCurrently on batch number 550 of 600\n",
            "\tCurrently on batch number 600 of 600\n",
            "Currently on Epoch 3\n",
            "\tCurrently on batch number 50 of 600\n",
            "\tCurrently on batch number 100 of 600\n",
            "\tCurrently on batch number 150 of 600\n",
            "\tCurrently on batch number 200 of 600\n",
            "\tCurrently on batch number 250 of 600\n",
            "\tCurrently on batch number 300 of 600\n",
            "\tCurrently on batch number 350 of 600\n",
            "\tCurrently on batch number 400 of 600\n",
            "\tCurrently on batch number 450 of 600\n",
            "\tCurrently on batch number 500 of 600\n",
            "\tCurrently on batch number 550 of 600\n",
            "\tCurrently on batch number 600 of 600\n",
            "Currently on Epoch 4\n",
            "\tCurrently on batch number 50 of 600\n",
            "\tCurrently on batch number 100 of 600\n",
            "\tCurrently on batch number 150 of 600\n",
            "\tCurrently on batch number 200 of 600\n",
            "\tCurrently on batch number 250 of 600\n",
            "\tCurrently on batch number 300 of 600\n",
            "\tCurrently on batch number 350 of 600\n",
            "\tCurrently on batch number 400 of 600\n",
            "\tCurrently on batch number 450 of 600\n",
            "\tCurrently on batch number 500 of 600\n",
            "\tCurrently on batch number 550 of 600\n",
            "\tCurrently on batch number 600 of 600\n",
            "Currently on Epoch 5\n",
            "\tCurrently on batch number 50 of 600\n",
            "\tCurrently on batch number 100 of 600\n",
            "\tCurrently on batch number 150 of 600\n",
            "\tCurrently on batch number 200 of 600\n",
            "\tCurrently on batch number 250 of 600\n",
            "\tCurrently on batch number 300 of 600\n",
            "\tCurrently on batch number 350 of 600\n",
            "\tCurrently on batch number 400 of 600\n",
            "\tCurrently on batch number 450 of 600\n",
            "\tCurrently on batch number 500 of 600\n",
            "\tCurrently on batch number 550 of 600\n",
            "\tCurrently on batch number 600 of 600\n",
            "Currently on Epoch 6\n",
            "\tCurrently on batch number 50 of 600\n",
            "\tCurrently on batch number 100 of 600\n",
            "\tCurrently on batch number 150 of 600\n",
            "\tCurrently on batch number 200 of 600\n",
            "\tCurrently on batch number 250 of 600\n",
            "\tCurrently on batch number 300 of 600\n",
            "\tCurrently on batch number 350 of 600\n",
            "\tCurrently on batch number 400 of 600\n",
            "\tCurrently on batch number 450 of 600\n",
            "\tCurrently on batch number 500 of 600\n",
            "\tCurrently on batch number 550 of 600\n",
            "\tCurrently on batch number 600 of 600\n",
            "Currently on Epoch 7\n",
            "\tCurrently on batch number 50 of 600\n",
            "\tCurrently on batch number 100 of 600\n",
            "\tCurrently on batch number 150 of 600\n",
            "\tCurrently on batch number 200 of 600\n",
            "\tCurrently on batch number 250 of 600\n",
            "\tCurrently on batch number 300 of 600\n",
            "\tCurrently on batch number 350 of 600\n",
            "\tCurrently on batch number 400 of 600\n",
            "\tCurrently on batch number 450 of 600\n",
            "\tCurrently on batch number 500 of 600\n",
            "\tCurrently on batch number 550 of 600\n",
            "\tCurrently on batch number 600 of 600\n",
            "Currently on Epoch 8\n",
            "\tCurrently on batch number 50 of 600\n",
            "\tCurrently on batch number 100 of 600\n",
            "\tCurrently on batch number 150 of 600\n",
            "\tCurrently on batch number 200 of 600\n",
            "\tCurrently on batch number 250 of 600\n",
            "\tCurrently on batch number 300 of 600\n",
            "\tCurrently on batch number 350 of 600\n",
            "\tCurrently on batch number 400 of 600\n",
            "\tCurrently on batch number 450 of 600\n",
            "\tCurrently on batch number 500 of 600\n",
            "\tCurrently on batch number 550 of 600\n",
            "\tCurrently on batch number 600 of 600\n",
            "Currently on Epoch 9\n",
            "\tCurrently on batch number 50 of 600\n",
            "\tCurrently on batch number 100 of 600\n",
            "\tCurrently on batch number 150 of 600\n",
            "\tCurrently on batch number 200 of 600\n",
            "\tCurrently on batch number 250 of 600\n",
            "\tCurrently on batch number 300 of 600\n",
            "\tCurrently on batch number 350 of 600\n",
            "\tCurrently on batch number 400 of 600\n",
            "\tCurrently on batch number 450 of 600\n",
            "\tCurrently on batch number 500 of 600\n",
            "\tCurrently on batch number 550 of 600\n",
            "\tCurrently on batch number 600 of 600\n",
            "Currently on Epoch 10\n",
            "\tCurrently on batch number 50 of 600\n",
            "\tCurrently on batch number 100 of 600\n",
            "\tCurrently on batch number 150 of 600\n",
            "\tCurrently on batch number 200 of 600\n",
            "\tCurrently on batch number 250 of 600\n",
            "\tCurrently on batch number 300 of 600\n",
            "\tCurrently on batch number 350 of 600\n",
            "\tCurrently on batch number 400 of 600\n",
            "\tCurrently on batch number 450 of 600\n",
            "\tCurrently on batch number 500 of 600\n",
            "\tCurrently on batch number 550 of 600\n",
            "\tCurrently on batch number 600 of 600\n",
            "Currently on Epoch 11\n",
            "\tCurrently on batch number 50 of 600\n",
            "\tCurrently on batch number 100 of 600\n",
            "\tCurrently on batch number 150 of 600\n",
            "\tCurrently on batch number 200 of 600\n",
            "\tCurrently on batch number 250 of 600\n",
            "\tCurrently on batch number 300 of 600\n",
            "\tCurrently on batch number 350 of 600\n",
            "\tCurrently on batch number 400 of 600\n",
            "\tCurrently on batch number 450 of 600\n",
            "\tCurrently on batch number 500 of 600\n",
            "\tCurrently on batch number 550 of 600\n",
            "\tCurrently on batch number 600 of 600\n"
          ],
          "name": "stdout"
        },
        {
          "output_type": "display_data",
          "data": {
            "text/plain": [
              "<Figure size 432x288 with 10 Axes>"
            ],
            "image/png": "[encoded data removed]"
          },
          "metadata": {
            "tags": []
          }
        },
        {
          "output_type": "stream",
          "text": [
            "Currently on Epoch 12\n",
            "\tCurrently on batch number 50 of 600\n",
            "\tCurrently on batch number 100 of 600\n",
            "\tCurrently on batch number 150 of 600\n",
            "\tCurrently on batch number 200 of 600\n",
            "\tCurrently on batch number 250 of 600\n",
            "\tCurrently on batch number 300 of 600\n",
            "\tCurrently on batch number 350 of 600\n",
            "\tCurrently on batch number 400 of 600\n",
            "\tCurrently on batch number 450 of 600\n",
            "\tCurrently on batch number 500 of 600\n",
            "\tCurrently on batch number 550 of 600\n",
            "\tCurrently on batch number 600 of 600\n",
            "Currently on Epoch 13\n",
            "\tCurrently on batch number 50 of 600\n",
            "\tCurrently on batch number 100 of 600\n",
            "\tCurrently on batch number 150 of 600\n",
            "\tCurrently on batch number 200 of 600\n",
            "\tCurrently on batch number 250 of 600\n",
            "\tCurrently on batch number 300 of 600\n",
            "\tCurrently on batch number 350 of 600\n",
            "\tCurrently on batch number 400 of 600\n",
            "\tCurrently on batch number 450 of 600\n",
            "\tCurrently on batch number 500 of 600\n",
            "\tCurrently on batch number 550 of 600\n",
            "\tCurrently on batch number 600 of 600\n",
            "Currently on Epoch 14\n",
            "\tCurrently on batch number 50 of 600\n",
            "\tCurrently on batch number 100 of 600\n",
            "\tCurrently on batch number 150 of 600\n",
            "\tCurrently on batch number 200 of 600\n",
            "\tCurrently on batch number 250 of 600\n",
            "\tCurrently on batch number 300 of 600\n",
            "\tCurrently on batch number 350 of 600\n",
            "\tCurrently on batch number 400 of 600\n",
            "\tCurrently on batch number 450 of 600\n",
            "\tCurrently on batch number 500 of 600\n",
            "\tCurrently on batch number 550 of 600\n",
            "\tCurrently on batch number 600 of 600\n",
            "Currently on Epoch 15\n",
            "\tCurrently on batch number 50 of 600\n",
            "\tCurrently on batch number 100 of 600\n",
            "\tCurrently on batch number 150 of 600\n",
            "\tCurrently on batch number 200 of 600\n",
            "\tCurrently on batch number 250 of 600\n",
            "\tCurrently on batch number 300 of 600\n",
            "\tCurrently on batch number 350 of 600\n",
            "\tCurrently on batch number 400 of 600\n",
            "\tCurrently on batch number 450 of 600\n",
            "\tCurrently on batch number 500 of 600\n",
            "\tCurrently on batch number 550 of 600\n",
            "\tCurrently on batch number 600 of 600\n",
            "Currently on Epoch 16\n",
            "\tCurrently on batch number 50 of 600\n",
            "\tCurrently on batch number 100 of 600\n",
            "\tCurrently on batch number 150 of 600\n",
            "\tCurrently on batch number 200 of 600\n",
            "\tCurrently on batch number 250 of 600\n",
            "\tCurrently on batch number 300 of 600\n",
            "\tCurrently on batch number 350 of 600\n",
            "\tCurrently on batch number 400 of 600\n",
            "\tCurrently on batch number 450 of 600\n",
            "\tCurrently on batch number 500 of 600\n",
            "\tCurrently on batch number 550 of 600\n",
            "\tCurrently on batch number 600 of 600\n",
            "Currently on Epoch 17\n",
            "\tCurrently on batch number 50 of 600\n",
            "\tCurrently on batch number 100 of 600\n",
            "\tCurrently on batch number 150 of 600\n",
            "\tCurrently on batch number 200 of 600\n",
            "\tCurrently on batch number 250 of 600\n",
            "\tCurrently on batch number 300 of 600\n",
            "\tCurrently on batch number 350 of 600\n",
            "\tCurrently on batch number 400 of 600\n",
            "\tCurrently on batch number 450 of 600\n",
            "\tCurrently on batch number 500 of 600\n",
            "\tCurrently on batch number 550 of 600\n",
            "\tCurrently on batch number 600 of 600\n",
            "Currently on Epoch 18\n",
            "\tCurrently on batch number 50 of 600\n",
            "\tCurrently on batch number 100 of 600\n",
            "\tCurrently on batch number 150 of 600\n",
            "\tCurrently on batch number 200 of 600\n",
            "\tCurrently on batch number 250 of 600\n",
            "\tCurrently on batch number 300 of 600\n",
            "\tCurrently on batch number 350 of 600\n",
            "\tCurrently on batch number 400 of 600\n",
            "\tCurrently on batch number 450 of 600\n",
            "\tCurrently on batch number 500 of 600\n",
            "\tCurrently on batch number 550 of 600\n",
            "\tCurrently on batch number 600 of 600\n",
            "Currently on Epoch 19\n",
            "\tCurrently on batch number 50 of 600\n",
            "\tCurrently on batch number 100 of 600\n",
            "\tCurrently on batch number 150 of 600\n",
            "\tCurrently on batch number 200 of 600\n",
            "\tCurrently on batch number 250 of 600\n",
            "\tCurrently on batch number 300 of 600\n",
            "\tCurrently on batch number 350 of 600\n",
            "\tCurrently on batch number 400 of 600\n",
            "\tCurrently on batch number 450 of 600\n",
            "\tCurrently on batch number 500 of 600\n",
            "\tCurrently on batch number 550 of 600\n",
            "\tCurrently on batch number 600 of 600\n",
            "Currently on Epoch 20\n",
            "\tCurrently on batch number 50 of 600\n",
            "\tCurrently on batch number 100 of 600\n",
            "\tCurrently on batch number 150 of 600\n",
            "\tCurrently on batch number 200 of 600\n",
            "\tCurrently on batch number 250 of 600\n",
            "\tCurrently on batch number 300 of 600\n",
            "\tCurrently on batch number 350 of 600\n",
            "\tCurrently on batch number 400 of 600\n",
            "\tCurrently on batch number 450 of 600\n",
            "\tCurrently on batch number 500 of 600\n",
            "\tCurrently on batch number 550 of 600\n",
            "\tCurrently on batch number 600 of 600\n",
            "Training is complete\n"
          ],
          "name": "stdout"
        }
      ]
    },
    {
      "cell_type": "code",
      "metadata": {
        "trusted": true,
        "id": "AiMJup7q6Gsh"
      },
      "source": [
        "noise=np.random.normal(loc=0, scale=1, size=(100,noise_shape))\n",
        "\n",
        "gen_image = generator.predict(noise)"
      ],
      "execution_count": null,
      "outputs": []
    },
    {
      "cell_type": "code",
      "metadata": {
        "trusted": true,
        "id": "ZYVWQAn86Gsi",
        "outputId": "fcec2089-9db8-443c-9fd1-b7b2b8a52aab"
      },
      "source": [
        "fig,axe=plt.subplots(2,5)\n",
        "fig.suptitle(\"Actual Images\")\n",
        "idx = 0\n",
        "for i in range(2):\n",
        "    for j in range(5):\n",
        "        axe[i,j].imshow(X_train[idx].reshape(28,28),cmap='gray')\n",
        "        idx+=10"
      ],
      "execution_count": null,
      "outputs": [
        {
          "output_type": "display_data",
          "data": {
            "text/plain": [
              "<Figure size 432x288 with 10 Axes>"
            ],
            "image/png": "[encoded data removed]"
          },
          "metadata": {
            "tags": [],
            "needs_background": "light"
          }
        }
      ]
    },
    {
      "cell_type": "code",
      "metadata": {
        "trusted": true,
        "id": "EGnkXKS26Gsi",
        "outputId": "c2576a9e-125b-4546-d1d3-02ee72d33056"
      },
      "source": [
        "fig,axe=plt.subplots(2,5)\n",
        "fig.suptitle('Generated Images from Noise using DCGANs')\n",
        "idx=0\n",
        "for i in range(2):\n",
        "     for j in range(5):\n",
        "         axe[i,j].imshow(gen_image[idx].reshape(28,28),cmap='gray')\n",
        "         idx+=3"
      ],
      "execution_count": null,
      "outputs": [
        {
          "output_type": "display_data",
          "data": {
            "text/plain": [
              "<Figure size 432x288 with 10 Axes>"
            ],
            "image/png": "[encoded data removed]"
          },
          "metadata": {
            "tags": [],
            "needs_background": "light"
          }
        }
      ]
    },
    {
      "cell_type": "markdown",
      "metadata": {
        "id": "ucppZI7N6Gsj"
      },
      "source": [
        "# **Inference**\n",
        "\n",
        "Introduction of deep convolution GAN helps in improving the variation in the output data and prevents the model from being stuck on single type of image. The interesting fact here seems that the generator being capable of creating meaningful images from noise inputs without even itself seeing the actual images and that's what makes GANS so interesting."
      ]
    },
    {
      "cell_type": "markdown",
      "metadata": {
        "id": "QyGApvrb6Gsj"
      },
      "source": [
        "# **References**\n",
        "\n",
        "1. https://arxiv.org/abs/1406.2661 - GANs paper in 2014 by Ian J. Goodfellow and others.\n",
        "2. https://arxiv.org/abs/1511.06434 - DCGANs in 2016\n",
        "3. https://arxiv.org/pdf/1611.02163.pdf - 2017 ICLR paper \n",
        "4. https://towardsdatascience.com/understanding-generative-adversarial-networks-gans-cd6e4651a29"
      ]
    }
  ]
}