{
 "cells": [
  {
   "cell_type": "code",
   "execution_count": 9,
   "id": "1f097ae5",
   "metadata": {},
   "outputs": [],
   "source": [
    "import numpy as np\n",
    "import matplotlib.pyplot as plt\n",
    "import pandas as pd\n"
   ]
  },
  {
   "cell_type": "code",
   "execution_count": 10,
   "id": "b9229dba",
   "metadata": {},
   "outputs": [],
   "source": [
    "X = np.vstack([(np.random.rand(10, 2)*5),(np.random.rand(10, 2)*10)])\n",
    "Y = np.hstack([[0]*10, [1]*10])\n",
    "dataset = pd.DataFrame(X,columns={\"X1\",\"X2\"})\n",
    "dataset[\"Y\"] =Y"
   ]
  },
  {
   "cell_type": "code",
   "execution_count": 11,
   "id": "7c9de1f7",
   "metadata": {},
   "outputs": [
    {
     "data": {
      "text/html": [
       "<div>\n",
       "<style scoped>\n",
       "    .dataframe tbody tr th:only-of-type {\n",
       "        vertical-align: middle;\n",
       "    }\n",
       "\n",
       "    .dataframe tbody tr th {\n",
       "        vertical-align: top;\n",
       "    }\n",
       "\n",
       "    .dataframe thead th {\n",
       "        text-align: right;\n",
       "    }\n",
       "</style>\n",
       "<table border=\"1\" class=\"dataframe\">\n",
       "  <thead>\n",
       "    <tr style=\"text-align: right;\">\n",
       "      <th></th>\n",
       "      <th>X2</th>\n",
       "      <th>X1</th>\n",
       "      <th>Y</th>\n",
       "    </tr>\n",
       "  </thead>\n",
       "  <tbody>\n",
       "    <tr>\n",
       "      <th>0</th>\n",
       "      <td>2.744244</td>\n",
       "      <td>2.859240</td>\n",
       "      <td>0</td>\n",
       "    </tr>\n",
       "    <tr>\n",
       "      <th>1</th>\n",
       "      <td>4.961620</td>\n",
       "      <td>2.423644</td>\n",
       "      <td>0</td>\n",
       "    </tr>\n",
       "    <tr>\n",
       "      <th>2</th>\n",
       "      <td>3.927842</td>\n",
       "      <td>4.444909</td>\n",
       "      <td>0</td>\n",
       "    </tr>\n",
       "    <tr>\n",
       "      <th>3</th>\n",
       "      <td>4.566076</td>\n",
       "      <td>3.282388</td>\n",
       "      <td>0</td>\n",
       "    </tr>\n",
       "    <tr>\n",
       "      <th>4</th>\n",
       "      <td>1.474321</td>\n",
       "      <td>0.067348</td>\n",
       "      <td>0</td>\n",
       "    </tr>\n",
       "    <tr>\n",
       "      <th>5</th>\n",
       "      <td>4.365844</td>\n",
       "      <td>3.269150</td>\n",
       "      <td>0</td>\n",
       "    </tr>\n",
       "    <tr>\n",
       "      <th>6</th>\n",
       "      <td>0.266496</td>\n",
       "      <td>3.902743</td>\n",
       "      <td>0</td>\n",
       "    </tr>\n",
       "    <tr>\n",
       "      <th>7</th>\n",
       "      <td>2.375901</td>\n",
       "      <td>2.019869</td>\n",
       "      <td>0</td>\n",
       "    </tr>\n",
       "    <tr>\n",
       "      <th>8</th>\n",
       "      <td>2.342579</td>\n",
       "      <td>1.146217</td>\n",
       "      <td>0</td>\n",
       "    </tr>\n",
       "    <tr>\n",
       "      <th>9</th>\n",
       "      <td>4.006818</td>\n",
       "      <td>1.469795</td>\n",
       "      <td>0</td>\n",
       "    </tr>\n",
       "    <tr>\n",
       "      <th>10</th>\n",
       "      <td>5.220919</td>\n",
       "      <td>5.690779</td>\n",
       "      <td>1</td>\n",
       "    </tr>\n",
       "    <tr>\n",
       "      <th>11</th>\n",
       "      <td>5.497651</td>\n",
       "      <td>7.548445</td>\n",
       "      <td>1</td>\n",
       "    </tr>\n",
       "    <tr>\n",
       "      <th>12</th>\n",
       "      <td>4.074590</td>\n",
       "      <td>2.822922</td>\n",
       "      <td>1</td>\n",
       "    </tr>\n",
       "    <tr>\n",
       "      <th>13</th>\n",
       "      <td>5.009352</td>\n",
       "      <td>7.848838</td>\n",
       "      <td>1</td>\n",
       "    </tr>\n",
       "    <tr>\n",
       "      <th>14</th>\n",
       "      <td>5.780673</td>\n",
       "      <td>7.755862</td>\n",
       "      <td>1</td>\n",
       "    </tr>\n",
       "    <tr>\n",
       "      <th>15</th>\n",
       "      <td>0.947910</td>\n",
       "      <td>1.585705</td>\n",
       "      <td>1</td>\n",
       "    </tr>\n",
       "    <tr>\n",
       "      <th>16</th>\n",
       "      <td>2.680871</td>\n",
       "      <td>3.652077</td>\n",
       "      <td>1</td>\n",
       "    </tr>\n",
       "    <tr>\n",
       "      <th>17</th>\n",
       "      <td>3.380492</td>\n",
       "      <td>8.053165</td>\n",
       "      <td>1</td>\n",
       "    </tr>\n",
       "    <tr>\n",
       "      <th>18</th>\n",
       "      <td>5.536203</td>\n",
       "      <td>2.315327</td>\n",
       "      <td>1</td>\n",
       "    </tr>\n",
       "    <tr>\n",
       "      <th>19</th>\n",
       "      <td>4.552883</td>\n",
       "      <td>3.136536</td>\n",
       "      <td>1</td>\n",
       "    </tr>\n",
       "  </tbody>\n",
       "</table>\n",
       "</div>"
      ],
      "text/plain": [
       "          X2        X1  Y\n",
       "0   2.744244  2.859240  0\n",
       "1   4.961620  2.423644  0\n",
       "2   3.927842  4.444909  0\n",
       "3   4.566076  3.282388  0\n",
       "4   1.474321  0.067348  0\n",
       "5   4.365844  3.269150  0\n",
       "6   0.266496  3.902743  0\n",
       "7   2.375901  2.019869  0\n",
       "8   2.342579  1.146217  0\n",
       "9   4.006818  1.469795  0\n",
       "10  5.220919  5.690779  1\n",
       "11  5.497651  7.548445  1\n",
       "12  4.074590  2.822922  1\n",
       "13  5.009352  7.848838  1\n",
       "14  5.780673  7.755862  1\n",
       "15  0.947910  1.585705  1\n",
       "16  2.680871  3.652077  1\n",
       "17  3.380492  8.053165  1\n",
       "18  5.536203  2.315327  1\n",
       "19  4.552883  3.136536  1"
      ]
     },
     "execution_count": 11,
     "metadata": {},
     "output_type": "execute_result"
    }
   ],
   "source": [
    "dataset"
   ]
  },
  {
   "cell_type": "code",
   "execution_count": 12,
   "id": "2ee6a062",
   "metadata": {},
   "outputs": [
    {
     "data": {
      "text/plain": [
       "<matplotlib.legend.Legend at 0x180e0362d30>"
      ]
     },
     "execution_count": 12,
     "metadata": {},
     "output_type": "execute_result"
    },
    {
     "data": {
      "image/png": "[encoded data removed]",
      "text/plain": [
       "<Figure size 432x288 with 1 Axes>"
      ]
     },
     "metadata": {
      "needs_background": "light"
     },
     "output_type": "display_data"
    }
   ],
   "source": [
    "plt.plot(dataset,label='Inline label')\n",
    "plt.legend([\"X2\",\"X1\",\"Y\"])"
   ]
  },
  {
   "cell_type": "code",
   "execution_count": 13,
   "id": "3a72288c",
   "metadata": {},
   "outputs": [],
   "source": [
    "Z = np.zeros((20,2))\n",
    "for i in range(20):\n",
    "    Z[i,Y[i]] = 1"
   ]
  },
  {
   "cell_type": "code",
   "execution_count": 14,
   "id": "9d22e370",
   "metadata": {},
   "outputs": [
    {
     "data": {
      "text/plain": [
       "(20, 2)"
      ]
     },
     "execution_count": 14,
     "metadata": {},
     "output_type": "execute_result"
    }
   ],
   "source": [
    "X.shape"
   ]
  },
  {
   "cell_type": "code",
   "execution_count": 15,
   "id": "63a3fdcb",
   "metadata": {},
   "outputs": [],
   "source": [
    "Wi_1 = np.random.randn(3, 2)\n",
    "Bi_1 = np.random.randn(3)\n",
    "Wi_2 = np.random.randn(3, 2)\n",
    "Bi_2 = np.random.randn(2)"
   ]
  },
  {
   "cell_type": "code",
   "execution_count": 16,
   "id": "04ade998",
   "metadata": {},
   "outputs": [
    {
     "data": {
      "text/plain": [
       "array([[ 1.76638863,  0.92905203],\n",
       "       [-0.05211422,  0.40968871],\n",
       "       [ 1.02702395, -0.04979879]])"
      ]
     },
     "execution_count": 16,
     "metadata": {},
     "output_type": "execute_result"
    }
   ],
   "source": [
    "Wi_1"
   ]
  },
  {
   "cell_type": "code",
   "execution_count": 17,
   "id": "484f2c6b",
   "metadata": {},
   "outputs": [
    {
     "data": {
      "text/plain": [
       "array([1.70459631, 0.50897781, 1.09399102])"
      ]
     },
     "execution_count": 17,
     "metadata": {},
     "output_type": "execute_result"
    }
   ],
   "source": [
    "Bi_1"
   ]
  },
  {
   "cell_type": "code",
   "execution_count": 18,
   "id": "6a6ff15d",
   "metadata": {},
   "outputs": [
    {
     "data": {
      "text/plain": [
       "array([[-1.42403218,  0.24269737],\n",
       "       [ 0.31461365, -1.48701896],\n",
       "       [-0.73038796, -1.04705592]])"
      ]
     },
     "execution_count": 18,
     "metadata": {},
     "output_type": "execute_result"
    }
   ],
   "source": [
    "Wi_2"
   ]
  },
  {
   "cell_type": "code",
   "execution_count": 19,
   "id": "d7468935",
   "metadata": {},
   "outputs": [
    {
     "data": {
      "text/plain": [
       "array([0.30568625, 1.31833744])"
      ]
     },
     "execution_count": 19,
     "metadata": {},
     "output_type": "execute_result"
    }
   ],
   "source": [
    "Bi_2"
   ]
  },
  {
   "cell_type": "code",
   "execution_count": 20,
   "id": "132585aa",
   "metadata": {},
   "outputs": [
    {
     "data": {
      "text/plain": [
       "array([[ 1.76638863, -0.05211422,  1.02702395],\n",
       "       [ 0.92905203,  0.40968871, -0.04979879]])"
      ]
     },
     "execution_count": 20,
     "metadata": {},
     "output_type": "execute_result"
    }
   ],
   "source": [
    "Wi_1.T"
   ]
  },
  {
   "cell_type": "code",
   "execution_count": 21,
   "id": "a9caeb97",
   "metadata": {},
   "outputs": [
    {
     "data": {
      "text/plain": [
       "array([[2.74424387, 2.85923959],\n",
       "       [4.96161967, 2.42364446],\n",
       "       [3.92784177, 4.444909  ],\n",
       "       [4.56607557, 3.28238774],\n",
       "       [1.4743209 , 0.06734791],\n",
       "       [4.3658441 , 3.26914962],\n",
       "       [0.26649585, 3.90274293],\n",
       "       [2.37590142, 2.01986908],\n",
       "       [2.3425786 , 1.14621683],\n",
       "       [4.00681819, 1.46979542],\n",
       "       [5.22091919, 5.69077876],\n",
       "       [5.49765069, 7.5484455 ],\n",
       "       [4.07458957, 2.82292172],\n",
       "       [5.00935211, 7.84883777],\n",
       "       [5.78067308, 7.7558621 ],\n",
       "       [0.94790988, 1.58570478],\n",
       "       [2.68087135, 3.65207725],\n",
       "       [3.38049154, 8.05316499],\n",
       "       [5.53620251, 2.31532667],\n",
       "       [4.55288347, 3.1365359 ]])"
      ]
     },
     "execution_count": 21,
     "metadata": {},
     "output_type": "execute_result"
    }
   ],
   "source": [
    "X"
   ]
  },
  {
   "cell_type": "code",
   "execution_count": 22,
   "id": "18dee73d",
   "metadata": {},
   "outputs": [
    {
     "data": {
      "text/plain": [
       "(20, 2)"
      ]
     },
     "execution_count": 22,
     "metadata": {},
     "output_type": "execute_result"
    }
   ],
   "source": [
    "X.shape"
   ]
  },
  {
   "cell_type": "code",
   "execution_count": 23,
   "id": "6e070ed1",
   "metadata": {},
   "outputs": [
    {
     "data": {
      "text/plain": [
       "array([[ 7.50378353,  1.02838407,  2.67601751],\n",
       "       [11.01584039,  0.73436886,  4.97500768],\n",
       "       [11.06764679,  1.61633264,  3.81263649],\n",
       "       [11.11497298,  1.10679976,  4.52601003],\n",
       "       [ 2.66679338, -0.0492414 ,  1.51080903],\n",
       "       [10.74898749,  1.11181115,  4.32102677],\n",
       "       [ 4.09658649,  1.5850215 ,  0.07934575],\n",
       "       [ 6.07332873,  0.70369932,  2.33952063],\n",
       "       [ 5.20279928,  0.34751045,  2.34880412],\n",
       "       [ 8.44311453,  0.39334641,  4.04190422],\n",
       "       [14.50920188,  2.05936371,  5.07861517],\n",
       "       [16.72388632,  2.80600715,  5.2703155 ],\n",
       "       [ 9.81994985,  0.94417512,  4.04412299],\n",
       "       [16.1404413 ,  2.95452177,  4.75386198],\n",
       "       [17.41651466,  2.8762339 ,  5.55065717],\n",
       "       [ 3.14757948,  0.60024577,  0.89455997],\n",
       "       [ 8.12843046,  1.35650331,  2.57145006],\n",
       "       [13.45307113,  3.12311912,  3.07080793],\n",
       "       [11.93014413,  0.66004835,  5.57051211],\n",
       "       [10.95616666,  1.0477334 ,  4.51972469]])"
      ]
     },
     "execution_count": 23,
     "metadata": {},
     "output_type": "execute_result"
    }
   ],
   "source": [
    "X.dot(Wi_1.T)"
   ]
  },
  {
   "cell_type": "code",
   "execution_count": 24,
   "id": "9ae15027",
   "metadata": {},
   "outputs": [],
   "source": [
    "def forward_prop(X, Wi_1, Bi_1, Wi_2, Bi_2):\n",
    "  #first layer\n",
    "    M = 1 / (1 + np.exp(-(X.dot(Wi_1.T) + Bi_1)))\n",
    "    #second layer\n",
    "    A = M.dot(Wi_2) +Bi_2\n",
    "    expA = np.exp(A)\n",
    "    return Y, M"
   ]
  },
  {
   "cell_type": "code",
   "execution_count": 29,
   "id": "b99b2532",
   "metadata": {},
   "outputs": [
    {
     "data": {
      "text/plain": [
       "(array([0, 0, 0, 0, 0, 0, 0, 0, 0, 0, 1, 1, 1, 1, 1, 1, 1, 1, 1, 1]),\n",
       " array([[0.99989981, 0.82308089, 0.97746755],\n",
       "        [0.99999701, 0.77614601, 0.99769185],\n",
       "        [0.99999716, 0.89333899, 0.99265693],\n",
       "        [0.99999729, 0.83421198, 0.99638845],\n",
       "        [0.98752395, 0.61295164, 0.93116986],\n",
       "        [0.9999961 , 0.83490391, 0.99557045],\n",
       "        [0.99698514, 0.89031857, 0.76374762],\n",
       "        [0.99958129, 0.77077229, 0.9687356 ],\n",
       "        [0.99900064, 0.70192643, 0.96901555],\n",
       "        [0.99996084, 0.7114269 , 0.99415261],\n",
       "        [0.99999991, 0.92879609, 0.99791855],\n",
       "        [0.99999999, 0.96493932, 0.99828102],\n",
       "        [0.99999012, 0.8104832 , 0.99416549],\n",
       "        [0.99999998, 0.96963119, 0.99712222],\n",
       "        [1.        , 0.96723915, 0.99870072],\n",
       "        [0.99224918, 0.75198433, 0.87958975],\n",
       "        [0.99994635, 0.86593454, 0.97504577],\n",
       "        [0.99999974, 0.97422148, 0.98470474],\n",
       "        [0.9999988 , 0.76296894, 0.99872623],\n",
       "        [0.99999683, 0.82588093, 0.99636576]]))"
      ]
     },
     "execution_count": 29,
     "metadata": {},
     "output_type": "execute_result"
    }
   ],
   "source": [
    "forward_prop(X, Wi_1, Bi_1, Wi_2, Bi_2)"
   ]
  },
  {
   "cell_type": "code",
   "execution_count": 30,
   "id": "54859e08",
   "metadata": {},
   "outputs": [],
   "source": [
    "#Returns gradient for Weight_2\n",
    "def diff_Wi_2(H, Z, Y):\n",
    "    return H.T.dot(Z - Y)"
   ]
  },
  {
   "cell_type": "code",
   "execution_count": 31,
   "id": "55837ebc",
   "metadata": {},
   "outputs": [],
   "source": [
    "#Returns gradient for Weight_2\n",
    "def diff_Wi_1(X, H, Z, output, Wi_2):\n",
    "    dZ = (Z - output).dot(Wi_1) * H * (1 - H)\n",
    "    return X.T.dot(dZ)"
   ]
  },
  {
   "cell_type": "code",
   "execution_count": 32,
   "id": "25a0c64b",
   "metadata": {},
   "outputs": [],
   "source": [
    "#returns derivative for both bias\n",
    "def diff_B2(Z, Y):\n",
    "    return (Z - Y).sum(axis=0)\n",
    "\n",
    "def diff_B1(Z, Y, Wi_2, H):\n",
    "    return ((Z - Y).dot(Wi_2.T) * H * (1 - H).sum(axis=0))"
   ]
  },
  {
   "cell_type": "code",
   "execution_count": null,
   "id": "f4bb1ddd",
   "metadata": {},
   "outputs": [],
   "source": [
    "learning_rate = 1e-3\n",
    "for epoch in range(5000):\n",
    "    output, hidden = forward_prop(X, Wi_1, Bi_1, Wi_2, Bi_2)\n",
    "    Wi_2 += learning_rate * diff_Wi_2(hidden, Z, output)\n",
    "    Bi_2 += learning_rate * diff_B2(Z, output)\n",
    "    Wi_1 += learning_rate * diff_Wi_1(X, hidden, Z, output, Wi_2).T\n",
    "    Bi_1 += learning_rate * diff_B1(Z, output, Wi_2, hidden)"
   ]
  },
  {
   "cell_type": "code",
   "execution_count": 45,
   "id": "738479f7",
   "metadata": {},
   "outputs": [
    {
     "name": "stdout",
     "output_type": "stream",
     "text": [
      " prob of class 0>>>>>> 0.35355994707833716 \n",
      " prob of class 1 >>>>> 0.6464400529216628\n"
     ]
    }
   ],
   "source": [
    "X_test = np.array([9,9])\n",
    "\n",
    "hidden_output = 1 / (1 + np.exp(-X_test.dot(Wi_1.T) - Bi_1))\n",
    "Outer_layer_output = hidden_output.dot(Wi_2) + Bi_2\n",
    "expA = np.exp(Outer_layer_output)\n",
    "Y = expA / expA.sum()\n",
    "print(\" prob of class 0>>>>>> {} \\n prob of class 1 >>>>> {}\".format(Y[0],Y[1]))"
   ]
  },
  {
   "cell_type": "code",
   "execution_count": 1,
   "id": "35cf7ccc",
   "metadata": {},
   "outputs": [
    {
     "name": "stdout",
     "output_type": "stream",
     "text": [
      "Requirement already satisfied: keras in c:\\users\\neeraj\\anaconda3\\lib\\site-packages (2.4.3)\n",
      "Requirement already satisfied: pyyaml in c:\\users\\neeraj\\anaconda3\\lib\\site-packages (from keras) (5.4.1)\n",
      "Requirement already satisfied: scipy>=0.14 in c:\\users\\neeraj\\anaconda3\\lib\\site-packages (from keras) (1.6.2)\n",
      "Requirement already satisfied: numpy>=1.9.1 in c:\\users\\neeraj\\anaconda3\\lib\\site-packages (from keras) (1.20.1)\n",
      "Requirement already satisfied: h5py in c:\\users\\neeraj\\anaconda3\\lib\\site-packages (from keras) (2.10.0)\n",
      "Requirement already satisfied: six in c:\\users\\neeraj\\anaconda3\\lib\\site-packages (from h5py->keras) (1.15.0)\n"
     ]
    }
   ],
   "source": [
    "!pip install keras"
   ]
  },
  {
   "cell_type": "code",
   "execution_count": null,
   "id": "5bea3b62",
   "metadata": {},
   "outputs": [],
   "source": []
  },
  {
   "cell_type": "code",
   "execution_count": null,
   "id": "60f2fc9e",
   "metadata": {},
   "outputs": [],
   "source": []
  },
  {
   "cell_type": "code",
   "execution_count": null,
   "id": "b6e007fe",
   "metadata": {},
   "outputs": [],
   "source": [
    "\n"
   ]
  },
  {
   "cell_type": "code",
   "execution_count": null,
   "id": "f5d73240",
   "metadata": {},
   "outputs": [],
   "source": []
  },
  {
   "cell_type": "code",
   "execution_count": null,
   "id": "2ff25e1b",
   "metadata": {},
   "outputs": [],
   "source": []
  },
  {
   "cell_type": "code",
   "execution_count": null,
   "id": "7238dcd3",
   "metadata": {},
   "outputs": [],
   "source": []
  }
 ],
 "metadata": {
  "kernelspec": {
   "display_name": "Python 3",
   "language": "python",
   "name": "python3"
  },
  "language_info": {
   "codemirror_mode": {
    "name": "ipython",
    "version": 3
   },
   "file_extension": ".py",
   "mimetype": "text/x-python",
   "name": "python",
   "nbconvert_exporter": "python",
   "pygments_lexer": "ipython3",
   "version": "3.8.8"
  }
 },
 "nbformat": 4,
 "nbformat_minor": 5
}
