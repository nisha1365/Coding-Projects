{
 "cells": [
  {
   "cell_type": "code",
   "execution_count": 13,
   "id": "7d501cac",
   "metadata": {},
   "outputs": [
    {
     "name": "stdout",
     "output_type": "stream",
     "text": [
      "The tensorboard extension is already loaded. To reload it, use:\n",
      "  %reload_ext tensorboard\n"
     ]
    }
   ],
   "source": [
    "%load_ext tensorboard"
   ]
  },
  {
   "cell_type": "code",
   "execution_count": 14,
   "id": "cc3c8858",
   "metadata": {},
   "outputs": [],
   "source": [
    "import tensorflow as tf\n",
    "import datetime"
   ]
  },
  {
   "cell_type": "code",
   "execution_count": 15,
   "id": "3297ff85",
   "metadata": {},
   "outputs": [],
   "source": [
    "mnist = tf.keras.datasets.mnist\n",
    "(x_train, y_train),(x_test, y_test) = mnist.load_data()\n",
    "x_train, x_test = x_train / 255.0, x_test / 255.0"
   ]
  },
  {
   "cell_type": "code",
   "execution_count": 16,
   "id": "2a00993b",
   "metadata": {},
   "outputs": [],
   "source": [
    "model = tf.keras.models.Sequential([\n",
    "  tf.keras.layers.Flatten(input_shape=(28, 28)),\n",
    "  tf.keras.layers.Dense(512, activation='relu'),\n",
    "  tf.keras.layers.Dropout(0.2),\n",
    "  tf.keras.layers.Dense(10, activation='softmax')\n",
    "])"
   ]
  },
  {
   "cell_type": "code",
   "execution_count": 17,
   "id": "3de2a9c2",
   "metadata": {},
   "outputs": [
    {
     "name": "stdout",
     "output_type": "stream",
     "text": [
      "Model: \"sequential\"\n",
      "_________________________________________________________________\n",
      "Layer (type)                 Output Shape              Param #   \n",
      "=================================================================\n",
      "flatten (Flatten)            (None, 784)               0         \n",
      "_________________________________________________________________\n",
      "dense (Dense)                (None, 512)               401920    \n",
      "_________________________________________________________________\n",
      "dropout (Dropout)            (None, 512)               0         \n",
      "_________________________________________________________________\n",
      "dense_1 (Dense)              (None, 10)                5130      \n",
      "=================================================================\n",
      "Total params: 407,050\n",
      "Trainable params: 407,050\n",
      "Non-trainable params: 0\n",
      "_________________________________________________________________\n"
     ]
    }
   ],
   "source": [
    "\n",
    "model.summary()"
   ]
  },
  {
   "cell_type": "code",
   "execution_count": 18,
   "id": "2f7a1ed9",
   "metadata": {},
   "outputs": [
    {
     "name": "stdout",
     "output_type": "stream",
     "text": [
      "Epoch 1/20\n",
      "1875/1875 [==============================] - 15s 8ms/step - loss: 1.1040 - accuracy: 0.7349 - val_loss: 0.6161 - val_accuracy: 0.8671\n",
      "Epoch 2/20\n",
      "1875/1875 [==============================] - 13s 7ms/step - loss: 0.5694 - accuracy: 0.8582 - val_loss: 0.4562 - val_accuracy: 0.8894\n",
      "Epoch 3/20\n",
      "1875/1875 [==============================] - 13s 7ms/step - loss: 0.4688 - accuracy: 0.8761 - val_loss: 0.3955 - val_accuracy: 0.8981\n",
      "Epoch 4/20\n",
      "1875/1875 [==============================] - 13s 7ms/step - loss: 0.4202 - accuracy: 0.8872 - val_loss: 0.3611 - val_accuracy: 0.9070\n",
      "Epoch 5/20\n",
      "1875/1875 [==============================] - 13s 7ms/step - loss: 0.3905 - accuracy: 0.8940 - val_loss: 0.3387 - val_accuracy: 0.9113\n",
      "Epoch 6/20\n",
      "1875/1875 [==============================] - 13s 7ms/step - loss: 0.3680 - accuracy: 0.8991 - val_loss: 0.3214 - val_accuracy: 0.9150\n",
      "Epoch 7/20\n",
      "1875/1875 [==============================] - 13s 7ms/step - loss: 0.3511 - accuracy: 0.9029 - val_loss: 0.3083 - val_accuracy: 0.9171\n",
      "Epoch 8/20\n",
      "1875/1875 [==============================] - 13s 7ms/step - loss: 0.3372 - accuracy: 0.9072 - val_loss: 0.2974 - val_accuracy: 0.9195\n",
      "Epoch 9/20\n",
      "1875/1875 [==============================] - 13s 7ms/step - loss: 0.3274 - accuracy: 0.9096 - val_loss: 0.2882 - val_accuracy: 0.9222\n",
      "Epoch 10/20\n",
      "1875/1875 [==============================] - 13s 7ms/step - loss: 0.3159 - accuracy: 0.9119 - val_loss: 0.2804 - val_accuracy: 0.9237\n",
      "Epoch 11/20\n",
      "1875/1875 [==============================] - 13s 7ms/step - loss: 0.3064 - accuracy: 0.9148 - val_loss: 0.2734 - val_accuracy: 0.9252\n",
      "Epoch 12/20\n",
      "1875/1875 [==============================] - 13s 7ms/step - loss: 0.2984 - accuracy: 0.9171 - val_loss: 0.2672 - val_accuracy: 0.9258\n",
      "Epoch 13/20\n",
      "1875/1875 [==============================] - 14s 7ms/step - loss: 0.2935 - accuracy: 0.9182 - val_loss: 0.2614 - val_accuracy: 0.9281\n",
      "Epoch 14/20\n",
      "1875/1875 [==============================] - 14s 7ms/step - loss: 0.2855 - accuracy: 0.9200 - val_loss: 0.2563 - val_accuracy: 0.9295\n",
      "Epoch 15/20\n",
      "1875/1875 [==============================] - 13s 7ms/step - loss: 0.2797 - accuracy: 0.9224 - val_loss: 0.2513 - val_accuracy: 0.9305\n",
      "Epoch 16/20\n",
      "1875/1875 [==============================] - 13s 7ms/step - loss: 0.2745 - accuracy: 0.9238 - val_loss: 0.2470 - val_accuracy: 0.9309\n",
      "Epoch 17/20\n",
      "1875/1875 [==============================] - 14s 7ms/step - loss: 0.2689 - accuracy: 0.9251 - val_loss: 0.2429 - val_accuracy: 0.9332\n",
      "Epoch 18/20\n",
      "1875/1875 [==============================] - 13s 7ms/step - loss: 0.2644 - accuracy: 0.9269 - val_loss: 0.2385 - val_accuracy: 0.9342\n",
      "Epoch 19/20\n",
      "1875/1875 [==============================] - 13s 7ms/step - loss: 0.2597 - accuracy: 0.9291 - val_loss: 0.2351 - val_accuracy: 0.9348\n",
      "Epoch 20/20\n",
      "1875/1875 [==============================] - 13s 7ms/step - loss: 0.2550 - accuracy: 0.9295 - val_loss: 0.2320 - val_accuracy: 0.9360\n"
     ]
    },
    {
     "data": {
      "text/plain": [
       "<tensorflow.python.keras.callbacks.History at 0x113a9bc6ca0>"
      ]
     },
     "execution_count": 18,
     "metadata": {},
     "output_type": "execute_result"
    }
   ],
   "source": [
    "model.compile(optimizer='adagrad',\n",
    "              loss='sparse_categorical_crossentropy',\n",
    "              metrics=['accuracy'])\n",
    "\n",
    "\n",
    "path = \"logs\\\\fit\\\\\" + datetime.datetime.now().strftime(\"%Y%m%d-%H%M%S\")\n",
    "\n",
    "tensorboard_callback = tf.keras.callbacks.TensorBoard(log_dir=path, histogram_freq=1)\n",
    "\n",
    "model.fit(x=x_train, \n",
    "          y=y_train, \n",
    "          epochs=20, \n",
    "          validation_data=(x_test, y_test), \n",
    "          callbacks=[tensorboard_callback])"
   ]
  },
  {
   "cell_type": "code",
   "execution_count": 19,
   "id": "206d20c4",
   "metadata": {},
   "outputs": [
    {
     "data": {
      "text/plain": [
       "Reusing TensorBoard on port 6006 (pid 13680), started 11:58:25 ago. (Use '!kill 13680' to kill it.)"
      ]
     },
     "metadata": {},
     "output_type": "display_data"
    },
    {
     "data": {
      "text/html": [
       "\n",
       "      <iframe id=\"tensorboard-frame-c7e98924cce75b4c\" width=\"100%\" height=\"800\" frameborder=\"0\">\n",
       "      </iframe>\n",
       "      <script>\n",
       "        (function() {\n",
       "          const frame = document.getElementById(\"tensorboard-frame-c7e98924cce75b4c\");\n",
       "          const url = new URL(\"/\", window.location);\n",
       "          const port = 6006;\n",
       "          if (port) {\n",
       "            url.port = port;\n",
       "          }\n",
       "          frame.src = url;\n",
       "        })();\n",
       "      </script>\n",
       "    "
      ],
      "text/plain": [
       "<IPython.core.display.HTML object>"
      ]
     },
     "metadata": {},
     "output_type": "display_data"
    }
   ],
   "source": [
    "%tensorboard --logdir logs/fit"
   ]
  },
  {
   "cell_type": "code",
   "execution_count": null,
   "id": "7ec7600c",
   "metadata": {},
   "outputs": [],
   "source": []
  },
  {
   "cell_type": "code",
   "execution_count": null,
   "id": "13918a18",
   "metadata": {},
   "outputs": [],
   "source": []
  }
 ],
 "metadata": {
  "kernelspec": {
   "display_name": "Python 3",
   "language": "python",
   "name": "python3"
  },
  "language_info": {
   "codemirror_mode": {
    "name": "ipython",
    "version": 3
   },
   "file_extension": ".py",
   "mimetype": "text/x-python",
   "name": "python",
   "nbconvert_exporter": "python",
   "pygments_lexer": "ipython3",
   "version": "3.8.8"
  }
 },
 "nbformat": 4,
 "nbformat_minor": 5
}
