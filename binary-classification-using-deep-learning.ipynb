{
 "cells": [
  {
   "cell_type": "markdown",
   "metadata": {
    "colab_type": "text",
    "id": "view-in-github"
   },
   "source": [
    "<a href=\"https://colab.research.google.com/github/dphi-official/Deep_Learning_Bootcamp/blob/master/DL%20For%20Classification/DL_Day6_Binary_Classification.ipynb\" target=\"_parent\"><img src=\"https://colab.research.google.com/assets/colab-badge.svg\" alt=\"Open In Colab\"/></a>"
   ]
  },
  {
   "cell_type": "markdown",
   "metadata": {
    "colab_type": "text",
    "id": "kXzFul5zX5nc"
   },
   "source": [
    "# Agenda\n",
    "1. Introduction\n",
    "2. Data Description\n",
    "3. Loading the basic Data Science Libraries\n",
    "4. Loading Data\n",
    "5. Separating Input and Target Variable\n",
    "6. Splitting into Train and Test Sets\n",
    "7. Model Building\n",
    "  \n",
    "  7.1 Model Creation/Definition\n",
    "    - Our model architecture\n",
    "\n",
    "  7.2 Model Compilation\n",
    "    - History\n",
    "\n",
    "  7.3 Model Training\n",
    "\n",
    "  7.4 Model Evaluation\n",
    "    - Model Accuracy\n",
    "    - Model Loss\n",
    "8. Conclusion"
   ]
  },
  {
   "cell_type": "markdown",
   "metadata": {
    "colab_type": "text",
    "id": "2AB0kkinaVQe"
   },
   "source": [
    "# Introduction\n",
    "Classification is a process of dividing the given data points into two or more classes. When the number of classes = 2, it is known as Binary Classification.\n",
    "\n",
    "In this notebook, we'll be performing Binary Classification to **predict whether a person has a heart disease or not.**\n",
    "\n",
    "There are 2 classes:\n",
    "1. Heart disease present (target=1)\n",
    "2. Heart disease not present (target=0)"
   ]
  },
  {
   "cell_type": "markdown",
   "metadata": {
    "colab_type": "text",
    "id": "1Y2NwIRUbS5c"
   },
   "source": [
    "# Data Description\n",
    "* **age:** Age in years\n",
    "* **sex:** 1 = male, 0 = female\n",
    "* **cp:** Chest pain type\n",
    "* **trestbps:** Resting blood pressure (in mm Hg on admission to the hospital)\n",
    "* **chol:** serum cholesterol in mg/dl\n",
    "* **fbs:** fasting blood sugar > 120 mg/dl (1 = true; 0 = false)\n",
    "* **restecg:**Resting electrocardiographic results\n",
    "* **thalach:** Maximum heart rate achieved\n",
    "* **exang:** Exercise induced angina (1 = yes; 0 = no)\n",
    "* **oldpeak:** ST depression induced by exercise relative to rest\n",
    "* **slope:** The slope of the peak exercise ST segment\n",
    "* **ca:** Number of major vessels (0-3) colored by fluoroscopy\n",
    "* **thal:** 3 = normal; 6 = fixed defect; 7 = reversible defect\n",
    "* **target:** 1 = Heart disease present, 0 = Heart disease not present"
   ]
  },
  {
   "cell_type": "markdown",
   "metadata": {
    "colab_type": "text",
    "id": "XIJpr8URo5qk"
   },
   "source": [
    "# Loading the basic Data Science Libraries\n",
    "All Python capabilities are not loaded to our working environment by default (even if they are already installed in your system). So, we import each and every library that we want to use.\n",
    "\n",
    "In data science, numpy, pandas and matplotlib are most commonly used libraries. We chose alias names for our libraries for the sake of our convenience (numpy --> np and pandas --> pd, matplotlib.pyplot as plt)."
   ]
  },
  {
   "cell_type": "code",
   "execution_count": null,
   "metadata": {
    "colab": {},
    "colab_type": "code",
    "id": "lEe1FaD_o6PR"
   },
   "outputs": [],
   "source": [
    "import numpy as np  # for matrix operations\n",
    "import pandas as pd  # for loading CSV Files\n",
    "import matplotlib.pyplot as plt # for Data Visualization"
   ]
  },
  {
   "cell_type": "markdown",
   "metadata": {
    "colab_type": "text",
    "id": "rIBaJ38_ibzi"
   },
   "source": [
    "# Loading Data\n",
    "Pandas module is used for reading files. Since we have our data in '.csv' format, we will use 'read_csv()' function for loading the data."
   ]
  },
  {
   "cell_type": "code",
   "execution_count": null,
   "metadata": {
    "colab": {},
    "colab_type": "code",
    "id": "prpLahz7ZioJ"
   },
   "outputs": [],
   "source": [
    "data = pd.read_csv(\"https://raw.githubusercontent.com/dphi-official/Datasets/master/heart_disease.csv\")"
   ]
  },
  {
   "cell_type": "code",
   "execution_count": null,
   "metadata": {
    "colab": {
     "base_uri": "https://localhost:8080/",
     "height": 197
    },
    "colab_type": "code",
    "id": "AVyXzVv4hya2",
    "outputId": "85ca825a-27af-4194-8c56-a721e1fea740"
   },
   "outputs": [
    {
     "data": {
      "text/html": [
       "<div>\n",
       "<style scoped>\n",
       "    .dataframe tbody tr th:only-of-type {\n",
       "        vertical-align: middle;\n",
       "    }\n",
       "\n",
       "    .dataframe tbody tr th {\n",
       "        vertical-align: top;\n",
       "    }\n",
       "\n",
       "    .dataframe thead th {\n",
       "        text-align: right;\n",
       "    }\n",
       "</style>\n",
       "<table border=\"1\" class=\"dataframe\">\n",
       "  <thead>\n",
       "    <tr style=\"text-align: right;\">\n",
       "      <th></th>\n",
       "      <th>age</th>\n",
       "      <th>sex</th>\n",
       "      <th>cp</th>\n",
       "      <th>trestbps</th>\n",
       "      <th>chol</th>\n",
       "      <th>fbs</th>\n",
       "      <th>restecg</th>\n",
       "      <th>thalach</th>\n",
       "      <th>exang</th>\n",
       "      <th>oldpeak</th>\n",
       "      <th>slope</th>\n",
       "      <th>ca</th>\n",
       "      <th>thal</th>\n",
       "      <th>target</th>\n",
       "    </tr>\n",
       "  </thead>\n",
       "  <tbody>\n",
       "    <tr>\n",
       "      <th>0</th>\n",
       "      <td>63</td>\n",
       "      <td>1</td>\n",
       "      <td>3</td>\n",
       "      <td>145</td>\n",
       "      <td>233</td>\n",
       "      <td>1</td>\n",
       "      <td>0</td>\n",
       "      <td>150</td>\n",
       "      <td>0</td>\n",
       "      <td>2.3</td>\n",
       "      <td>0</td>\n",
       "      <td>0</td>\n",
       "      <td>1</td>\n",
       "      <td>1</td>\n",
       "    </tr>\n",
       "    <tr>\n",
       "      <th>1</th>\n",
       "      <td>37</td>\n",
       "      <td>1</td>\n",
       "      <td>2</td>\n",
       "      <td>130</td>\n",
       "      <td>250</td>\n",
       "      <td>0</td>\n",
       "      <td>1</td>\n",
       "      <td>187</td>\n",
       "      <td>0</td>\n",
       "      <td>3.5</td>\n",
       "      <td>0</td>\n",
       "      <td>0</td>\n",
       "      <td>2</td>\n",
       "      <td>1</td>\n",
       "    </tr>\n",
       "    <tr>\n",
       "      <th>2</th>\n",
       "      <td>41</td>\n",
       "      <td>0</td>\n",
       "      <td>1</td>\n",
       "      <td>130</td>\n",
       "      <td>204</td>\n",
       "      <td>0</td>\n",
       "      <td>0</td>\n",
       "      <td>172</td>\n",
       "      <td>0</td>\n",
       "      <td>1.4</td>\n",
       "      <td>2</td>\n",
       "      <td>0</td>\n",
       "      <td>2</td>\n",
       "      <td>1</td>\n",
       "    </tr>\n",
       "    <tr>\n",
       "      <th>3</th>\n",
       "      <td>56</td>\n",
       "      <td>1</td>\n",
       "      <td>1</td>\n",
       "      <td>120</td>\n",
       "      <td>236</td>\n",
       "      <td>0</td>\n",
       "      <td>1</td>\n",
       "      <td>178</td>\n",
       "      <td>0</td>\n",
       "      <td>0.8</td>\n",
       "      <td>2</td>\n",
       "      <td>0</td>\n",
       "      <td>2</td>\n",
       "      <td>1</td>\n",
       "    </tr>\n",
       "    <tr>\n",
       "      <th>4</th>\n",
       "      <td>57</td>\n",
       "      <td>0</td>\n",
       "      <td>0</td>\n",
       "      <td>120</td>\n",
       "      <td>354</td>\n",
       "      <td>0</td>\n",
       "      <td>1</td>\n",
       "      <td>163</td>\n",
       "      <td>1</td>\n",
       "      <td>0.6</td>\n",
       "      <td>2</td>\n",
       "      <td>0</td>\n",
       "      <td>2</td>\n",
       "      <td>1</td>\n",
       "    </tr>\n",
       "  </tbody>\n",
       "</table>\n",
       "</div>"
      ],
      "text/plain": [
       "   age  sex  cp  trestbps  chol  fbs  ...  exang  oldpeak  slope  ca  thal  target\n",
       "0   63    1   3       145   233    1  ...      0      2.3      0   0     1       1\n",
       "1   37    1   2       130   250    0  ...      0      3.5      0   0     2       1\n",
       "2   41    0   1       130   204    0  ...      0      1.4      2   0     2       1\n",
       "3   56    1   1       120   236    0  ...      0      0.8      2   0     2       1\n",
       "4   57    0   0       120   354    0  ...      1      0.6      2   0     2       1\n",
       "\n",
       "[5 rows x 14 columns]"
      ]
     },
     "execution_count": 3,
     "metadata": {
      "tags": []
     },
     "output_type": "execute_result"
    }
   ],
   "source": [
    "data.head() #head function displays the first 5 rows by default"
   ]
  },
  {
   "cell_type": "code",
   "execution_count": null,
   "metadata": {
    "colab": {
     "base_uri": "https://localhost:8080/",
     "height": 34
    },
    "colab_type": "code",
    "id": "xWTIpkieyGRw",
    "outputId": "94b9ee5f-a224-4272-e4af-66de520757a0"
   },
   "outputs": [
    {
     "data": {
      "text/plain": [
       "(303, 14)"
      ]
     },
     "execution_count": 4,
     "metadata": {
      "tags": []
     },
     "output_type": "execute_result"
    }
   ],
   "source": [
    "data.shape # This gives the shape of the DataFrame i.e the (no. of rows, no. of columns)"
   ]
  },
  {
   "cell_type": "markdown",
   "metadata": {
    "colab_type": "text",
    "id": "Yowhoj1b7SAr"
   },
   "source": [
    "We have 303 examples (rows) in our dataset. "
   ]
  },
  {
   "cell_type": "markdown",
   "metadata": {
    "colab_type": "text",
    "id": "gh8OOZkpivrd"
   },
   "source": [
    "# Separating Input and Target Variable\n",
    "**Target Variable/ Independent Variable(y):** Our objective is to detect the presence of heart disease. Thus, our target variable will be the column that indicates whether heart disease is present or not. \n",
    "\n",
    "We'll store that column in a variable y.\n",
    "\n",
    "**Input Variables/ Dependent Variables(X):** The remaining columns, without the Target variable will be stored in variable X."
   ]
  },
  {
   "cell_type": "code",
   "execution_count": null,
   "metadata": {
    "colab": {},
    "colab_type": "code",
    "id": "HRq9zAAPig4S"
   },
   "outputs": [],
   "source": [
    "X = data.drop('target', axis=1) #Input variables\n",
    "# axis=1 indicates that a column will be dropped\n",
    "y = data['target']  # Target variable"
   ]
  },
  {
   "cell_type": "markdown",
   "metadata": {
    "colab_type": "text",
    "id": "SoHfnMUpi9Zb"
   },
   "source": [
    "# Splitting into Train and Test Sets\n",
    "The next step will be to divide the data into test and train sets. We want to check the performance of the model that we built. For this purpose, we always split (both input and output data) the given data into **train set** which will be used to train the model, and **test set** which will be used to check how accurately the model is predicting outcomes.\n",
    "\n",
    "This is achieved using `train_test_split` function provided in the `model_selection class of sklearn` module.\n",
    "\n",
    "By passing our X and y variables into the train_test_split method, we are able to capture the splits in data by assigning 4 variables to the result.\n",
    "\n",
    "* **X_train:** independent/input feature data for training the model\n",
    "* **y_train:** dependent/output feature data for training the model\n",
    "* **X_test:** independent/input feature data for testing the model; will be used to predict the output values\n",
    "* **y_test:** original dependent/output values of X_test; We will compare this values with our predicted values to check the performance of our built model.\n",
    "* **test_size = 0.20:** 20% of the data will go for test set and 80% of the data will go for train set\n",
    "* **random_state = 42:** this is just for code reproducability. It will fix the split i.e. there will be the same data in train and test sets each time you run the code"
   ]
  },
  {
   "cell_type": "code",
   "execution_count": null,
   "metadata": {
    "colab": {},
    "colab_type": "code",
    "id": "Ym3Eiq0Vi7ap"
   },
   "outputs": [],
   "source": [
    "from sklearn.model_selection import train_test_split\n",
    "X_train, X_test, y_train, y_test = train_test_split(X, y, test_size=0.2, random_state=42)"
   ]
  },
  {
   "cell_type": "code",
   "execution_count": null,
   "metadata": {
    "colab": {
     "base_uri": "https://localhost:8080/",
     "height": 34
    },
    "colab_type": "code",
    "id": "6gdUyMIv_WZK",
    "outputId": "3527c76c-3f5f-460d-f24a-a9ae14064f7b"
   },
   "outputs": [
    {
     "data": {
      "text/plain": [
       "13"
      ]
     },
     "execution_count": 7,
     "metadata": {
      "tags": []
     },
     "output_type": "execute_result"
    }
   ],
   "source": [
    "# find the number of input features\n",
    "X_train.shape[1]"
   ]
  },
  {
   "cell_type": "markdown",
   "metadata": {
    "colab_type": "text",
    "id": "c2vDRUNZjzih"
   },
   "source": [
    "# Model Building\n",
    "Now that we have our data fully processed and split into training and testing datasets, we can begin building a neural network to solve this classification problem. \n",
    "\n",
    "\n"
   ]
  },
  {
   "cell_type": "code",
   "execution_count": null,
   "metadata": {
    "colab": {},
    "colab_type": "code",
    "id": "yKQIxJtCkPtj"
   },
   "outputs": [],
   "source": [
    "# Imports\n",
    "import tensorflow as tf  # Importing the TensorFlow Library\n",
    "from tensorflow import keras  # Import Keras from TensorFlow\n",
    "\n",
    "from tensorflow.keras import Sequential \n",
    "from tensorflow.keras import layers\n",
    "from tensorflow.keras.layers import Dense"
   ]
  },
  {
   "cell_type": "markdown",
   "metadata": {
    "colab_type": "text",
    "id": "J-Sqv2O8m0hP"
   },
   "source": [
    "## Model Creation/ Definition\n",
    "We create a Sequential model and add layers one at a time until we are happy with our network architecture.\n",
    "\n",
    "The first thing to get right is to ensure the input layer has the right number of input features.\n",
    "\n",
    "Since this is a binary classification problem, we will use a sigmoid activation function in the final layer of our network.\n",
    "\n",
    "**Sigmoid is commonly used in the output layer. This is because it helps in giving a probability(value between 0 and 1) which is useful in Binary Classification.**"
   ]
  },
  {
   "cell_type": "markdown",
   "metadata": {
    "colab_type": "text",
    "id": "BYRdVnR4HJX0"
   },
   "source": [
    "### Our model architecture\n",
    "For our model, we'll be considering the following:\n",
    "\n",
    "* Input = the no. of features in X_train = 13\n",
    "* No. of neurons/units in first Dense layer = 32\n",
    "* No. of neurons/units in second Dense layer = 16\n",
    "* No. of neurons/units in third Dense layer = 8\n",
    "* No. of neurons/units in output layer = 1\n",
    "\n",
    "If you closely look at it, we're slowly decreasing the number of neurons in each layer. Deciding the no. of hidden layers and no. of neurons is a process of trial and error. \n",
    "\n",
    "If you're interested in understanding the intuition behind it better, you can go through the following article: [Beginners Ask “How Many Hidden Layers/Neurons to Use in Artificial Neural Networks?”](https://towardsdatascience.com/beginners-ask-how-many-hidden-layers-neurons-to-use-in-artificial-neural-networks-51466afa0d3e)"
   ]
  },
  {
   "cell_type": "code",
   "execution_count": null,
   "metadata": {
    "colab": {},
    "colab_type": "code",
    "id": "LjtP40PAkQt5"
   },
   "outputs": [],
   "source": [
    "# Building the model\n",
    "model = Sequential()\n",
    "model.add(Dense(32, activation='relu', input_shape=(X_train.shape[1],)))   \n",
    "model.add(Dense(16, activation='relu'))\n",
    "model.add(Dense(8, activation='relu'))\n",
    "model.add(Dense(1, activation='sigmoid'))                                  "
   ]
  },
  {
   "cell_type": "markdown",
   "metadata": {
    "colab_type": "text",
    "id": "mbfh-qTq0anZ"
   },
   "source": [
    "* The above code creates a Neural Network that has 4 layers. \n",
    "\n",
    "* The **last node** uses the **sigmoid activation function** that will squeeze all the values between 0 and 1.\n",
    "\n",
    "* The other layers use **ReLU (Rectified Linear Units)** as the activation function. ReLU is a half rectified function; that is, for all the inputs less than 0 (e.g. -120,-6.7, -0.0344, 0) the value is 0 while for anything positive (e.g. 10,15, 34) the value is retained. \n",
    "\n",
    "* One output unit is used since for each record values in X, a probability will be predicted. If it is high, then the person has a heart disease. If it is less, then the person does not have a heart disease."
   ]
  },
  {
   "cell_type": "markdown",
   "metadata": {
    "colab_type": "text",
    "id": "1R1xTCNFP3Rf"
   },
   "source": [
    "You might ask \"why we are using relu first and sigmoid at the last?\" or \"How are we choosing the no. of neurons in dense layer?\" etc. Most of it is covered in [this article](https://machinelearningknowledge.ai/activation-functions-neural-network/) and [this article](https://towardsdatascience.com/beginners-ask-how-many-hidden-layers-neurons-to-use-in-artificial-neural-networks-51466afa0d3e) shared earlier. \n",
    "\n",
    "In short, the activation functions have some properties that make one favourable to use at one place and another activation function to be suitable at another place. We will be reading about these properties soon. "
   ]
  },
  {
   "cell_type": "markdown",
   "metadata": {
    "colab_type": "text",
    "id": "Ime_KfUGm23x"
   },
   "source": [
    "## Model Compilation"
   ]
  },
  {
   "cell_type": "code",
   "execution_count": null,
   "metadata": {
    "colab": {},
    "colab_type": "code",
    "id": "LZ91pR07kVk7"
   },
   "outputs": [],
   "source": [
    "# Compiling the model\n",
    "from tensorflow.keras.optimizers import RMSprop\n",
    "optimizer = RMSprop(0.001)  # Here, we have set our learning rate as 0.001\n",
    "model.compile(loss='binary_crossentropy', optimizer= optimizer , metrics=['accuracy'])"
   ]
  },
  {
   "cell_type": "markdown",
   "metadata": {
    "colab_type": "text",
    "id": "74tA2RWp0mLp"
   },
   "source": [
    "* The above code compiles the network.\n",
    "\n",
    "* The **loss function** used is **binary_crossentropy**. For binary classification problems that give output in the form of probability, binary_crossentropy is usually the optimizer of choice.\n",
    "\n",
    "*  It uses **rmsprop** as an **optimizer**. \n",
    "\n",
    "* The **learning rate** is taken to be **0.001**. You can even try different values to see which works the best.It is important to find a good value for the learning rate for your model on your training dataset. \n",
    "\n",
    "  We cannot analytically calculate the optimal learning rate for a given model on a given dataset. Instead, a good (or good enough) learning rate must be discovered via trial and error.\n",
    "\n",
    "  The range of values to consider for the learning rate is less than 1.0 and greater than $10^{-6}$.\n",
    "\n",
    "  A traditional default value for the learning rate is 0.1, 0.01 or 0.001, and this may represent a good starting point on your problem.\n",
    "\n",
    "* **Metrics** used to evaluate the model is **accuracy**. Accuracy calculates how often the predictions calculated by the model are correct."
   ]
  },
  {
   "cell_type": "code",
   "execution_count": null,
   "metadata": {
    "colab": {
     "base_uri": "https://localhost:8080/",
     "height": 290
    },
    "colab_type": "code",
    "id": "yb2dKfvSkX6s",
    "outputId": "2a7b094a-b52d-47ab-b5d5-99b334a127aa"
   },
   "outputs": [
    {
     "name": "stdout",
     "output_type": "stream",
     "text": [
      "Model: \"sequential\"\n",
      "_________________________________________________________________\n",
      "Layer (type)                 Output Shape              Param #   \n",
      "=================================================================\n",
      "dense (Dense)                (None, 32)                448       \n",
      "_________________________________________________________________\n",
      "dense_1 (Dense)              (None, 16)                528       \n",
      "_________________________________________________________________\n",
      "dense_2 (Dense)              (None, 8)                 136       \n",
      "_________________________________________________________________\n",
      "dense_3 (Dense)              (None, 1)                 9         \n",
      "=================================================================\n",
      "Total params: 1,121\n",
      "Trainable params: 1,121\n",
      "Non-trainable params: 0\n",
      "_________________________________________________________________\n"
     ]
    }
   ],
   "source": [
    "# printing the summary of the model\n",
    "model.summary()"
   ]
  },
  {
   "cell_type": "code",
   "execution_count": null,
   "metadata": {
    "colab": {
     "base_uri": "https://localhost:8080/",
     "height": 466
    },
    "colab_type": "code",
    "id": "dCy_f45e1Qj6",
    "outputId": "bff96246-4a9b-49d8-d783-3ad1eeef85a5"
   },
   "outputs": [
    {
     "data": {
      "image/png": "[encoded data removed]",
      "text/plain": [
       "<IPython.core.display.Image object>"
      ]
     },
     "execution_count": 12,
     "metadata": {
      "tags": []
     },
     "output_type": "execute_result"
    }
   ],
   "source": [
    "# plotting the model\n",
    "from tensorflow.keras.utils import plot_model\n",
    "plot_model(model)"
   ]
  },
  {
   "cell_type": "markdown",
   "metadata": {
    "colab_type": "text",
    "id": "4dkmq6YFm7fO"
   },
   "source": [
    "## Model Training\n",
    "The model is initially trained for **200 epochs** with a **batch size of 10**. \n",
    "Both epochs and batch size are hyperparameters that can be modified to optimise the model.\n",
    "\n",
    "**validation_split:** Fraction of the training data to be used as validation data. The model will set apart this fraction of the training data, will not train on it, and will evaluate the loss and any model metrics on this data at the end of each epoch. \n",
    "The val_loss and val_accuracy that you can see below are calculated with this validation data.\n",
    "\n",
    "You'll learn more about the importance of validation data later. \n",
    "\n",
    "**verbose:** Verbose is just for printing purposes, for making the output more readable.\n",
    "\n"
   ]
  },
  {
   "cell_type": "markdown",
   "metadata": {
    "colab_type": "text",
    "id": "wmQ4ZTih-NFf"
   },
   "source": [
    "### History\n",
    "Notice that we're saving the trained model to a variable **history**. \n",
    "\n",
    "When running a model, Tensorflow Keras maintains a so-called History object in the background. This object keeps all loss values and other metric values in memory so that they can be used for visualizations.\n",
    "\n",
    "The history object is the output of the fit operation."
   ]
  },
  {
   "cell_type": "code",
   "execution_count": null,
   "metadata": {
    "colab": {
     "base_uri": "https://localhost:8080/",
     "height": 1000
    },
    "colab_type": "code",
    "id": "0RbTE0FDmEET",
    "outputId": "39218b6e-6852-48b7-c343-3ba8f3d31584"
   },
   "outputs": [
    {
     "name": "stdout",
     "output_type": "stream",
     "text": [
      "Epoch 1/200\n",
      "20/20 [==============================] - 0s 11ms/step - loss: 14.0338 - accuracy: 0.4611 - val_loss: 4.9603 - val_accuracy: 0.3469\n",
      "Epoch 2/200\n",
      "20/20 [==============================] - 0s 2ms/step - loss: 2.6556 - accuracy: 0.3990 - val_loss: 1.9551 - val_accuracy: 0.5306\n",
      "Epoch 3/200\n",
      "20/20 [==============================] - 0s 2ms/step - loss: 1.2339 - accuracy: 0.5026 - val_loss: 1.2589 - val_accuracy: 0.5510\n",
      "Epoch 4/200\n",
      "20/20 [==============================] - 0s 2ms/step - loss: 0.9704 - accuracy: 0.5389 - val_loss: 2.0383 - val_accuracy: 0.4286\n",
      "Epoch 5/200\n",
      "20/20 [==============================] - 0s 2ms/step - loss: 1.0001 - accuracy: 0.5959 - val_loss: 0.9022 - val_accuracy: 0.4898\n",
      "Epoch 6/200\n",
      "20/20 [==============================] - 0s 2ms/step - loss: 0.9374 - accuracy: 0.5699 - val_loss: 1.2299 - val_accuracy: 0.5714\n",
      "Epoch 7/200\n",
      "20/20 [==============================] - 0s 2ms/step - loss: 0.7642 - accuracy: 0.6477 - val_loss: 0.6346 - val_accuracy: 0.6531\n",
      "Epoch 8/200\n",
      "20/20 [==============================] - 0s 2ms/step - loss: 0.8959 - accuracy: 0.6114 - val_loss: 0.6143 - val_accuracy: 0.6735\n",
      "Epoch 9/200\n",
      "20/20 [==============================] - 0s 2ms/step - loss: 0.8084 - accuracy: 0.6425 - val_loss: 1.1852 - val_accuracy: 0.5714\n",
      "Epoch 10/200\n",
      "20/20 [==============================] - 0s 3ms/step - loss: 0.7227 - accuracy: 0.6788 - val_loss: 0.9581 - val_accuracy: 0.4898\n",
      "Epoch 11/200\n",
      "20/20 [==============================] - 0s 2ms/step - loss: 0.8187 - accuracy: 0.6580 - val_loss: 0.9669 - val_accuracy: 0.6122\n",
      "Epoch 12/200\n",
      "20/20 [==============================] - 0s 2ms/step - loss: 0.8126 - accuracy: 0.6218 - val_loss: 0.6147 - val_accuracy: 0.7143\n",
      "Epoch 13/200\n",
      "20/20 [==============================] - 0s 2ms/step - loss: 0.7167 - accuracy: 0.6839 - val_loss: 0.6072 - val_accuracy: 0.6939\n",
      "Epoch 14/200\n",
      "20/20 [==============================] - 0s 2ms/step - loss: 0.7242 - accuracy: 0.6788 - val_loss: 0.5571 - val_accuracy: 0.7347\n",
      "Epoch 15/200\n",
      "20/20 [==============================] - 0s 2ms/step - loss: 0.6850 - accuracy: 0.6891 - val_loss: 1.4925 - val_accuracy: 0.5714\n",
      "Epoch 16/200\n",
      "20/20 [==============================] - 0s 2ms/step - loss: 0.6348 - accuracy: 0.6995 - val_loss: 0.8698 - val_accuracy: 0.6735\n",
      "Epoch 17/200\n",
      "20/20 [==============================] - 0s 2ms/step - loss: 0.7115 - accuracy: 0.6321 - val_loss: 0.6556 - val_accuracy: 0.6939\n",
      "Epoch 18/200\n",
      "20/20 [==============================] - 0s 2ms/step - loss: 0.7453 - accuracy: 0.6218 - val_loss: 0.6171 - val_accuracy: 0.6735\n",
      "Epoch 19/200\n",
      "20/20 [==============================] - 0s 2ms/step - loss: 0.6938 - accuracy: 0.6788 - val_loss: 1.1436 - val_accuracy: 0.4490\n",
      "Epoch 20/200\n",
      "20/20 [==============================] - 0s 2ms/step - loss: 0.7644 - accuracy: 0.6010 - val_loss: 1.2179 - val_accuracy: 0.5714\n",
      "Epoch 21/200\n",
      "20/20 [==============================] - 0s 2ms/step - loss: 0.6398 - accuracy: 0.6528 - val_loss: 1.4435 - val_accuracy: 0.5714\n",
      "Epoch 22/200\n",
      "20/20 [==============================] - 0s 2ms/step - loss: 0.7033 - accuracy: 0.7150 - val_loss: 0.7153 - val_accuracy: 0.7143\n",
      "Epoch 23/200\n",
      "20/20 [==============================] - 0s 2ms/step - loss: 0.6914 - accuracy: 0.7047 - val_loss: 0.7610 - val_accuracy: 0.5510\n",
      "Epoch 24/200\n",
      "20/20 [==============================] - 0s 2ms/step - loss: 0.7154 - accuracy: 0.6632 - val_loss: 0.9092 - val_accuracy: 0.4898\n",
      "Epoch 25/200\n",
      "20/20 [==============================] - 0s 2ms/step - loss: 0.6677 - accuracy: 0.6684 - val_loss: 1.0345 - val_accuracy: 0.4490\n",
      "Epoch 26/200\n",
      "20/20 [==============================] - 0s 2ms/step - loss: 0.6775 - accuracy: 0.6684 - val_loss: 0.5275 - val_accuracy: 0.7551\n",
      "Epoch 27/200\n",
      "20/20 [==============================] - 0s 2ms/step - loss: 0.5853 - accuracy: 0.7098 - val_loss: 0.8421 - val_accuracy: 0.4898\n",
      "Epoch 28/200\n",
      "20/20 [==============================] - 0s 2ms/step - loss: 0.6089 - accuracy: 0.6943 - val_loss: 0.5652 - val_accuracy: 0.7551\n",
      "Epoch 29/200\n",
      "20/20 [==============================] - 0s 2ms/step - loss: 0.6511 - accuracy: 0.7098 - val_loss: 0.6728 - val_accuracy: 0.5306\n",
      "Epoch 30/200\n",
      "20/20 [==============================] - 0s 2ms/step - loss: 0.6327 - accuracy: 0.6580 - val_loss: 0.5519 - val_accuracy: 0.7347\n",
      "Epoch 31/200\n",
      "20/20 [==============================] - 0s 2ms/step - loss: 0.5817 - accuracy: 0.6891 - val_loss: 0.5246 - val_accuracy: 0.7347\n",
      "Epoch 32/200\n",
      "20/20 [==============================] - 0s 2ms/step - loss: 0.5503 - accuracy: 0.7565 - val_loss: 0.5561 - val_accuracy: 0.7347\n",
      "Epoch 33/200\n",
      "20/20 [==============================] - 0s 2ms/step - loss: 0.6278 - accuracy: 0.6736 - val_loss: 0.5647 - val_accuracy: 0.7143\n",
      "Epoch 34/200\n",
      "20/20 [==============================] - 0s 2ms/step - loss: 0.5490 - accuracy: 0.7150 - val_loss: 0.4859 - val_accuracy: 0.7347\n",
      "Epoch 35/200\n",
      "20/20 [==============================] - 0s 2ms/step - loss: 0.5881 - accuracy: 0.6891 - val_loss: 1.0021 - val_accuracy: 0.4694\n",
      "Epoch 36/200\n",
      "20/20 [==============================] - 0s 2ms/step - loss: 0.5406 - accuracy: 0.7358 - val_loss: 0.8164 - val_accuracy: 0.4898\n",
      "Epoch 37/200\n",
      "20/20 [==============================] - 0s 2ms/step - loss: 0.5966 - accuracy: 0.7047 - val_loss: 0.5022 - val_accuracy: 0.7551\n",
      "Epoch 38/200\n",
      "20/20 [==============================] - 0s 2ms/step - loss: 0.5586 - accuracy: 0.7306 - val_loss: 0.5098 - val_accuracy: 0.7347\n",
      "Epoch 39/200\n",
      "20/20 [==============================] - 0s 3ms/step - loss: 0.5422 - accuracy: 0.6943 - val_loss: 0.4933 - val_accuracy: 0.7755\n",
      "Epoch 40/200\n",
      "20/20 [==============================] - 0s 3ms/step - loss: 0.5241 - accuracy: 0.7254 - val_loss: 0.4828 - val_accuracy: 0.7551\n",
      "Epoch 41/200\n",
      "20/20 [==============================] - 0s 2ms/step - loss: 0.5763 - accuracy: 0.7254 - val_loss: 0.5760 - val_accuracy: 0.6735\n",
      "Epoch 42/200\n",
      "20/20 [==============================] - 0s 2ms/step - loss: 0.5146 - accuracy: 0.7513 - val_loss: 0.8408 - val_accuracy: 0.5918\n",
      "Epoch 43/200\n",
      "20/20 [==============================] - 0s 2ms/step - loss: 0.5311 - accuracy: 0.7047 - val_loss: 0.6395 - val_accuracy: 0.5918\n",
      "Epoch 44/200\n",
      "20/20 [==============================] - 0s 2ms/step - loss: 0.5507 - accuracy: 0.7047 - val_loss: 0.5793 - val_accuracy: 0.6735\n",
      "Epoch 45/200\n",
      "20/20 [==============================] - 0s 2ms/step - loss: 0.4911 - accuracy: 0.7461 - val_loss: 0.4751 - val_accuracy: 0.7551\n",
      "Epoch 46/200\n",
      "20/20 [==============================] - 0s 2ms/step - loss: 0.5844 - accuracy: 0.7202 - val_loss: 0.5909 - val_accuracy: 0.6735\n",
      "Epoch 47/200\n",
      "20/20 [==============================] - 0s 2ms/step - loss: 0.5324 - accuracy: 0.7202 - val_loss: 0.5963 - val_accuracy: 0.6531\n",
      "Epoch 48/200\n",
      "20/20 [==============================] - 0s 2ms/step - loss: 0.5215 - accuracy: 0.7202 - val_loss: 0.6110 - val_accuracy: 0.6122\n",
      "Epoch 49/200\n",
      "20/20 [==============================] - 0s 2ms/step - loss: 0.5467 - accuracy: 0.7306 - val_loss: 0.4785 - val_accuracy: 0.7959\n",
      "Epoch 50/200\n",
      "20/20 [==============================] - 0s 3ms/step - loss: 0.5062 - accuracy: 0.7668 - val_loss: 0.9034 - val_accuracy: 0.6531\n",
      "Epoch 51/200\n",
      "20/20 [==============================] - 0s 2ms/step - loss: 0.5199 - accuracy: 0.7565 - val_loss: 0.4580 - val_accuracy: 0.7347\n",
      "Epoch 52/200\n",
      "20/20 [==============================] - 0s 2ms/step - loss: 0.5122 - accuracy: 0.7720 - val_loss: 0.4626 - val_accuracy: 0.7755\n",
      "Epoch 53/200\n",
      "20/20 [==============================] - 0s 2ms/step - loss: 0.5103 - accuracy: 0.7150 - val_loss: 0.9347 - val_accuracy: 0.6531\n",
      "Epoch 54/200\n",
      "20/20 [==============================] - 0s 2ms/step - loss: 0.4995 - accuracy: 0.7772 - val_loss: 0.9499 - val_accuracy: 0.4898\n",
      "Epoch 55/200\n",
      "20/20 [==============================] - 0s 2ms/step - loss: 0.5128 - accuracy: 0.7565 - val_loss: 0.5128 - val_accuracy: 0.7347\n",
      "Epoch 56/200\n",
      "20/20 [==============================] - 0s 2ms/step - loss: 0.5278 - accuracy: 0.7409 - val_loss: 0.5813 - val_accuracy: 0.7347\n",
      "Epoch 57/200\n",
      "20/20 [==============================] - 0s 2ms/step - loss: 0.4883 - accuracy: 0.7358 - val_loss: 0.9117 - val_accuracy: 0.6531\n",
      "Epoch 58/200\n",
      "20/20 [==============================] - 0s 2ms/step - loss: 0.5472 - accuracy: 0.7617 - val_loss: 0.6822 - val_accuracy: 0.5918\n",
      "Epoch 59/200\n",
      "20/20 [==============================] - 0s 2ms/step - loss: 0.5117 - accuracy: 0.7358 - val_loss: 0.9032 - val_accuracy: 0.4898\n",
      "Epoch 60/200\n",
      "20/20 [==============================] - 0s 2ms/step - loss: 0.4788 - accuracy: 0.7617 - val_loss: 0.7342 - val_accuracy: 0.5306\n",
      "Epoch 61/200\n",
      "20/20 [==============================] - 0s 2ms/step - loss: 0.5182 - accuracy: 0.7306 - val_loss: 0.4764 - val_accuracy: 0.7959\n",
      "Epoch 62/200\n",
      "20/20 [==============================] - 0s 2ms/step - loss: 0.4458 - accuracy: 0.7876 - val_loss: 0.5656 - val_accuracy: 0.7347\n",
      "Epoch 63/200\n",
      "20/20 [==============================] - 0s 2ms/step - loss: 0.4953 - accuracy: 0.7150 - val_loss: 0.5697 - val_accuracy: 0.7347\n",
      "Epoch 64/200\n",
      "20/20 [==============================] - 0s 2ms/step - loss: 0.5163 - accuracy: 0.7668 - val_loss: 0.5825 - val_accuracy: 0.7551\n",
      "Epoch 65/200\n",
      "20/20 [==============================] - 0s 2ms/step - loss: 0.4990 - accuracy: 0.7513 - val_loss: 0.5956 - val_accuracy: 0.6735\n",
      "Epoch 66/200\n",
      "20/20 [==============================] - 0s 2ms/step - loss: 0.4599 - accuracy: 0.7824 - val_loss: 0.4332 - val_accuracy: 0.7551\n",
      "Epoch 67/200\n",
      "20/20 [==============================] - 0s 2ms/step - loss: 0.4999 - accuracy: 0.7513 - val_loss: 0.4389 - val_accuracy: 0.7755\n",
      "Epoch 68/200\n",
      "20/20 [==============================] - 0s 2ms/step - loss: 0.4856 - accuracy: 0.7461 - val_loss: 0.6361 - val_accuracy: 0.6122\n",
      "Epoch 69/200\n",
      "20/20 [==============================] - 0s 2ms/step - loss: 0.4908 - accuracy: 0.7565 - val_loss: 0.7952 - val_accuracy: 0.5306\n",
      "Epoch 70/200\n",
      "20/20 [==============================] - 0s 2ms/step - loss: 0.5374 - accuracy: 0.7306 - val_loss: 0.6923 - val_accuracy: 0.6122\n",
      "Epoch 71/200\n",
      "20/20 [==============================] - 0s 2ms/step - loss: 0.5067 - accuracy: 0.7668 - val_loss: 0.4276 - val_accuracy: 0.7959\n",
      "Epoch 72/200\n",
      "20/20 [==============================] - 0s 2ms/step - loss: 0.4718 - accuracy: 0.7565 - val_loss: 0.5218 - val_accuracy: 0.7347\n",
      "Epoch 73/200\n",
      "20/20 [==============================] - 0s 2ms/step - loss: 0.5083 - accuracy: 0.7461 - val_loss: 0.4259 - val_accuracy: 0.7959\n",
      "Epoch 74/200\n",
      "20/20 [==============================] - 0s 2ms/step - loss: 0.4899 - accuracy: 0.7409 - val_loss: 0.6372 - val_accuracy: 0.7551\n",
      "Epoch 75/200\n",
      "20/20 [==============================] - 0s 2ms/step - loss: 0.5111 - accuracy: 0.7306 - val_loss: 0.5411 - val_accuracy: 0.7551\n",
      "Epoch 76/200\n",
      "20/20 [==============================] - 0s 2ms/step - loss: 0.4471 - accuracy: 0.7772 - val_loss: 0.4265 - val_accuracy: 0.7959\n",
      "Epoch 77/200\n",
      "20/20 [==============================] - 0s 2ms/step - loss: 0.4469 - accuracy: 0.7927 - val_loss: 0.6465 - val_accuracy: 0.7347\n",
      "Epoch 78/200\n",
      "20/20 [==============================] - 0s 2ms/step - loss: 0.4596 - accuracy: 0.7824 - val_loss: 0.9258 - val_accuracy: 0.5102\n",
      "Epoch 79/200\n",
      "20/20 [==============================] - 0s 2ms/step - loss: 0.4790 - accuracy: 0.8031 - val_loss: 0.4485 - val_accuracy: 0.7959\n",
      "Epoch 80/200\n",
      "20/20 [==============================] - 0s 2ms/step - loss: 0.4728 - accuracy: 0.7772 - val_loss: 0.6073 - val_accuracy: 0.6939\n",
      "Epoch 81/200\n",
      "20/20 [==============================] - 0s 2ms/step - loss: 0.4612 - accuracy: 0.7617 - val_loss: 0.5285 - val_accuracy: 0.7755\n",
      "Epoch 82/200\n",
      "20/20 [==============================] - 0s 2ms/step - loss: 0.4507 - accuracy: 0.7927 - val_loss: 0.7659 - val_accuracy: 0.6122\n",
      "Epoch 83/200\n",
      "20/20 [==============================] - 0s 2ms/step - loss: 0.4436 - accuracy: 0.8031 - val_loss: 0.6078 - val_accuracy: 0.6327\n",
      "Epoch 84/200\n",
      "20/20 [==============================] - 0s 2ms/step - loss: 0.4591 - accuracy: 0.8238 - val_loss: 0.5335 - val_accuracy: 0.7551\n",
      "Epoch 85/200\n",
      "20/20 [==============================] - 0s 2ms/step - loss: 0.4991 - accuracy: 0.7565 - val_loss: 0.4331 - val_accuracy: 0.7755\n",
      "Epoch 86/200\n",
      "20/20 [==============================] - 0s 2ms/step - loss: 0.4374 - accuracy: 0.8135 - val_loss: 0.4963 - val_accuracy: 0.8163\n",
      "Epoch 87/200\n",
      "20/20 [==============================] - 0s 2ms/step - loss: 0.4318 - accuracy: 0.8031 - val_loss: 0.6214 - val_accuracy: 0.7347\n",
      "Epoch 88/200\n",
      "20/20 [==============================] - 0s 2ms/step - loss: 0.4640 - accuracy: 0.7979 - val_loss: 0.4444 - val_accuracy: 0.7959\n",
      "Epoch 89/200\n",
      "20/20 [==============================] - 0s 2ms/step - loss: 0.4952 - accuracy: 0.7668 - val_loss: 0.6903 - val_accuracy: 0.6327\n",
      "Epoch 90/200\n",
      "20/20 [==============================] - 0s 2ms/step - loss: 0.4529 - accuracy: 0.8135 - val_loss: 0.6003 - val_accuracy: 0.6327\n",
      "Epoch 91/200\n",
      "20/20 [==============================] - 0s 2ms/step - loss: 0.4529 - accuracy: 0.7720 - val_loss: 1.0082 - val_accuracy: 0.5102\n",
      "Epoch 92/200\n",
      "20/20 [==============================] - 0s 2ms/step - loss: 0.5078 - accuracy: 0.7254 - val_loss: 0.4215 - val_accuracy: 0.7755\n",
      "Epoch 93/200\n",
      "20/20 [==============================] - 0s 2ms/step - loss: 0.4382 - accuracy: 0.7927 - val_loss: 0.6746 - val_accuracy: 0.7755\n",
      "Epoch 94/200\n",
      "20/20 [==============================] - 0s 2ms/step - loss: 0.4364 - accuracy: 0.8238 - val_loss: 1.5073 - val_accuracy: 0.4694\n",
      "Epoch 95/200\n",
      "20/20 [==============================] - 0s 2ms/step - loss: 0.4684 - accuracy: 0.7927 - val_loss: 0.6168 - val_accuracy: 0.7551\n",
      "Epoch 96/200\n",
      "20/20 [==============================] - 0s 2ms/step - loss: 0.4650 - accuracy: 0.7565 - val_loss: 0.4140 - val_accuracy: 0.7959\n",
      "Epoch 97/200\n",
      "20/20 [==============================] - 0s 2ms/step - loss: 0.5191 - accuracy: 0.7668 - val_loss: 0.4394 - val_accuracy: 0.7755\n",
      "Epoch 98/200\n",
      "20/20 [==============================] - 0s 2ms/step - loss: 0.4365 - accuracy: 0.8083 - val_loss: 0.5403 - val_accuracy: 0.7959\n",
      "Epoch 99/200\n",
      "20/20 [==============================] - 0s 2ms/step - loss: 0.4622 - accuracy: 0.7927 - val_loss: 0.4898 - val_accuracy: 0.8163\n",
      "Epoch 100/200\n",
      "20/20 [==============================] - 0s 2ms/step - loss: 0.4480 - accuracy: 0.7720 - val_loss: 0.4165 - val_accuracy: 0.7959\n",
      "Epoch 101/200\n",
      "20/20 [==============================] - 0s 2ms/step - loss: 0.4533 - accuracy: 0.7668 - val_loss: 0.4413 - val_accuracy: 0.7551\n",
      "Epoch 102/200\n",
      "20/20 [==============================] - 0s 2ms/step - loss: 0.4445 - accuracy: 0.7876 - val_loss: 1.1338 - val_accuracy: 0.4694\n",
      "Epoch 103/200\n",
      "20/20 [==============================] - 0s 2ms/step - loss: 0.4658 - accuracy: 0.7565 - val_loss: 0.4171 - val_accuracy: 0.7959\n",
      "Epoch 104/200\n",
      "20/20 [==============================] - 0s 2ms/step - loss: 0.4519 - accuracy: 0.7720 - val_loss: 0.5444 - val_accuracy: 0.8163\n",
      "Epoch 105/200\n",
      "20/20 [==============================] - 0s 2ms/step - loss: 0.4663 - accuracy: 0.7720 - val_loss: 0.4203 - val_accuracy: 0.7959\n",
      "Epoch 106/200\n",
      "20/20 [==============================] - 0s 3ms/step - loss: 0.4069 - accuracy: 0.7824 - val_loss: 1.0786 - val_accuracy: 0.4898\n",
      "Epoch 107/200\n",
      "20/20 [==============================] - 0s 3ms/step - loss: 0.4845 - accuracy: 0.7565 - val_loss: 0.9605 - val_accuracy: 0.5306\n",
      "Epoch 108/200\n",
      "20/20 [==============================] - 0s 2ms/step - loss: 0.4345 - accuracy: 0.7824 - val_loss: 0.8762 - val_accuracy: 0.5510\n",
      "Epoch 109/200\n",
      "20/20 [==============================] - 0s 2ms/step - loss: 0.4482 - accuracy: 0.7668 - val_loss: 0.4823 - val_accuracy: 0.8163\n",
      "Epoch 110/200\n",
      "20/20 [==============================] - 0s 2ms/step - loss: 0.3883 - accuracy: 0.8238 - val_loss: 0.9706 - val_accuracy: 0.5306\n",
      "Epoch 111/200\n",
      "20/20 [==============================] - 0s 2ms/step - loss: 0.5018 - accuracy: 0.7668 - val_loss: 0.6495 - val_accuracy: 0.6531\n",
      "Epoch 112/200\n",
      "20/20 [==============================] - 0s 2ms/step - loss: 0.4597 - accuracy: 0.7979 - val_loss: 0.4291 - val_accuracy: 0.7551\n",
      "Epoch 113/200\n",
      "20/20 [==============================] - 0s 2ms/step - loss: 0.4291 - accuracy: 0.8135 - val_loss: 0.4234 - val_accuracy: 0.7755\n",
      "Epoch 114/200\n",
      "20/20 [==============================] - 0s 2ms/step - loss: 0.4607 - accuracy: 0.8031 - val_loss: 0.4876 - val_accuracy: 0.7551\n",
      "Epoch 115/200\n",
      "20/20 [==============================] - 0s 2ms/step - loss: 0.4589 - accuracy: 0.7876 - val_loss: 0.5231 - val_accuracy: 0.7551\n",
      "Epoch 116/200\n",
      "20/20 [==============================] - 0s 2ms/step - loss: 0.5074 - accuracy: 0.7150 - val_loss: 0.4314 - val_accuracy: 0.8163\n",
      "Epoch 117/200\n",
      "20/20 [==============================] - 0s 2ms/step - loss: 0.4637 - accuracy: 0.7876 - val_loss: 0.4069 - val_accuracy: 0.7959\n",
      "Epoch 118/200\n",
      "20/20 [==============================] - 0s 2ms/step - loss: 0.4226 - accuracy: 0.8031 - val_loss: 0.7750 - val_accuracy: 0.5918\n",
      "Epoch 119/200\n",
      "20/20 [==============================] - 0s 2ms/step - loss: 0.4318 - accuracy: 0.8031 - val_loss: 0.7163 - val_accuracy: 0.6327\n",
      "Epoch 120/200\n",
      "20/20 [==============================] - 0s 2ms/step - loss: 0.4793 - accuracy: 0.7876 - val_loss: 0.4843 - val_accuracy: 0.7551\n",
      "Epoch 121/200\n",
      "20/20 [==============================] - 0s 2ms/step - loss: 0.3987 - accuracy: 0.8394 - val_loss: 0.5959 - val_accuracy: 0.7143\n",
      "Epoch 122/200\n",
      "20/20 [==============================] - 0s 2ms/step - loss: 0.4220 - accuracy: 0.8187 - val_loss: 0.6242 - val_accuracy: 0.6531\n",
      "Epoch 123/200\n",
      "20/20 [==============================] - 0s 2ms/step - loss: 0.4557 - accuracy: 0.8238 - val_loss: 0.6514 - val_accuracy: 0.7551\n",
      "Epoch 124/200\n",
      "20/20 [==============================] - 0s 2ms/step - loss: 0.4730 - accuracy: 0.7772 - val_loss: 0.4069 - val_accuracy: 0.7959\n",
      "Epoch 125/200\n",
      "20/20 [==============================] - 0s 2ms/step - loss: 0.4103 - accuracy: 0.8290 - val_loss: 0.4684 - val_accuracy: 0.7551\n",
      "Epoch 126/200\n",
      "20/20 [==============================] - 0s 2ms/step - loss: 0.4012 - accuracy: 0.8083 - val_loss: 0.6172 - val_accuracy: 0.7959\n",
      "Epoch 127/200\n",
      "20/20 [==============================] - 0s 2ms/step - loss: 0.4169 - accuracy: 0.7876 - val_loss: 0.4154 - val_accuracy: 0.7959\n",
      "Epoch 128/200\n",
      "20/20 [==============================] - 0s 2ms/step - loss: 0.4049 - accuracy: 0.7979 - val_loss: 0.7655 - val_accuracy: 0.7347\n",
      "Epoch 129/200\n",
      "20/20 [==============================] - 0s 2ms/step - loss: 0.4104 - accuracy: 0.8135 - val_loss: 0.5667 - val_accuracy: 0.7143\n",
      "Epoch 130/200\n",
      "20/20 [==============================] - 0s 2ms/step - loss: 0.4364 - accuracy: 0.7979 - val_loss: 0.6004 - val_accuracy: 0.7143\n",
      "Epoch 131/200\n",
      "20/20 [==============================] - 0s 2ms/step - loss: 0.4349 - accuracy: 0.7979 - val_loss: 0.4121 - val_accuracy: 0.7959\n",
      "Epoch 132/200\n",
      "20/20 [==============================] - 0s 2ms/step - loss: 0.4518 - accuracy: 0.7772 - val_loss: 0.4163 - val_accuracy: 0.8163\n",
      "Epoch 133/200\n",
      "20/20 [==============================] - 0s 2ms/step - loss: 0.4481 - accuracy: 0.7772 - val_loss: 0.4368 - val_accuracy: 0.8163\n",
      "Epoch 134/200\n",
      "20/20 [==============================] - 0s 2ms/step - loss: 0.4377 - accuracy: 0.7927 - val_loss: 0.4458 - val_accuracy: 0.7755\n",
      "Epoch 135/200\n",
      "20/20 [==============================] - 0s 2ms/step - loss: 0.4534 - accuracy: 0.7876 - val_loss: 0.4175 - val_accuracy: 0.7755\n",
      "Epoch 136/200\n",
      "20/20 [==============================] - 0s 2ms/step - loss: 0.4558 - accuracy: 0.7927 - val_loss: 0.5064 - val_accuracy: 0.7551\n",
      "Epoch 137/200\n",
      "20/20 [==============================] - 0s 2ms/step - loss: 0.4236 - accuracy: 0.8083 - val_loss: 0.5002 - val_accuracy: 0.7551\n",
      "Epoch 138/200\n",
      "20/20 [==============================] - 0s 2ms/step - loss: 0.4665 - accuracy: 0.8135 - val_loss: 0.4351 - val_accuracy: 0.7551\n",
      "Epoch 139/200\n",
      "20/20 [==============================] - 0s 2ms/step - loss: 0.3779 - accuracy: 0.8290 - val_loss: 0.5851 - val_accuracy: 0.6939\n",
      "Epoch 140/200\n",
      "20/20 [==============================] - 0s 2ms/step - loss: 0.4310 - accuracy: 0.7876 - val_loss: 0.5471 - val_accuracy: 0.7959\n",
      "Epoch 141/200\n",
      "20/20 [==============================] - 0s 2ms/step - loss: 0.4453 - accuracy: 0.7824 - val_loss: 0.4116 - val_accuracy: 0.7959\n",
      "Epoch 142/200\n",
      "20/20 [==============================] - 0s 2ms/step - loss: 0.4005 - accuracy: 0.8083 - val_loss: 0.4190 - val_accuracy: 0.7551\n",
      "Epoch 143/200\n",
      "20/20 [==============================] - 0s 2ms/step - loss: 0.4089 - accuracy: 0.8083 - val_loss: 0.5534 - val_accuracy: 0.7347\n",
      "Epoch 144/200\n",
      "20/20 [==============================] - 0s 2ms/step - loss: 0.4326 - accuracy: 0.7979 - val_loss: 0.4063 - val_accuracy: 0.7959\n",
      "Epoch 145/200\n",
      "20/20 [==============================] - 0s 2ms/step - loss: 0.4416 - accuracy: 0.7668 - val_loss: 0.4089 - val_accuracy: 0.8163\n",
      "Epoch 146/200\n",
      "20/20 [==============================] - 0s 2ms/step - loss: 0.4236 - accuracy: 0.8290 - val_loss: 0.4399 - val_accuracy: 0.8163\n",
      "Epoch 147/200\n",
      "20/20 [==============================] - 0s 2ms/step - loss: 0.4014 - accuracy: 0.7876 - val_loss: 0.4079 - val_accuracy: 0.7959\n",
      "Epoch 148/200\n",
      "20/20 [==============================] - 0s 2ms/step - loss: 0.4160 - accuracy: 0.8031 - val_loss: 0.5147 - val_accuracy: 0.7347\n",
      "Epoch 149/200\n",
      "20/20 [==============================] - 0s 2ms/step - loss: 0.4060 - accuracy: 0.8031 - val_loss: 0.4304 - val_accuracy: 0.7551\n",
      "Epoch 150/200\n",
      "20/20 [==============================] - 0s 2ms/step - loss: 0.4124 - accuracy: 0.8238 - val_loss: 0.4450 - val_accuracy: 0.7347\n",
      "Epoch 151/200\n",
      "20/20 [==============================] - 0s 2ms/step - loss: 0.4372 - accuracy: 0.7772 - val_loss: 0.4352 - val_accuracy: 0.7551\n",
      "Epoch 152/200\n",
      "20/20 [==============================] - 0s 2ms/step - loss: 0.4313 - accuracy: 0.7927 - val_loss: 0.4465 - val_accuracy: 0.7755\n",
      "Epoch 153/200\n",
      "20/20 [==============================] - 0s 2ms/step - loss: 0.3637 - accuracy: 0.8238 - val_loss: 0.4185 - val_accuracy: 0.8163\n",
      "Epoch 154/200\n",
      "20/20 [==============================] - 0s 2ms/step - loss: 0.4203 - accuracy: 0.8135 - val_loss: 0.4044 - val_accuracy: 0.8163\n",
      "Epoch 155/200\n",
      "20/20 [==============================] - 0s 2ms/step - loss: 0.4344 - accuracy: 0.7824 - val_loss: 0.4096 - val_accuracy: 0.8163\n",
      "Epoch 156/200\n",
      "20/20 [==============================] - 0s 2ms/step - loss: 0.4248 - accuracy: 0.8342 - val_loss: 0.6363 - val_accuracy: 0.7347\n",
      "Epoch 157/200\n",
      "20/20 [==============================] - 0s 2ms/step - loss: 0.4393 - accuracy: 0.7668 - val_loss: 0.4650 - val_accuracy: 0.8163\n",
      "Epoch 158/200\n",
      "20/20 [==============================] - 0s 2ms/step - loss: 0.3866 - accuracy: 0.7979 - val_loss: 0.4720 - val_accuracy: 0.8163\n",
      "Epoch 159/200\n",
      "20/20 [==============================] - 0s 2ms/step - loss: 0.4268 - accuracy: 0.8187 - val_loss: 0.4219 - val_accuracy: 0.8163\n",
      "Epoch 160/200\n",
      "20/20 [==============================] - 0s 2ms/step - loss: 0.4106 - accuracy: 0.8031 - val_loss: 0.6701 - val_accuracy: 0.6327\n",
      "Epoch 161/200\n",
      "20/20 [==============================] - 0s 2ms/step - loss: 0.4145 - accuracy: 0.7979 - val_loss: 0.4789 - val_accuracy: 0.7755\n",
      "Epoch 162/200\n",
      "20/20 [==============================] - 0s 2ms/step - loss: 0.4036 - accuracy: 0.8083 - val_loss: 0.4779 - val_accuracy: 0.7551\n",
      "Epoch 163/200\n",
      "20/20 [==============================] - 0s 2ms/step - loss: 0.4088 - accuracy: 0.7979 - val_loss: 1.1799 - val_accuracy: 0.6735\n",
      "Epoch 164/200\n",
      "20/20 [==============================] - 0s 2ms/step - loss: 0.4241 - accuracy: 0.8549 - val_loss: 1.0274 - val_accuracy: 0.5510\n",
      "Epoch 165/200\n",
      "20/20 [==============================] - 0s 2ms/step - loss: 0.4250 - accuracy: 0.8290 - val_loss: 0.6316 - val_accuracy: 0.6735\n",
      "Epoch 166/200\n",
      "20/20 [==============================] - 0s 2ms/step - loss: 0.3858 - accuracy: 0.8135 - val_loss: 0.5349 - val_accuracy: 0.8367\n",
      "Epoch 167/200\n",
      "20/20 [==============================] - 0s 2ms/step - loss: 0.4185 - accuracy: 0.8238 - val_loss: 0.4324 - val_accuracy: 0.7959\n",
      "Epoch 168/200\n",
      "20/20 [==============================] - 0s 2ms/step - loss: 0.4425 - accuracy: 0.8135 - val_loss: 0.4875 - val_accuracy: 0.8163\n",
      "Epoch 169/200\n",
      "20/20 [==============================] - 0s 2ms/step - loss: 0.4188 - accuracy: 0.7927 - val_loss: 0.4553 - val_accuracy: 0.7755\n",
      "Epoch 170/200\n",
      "20/20 [==============================] - 0s 2ms/step - loss: 0.4137 - accuracy: 0.8342 - val_loss: 0.5998 - val_accuracy: 0.8163\n",
      "Epoch 171/200\n",
      "20/20 [==============================] - 0s 2ms/step - loss: 0.4573 - accuracy: 0.7824 - val_loss: 0.4526 - val_accuracy: 0.7755\n",
      "Epoch 172/200\n",
      "20/20 [==============================] - 0s 3ms/step - loss: 0.4206 - accuracy: 0.8031 - val_loss: 0.5465 - val_accuracy: 0.7143\n",
      "Epoch 173/200\n",
      "20/20 [==============================] - 0s 2ms/step - loss: 0.4137 - accuracy: 0.7927 - val_loss: 0.4158 - val_accuracy: 0.8163\n",
      "Epoch 174/200\n",
      "20/20 [==============================] - 0s 2ms/step - loss: 0.4336 - accuracy: 0.8031 - val_loss: 0.4500 - val_accuracy: 0.7959\n",
      "Epoch 175/200\n",
      "20/20 [==============================] - 0s 2ms/step - loss: 0.3769 - accuracy: 0.8342 - val_loss: 0.4503 - val_accuracy: 0.7959\n",
      "Epoch 176/200\n",
      "20/20 [==============================] - 0s 2ms/step - loss: 0.4015 - accuracy: 0.7979 - val_loss: 0.5632 - val_accuracy: 0.7143\n",
      "Epoch 177/200\n",
      "20/20 [==============================] - 0s 3ms/step - loss: 0.4121 - accuracy: 0.8083 - val_loss: 0.5515 - val_accuracy: 0.8163\n",
      "Epoch 178/200\n",
      "20/20 [==============================] - 0s 2ms/step - loss: 0.4811 - accuracy: 0.7772 - val_loss: 0.4304 - val_accuracy: 0.7551\n",
      "Epoch 179/200\n",
      "20/20 [==============================] - 0s 2ms/step - loss: 0.3664 - accuracy: 0.8497 - val_loss: 0.5113 - val_accuracy: 0.8163\n",
      "Epoch 180/200\n",
      "20/20 [==============================] - 0s 2ms/step - loss: 0.4376 - accuracy: 0.7824 - val_loss: 0.4929 - val_accuracy: 0.7551\n",
      "Epoch 181/200\n",
      "20/20 [==============================] - 0s 2ms/step - loss: 0.4365 - accuracy: 0.8031 - val_loss: 0.4112 - val_accuracy: 0.7959\n",
      "Epoch 182/200\n",
      "20/20 [==============================] - 0s 2ms/step - loss: 0.3939 - accuracy: 0.8031 - val_loss: 0.4091 - val_accuracy: 0.8163\n",
      "Epoch 183/200\n",
      "20/20 [==============================] - 0s 2ms/step - loss: 0.4200 - accuracy: 0.8238 - val_loss: 0.4327 - val_accuracy: 0.8163\n",
      "Epoch 184/200\n",
      "20/20 [==============================] - 0s 2ms/step - loss: 0.4029 - accuracy: 0.8031 - val_loss: 0.6535 - val_accuracy: 0.6939\n",
      "Epoch 185/200\n",
      "20/20 [==============================] - 0s 2ms/step - loss: 0.4172 - accuracy: 0.7876 - val_loss: 0.4175 - val_accuracy: 0.7755\n",
      "Epoch 186/200\n",
      "20/20 [==============================] - 0s 2ms/step - loss: 0.4097 - accuracy: 0.8187 - val_loss: 0.7228 - val_accuracy: 0.7347\n",
      "Epoch 187/200\n",
      "20/20 [==============================] - 0s 2ms/step - loss: 0.4513 - accuracy: 0.7927 - val_loss: 0.4421 - val_accuracy: 0.7755\n",
      "Epoch 188/200\n",
      "20/20 [==============================] - 0s 2ms/step - loss: 0.3996 - accuracy: 0.8187 - val_loss: 0.3971 - val_accuracy: 0.8163\n",
      "Epoch 189/200\n",
      "20/20 [==============================] - 0s 2ms/step - loss: 0.4230 - accuracy: 0.8342 - val_loss: 0.4098 - val_accuracy: 0.7755\n",
      "Epoch 190/200\n",
      "20/20 [==============================] - 0s 2ms/step - loss: 0.3810 - accuracy: 0.8290 - val_loss: 0.6836 - val_accuracy: 0.7347\n",
      "Epoch 191/200\n",
      "20/20 [==============================] - 0s 2ms/step - loss: 0.4298 - accuracy: 0.7927 - val_loss: 0.4785 - val_accuracy: 0.7959\n",
      "Epoch 192/200\n",
      "20/20 [==============================] - 0s 2ms/step - loss: 0.3974 - accuracy: 0.8342 - val_loss: 0.4221 - val_accuracy: 0.7959\n",
      "Epoch 193/200\n",
      "20/20 [==============================] - 0s 2ms/step - loss: 0.4283 - accuracy: 0.8187 - val_loss: 0.4183 - val_accuracy: 0.7551\n",
      "Epoch 194/200\n",
      "20/20 [==============================] - 0s 2ms/step - loss: 0.3867 - accuracy: 0.8290 - val_loss: 0.4034 - val_accuracy: 0.7959\n",
      "Epoch 195/200\n",
      "20/20 [==============================] - 0s 2ms/step - loss: 0.4187 - accuracy: 0.8135 - val_loss: 0.4029 - val_accuracy: 0.8163\n",
      "Epoch 196/200\n",
      "20/20 [==============================] - 0s 2ms/step - loss: 0.4093 - accuracy: 0.8238 - val_loss: 0.4155 - val_accuracy: 0.8163\n",
      "Epoch 197/200\n",
      "20/20 [==============================] - 0s 2ms/step - loss: 0.4205 - accuracy: 0.8135 - val_loss: 0.4160 - val_accuracy: 0.8163\n",
      "Epoch 198/200\n",
      "20/20 [==============================] - 0s 2ms/step - loss: 0.4435 - accuracy: 0.7876 - val_loss: 0.4120 - val_accuracy: 0.7959\n",
      "Epoch 199/200\n",
      "20/20 [==============================] - 0s 2ms/step - loss: 0.4023 - accuracy: 0.8238 - val_loss: 0.4023 - val_accuracy: 0.7959\n",
      "Epoch 200/200\n",
      "20/20 [==============================] - 0s 2ms/step - loss: 0.4331 - accuracy: 0.8342 - val_loss: 0.4587 - val_accuracy: 0.8367\n"
     ]
    }
   ],
   "source": [
    "history = model.fit(X_train, y_train, validation_split=0.2, epochs=200, batch_size=10, verbose=1)"
   ]
  },
  {
   "cell_type": "markdown",
   "metadata": {
    "colab_type": "text",
    "id": "df1v2vsU1Fs_"
   },
   "source": [
    "The validation accuracy predicted by the model is around 80%. It can further be increased by trying to optimize the epochs, the number of layers or the number of nodes per layer."
   ]
  },
  {
   "cell_type": "markdown",
   "metadata": {
    "colab_type": "text",
    "id": "_DioIGMKnE1D"
   },
   "source": [
    "## Model Evaluation\n",
    "Evaluating the model requires that you first choose a separate dataset used to evaluate the model. This should be data not used in the training process i.e. the X_test.\n",
    "\n",
    "Now, let us use the trained model to predict the probability values for the new data set - The test set we had initially created. The below code passes the X_test and y_test to the trained model and gives out the probability."
   ]
  },
  {
   "cell_type": "code",
   "execution_count": null,
   "metadata": {
    "colab": {
     "base_uri": "https://localhost:8080/",
     "height": 51
    },
    "colab_type": "code",
    "id": "dp0H2fEo5G9l",
    "outputId": "134a8175-aa1b-4e57-eba8-49603adb70e2"
   },
   "outputs": [
    {
     "name": "stdout",
     "output_type": "stream",
     "text": [
      "2/2 [==============================] - 0s 3ms/step - loss: 0.4428 - accuracy: 0.8689\n"
     ]
    },
    {
     "data": {
      "text/plain": [
       "[0.44277116656303406, 0.868852436542511]"
      ]
     },
     "execution_count": 14,
     "metadata": {
      "tags": []
     },
     "output_type": "execute_result"
    }
   ],
   "source": [
    "model.evaluate(X_test, y_test)"
   ]
  },
  {
   "cell_type": "markdown",
   "metadata": {
    "colab_type": "text",
    "id": "uhgS-vaMNOKH"
   },
   "source": [
    "### Model Accuracy\n",
    "Now, we'll use the history object created above to plot the Accuracy and Loss throughout the training process.\n",
    "\n",
    "You can think of history.history as a Python dictionary from which the values can be obtained by specifying a key within square brackets.\n",
    "\n",
    "For eg. `history.history['accuracy']` will give the train accuracy throughout the training process."
   ]
  },
  {
   "cell_type": "code",
   "execution_count": null,
   "metadata": {
    "colab": {
     "base_uri": "https://localhost:8080/",
     "height": 295
    },
    "colab_type": "code",
    "id": "-oyohXCu3E8t",
    "outputId": "f9f599c3-f4ee-43ee-d846-0917bcb77724"
   },
   "outputs": [
    {
     "data": {
      "image/png": "[encoded data removed]",
      "text/plain": [
       "<Figure size 432x288 with 1 Axes>"
      ]
     },
     "metadata": {
      "needs_background": "light",
      "tags": []
     },
     "output_type": "display_data"
    }
   ],
   "source": [
    "plt.plot(history.history['accuracy'])\n",
    "plt.plot(history.history['val_accuracy'])\n",
    "plt.title('Model Accuracy')\n",
    "plt.ylabel('accuracy')\n",
    "plt.xlabel('epoch')\n",
    "plt.legend(['Train', 'Validation'])\n",
    "plt.show()"
   ]
  },
  {
   "cell_type": "markdown",
   "metadata": {
    "colab_type": "text",
    "id": "oKwdGvjwNUAT"
   },
   "source": [
    "### Model Loss"
   ]
  },
  {
   "cell_type": "code",
   "execution_count": null,
   "metadata": {
    "colab": {
     "base_uri": "https://localhost:8080/",
     "height": 295
    },
    "colab_type": "code",
    "id": "Ku9K-qUi3II3",
    "outputId": "baf01769-71cb-45a8-c3ab-c86aa6757d60"
   },
   "outputs": [
    {
     "data": {
      "image/png": "[encoded data removed]",
      "text/plain": [
       "<Figure size 432x288 with 1 Axes>"
      ]
     },
     "metadata": {
      "needs_background": "light",
      "tags": []
     },
     "output_type": "display_data"
    }
   ],
   "source": [
    "plt.plot(history.history['loss'])\n",
    "plt.plot(history.history['val_loss'])\n",
    "plt.title('Model Loss')\n",
    "plt.ylabel('loss')\n",
    "plt.xlabel('epoch')\n",
    "plt.legend(['Train', 'Validation'])\n",
    "plt.show()"
   ]
  },
  {
   "cell_type": "markdown",
   "metadata": {
    "colab_type": "text",
    "id": "l7MypLpX9o_5"
   },
   "source": [
    "Look how the accuracy is slowly increasing and the loss slowly decreasing. Interesting, right?\n",
    "\n",
    "PS. You will read more about the importance of Validation data later."
   ]
  },
  {
   "cell_type": "markdown",
   "metadata": {
    "colab_type": "text",
    "id": "lSBw11Y61Pp1"
   },
   "source": [
    "# Conclusion\n",
    "In this example, we developed a working Neural Network for the binary classification problem.\n",
    "\n",
    "The model can be optimised further using hyperparameter tuning and other techniques that you'll be reading about in the upcoming days."
   ]
  }
 ],
 "metadata": {
  "colab": {
   "collapsed_sections": [],
   "include_colab_link": true,
   "name": "DL_Day6: Binary_Classification.ipynb",
   "provenance": [],
   "toc_visible": true
  },
  "kernelspec": {
   "display_name": "Python 3",
   "language": "python",
   "name": "python3"
  },
  "language_info": {
   "codemirror_mode": {
    "name": "ipython",
    "version": 3
   },
   "file_extension": ".py",
   "mimetype": "text/x-python",
   "name": "python",
   "nbconvert_exporter": "python",
   "pygments_lexer": "ipython3",
   "version": "3.8.8"
  }
 },
 "nbformat": 4,
 "nbformat_minor": 1
}
