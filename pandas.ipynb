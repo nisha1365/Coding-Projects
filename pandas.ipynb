{
 "cells": [
  {
   "cell_type": "code",
   "execution_count": 1,
   "id": "b4571e18",
   "metadata": {},
   "outputs": [
    {
     "data": {
      "text/plain": [
       "'C:\\\\Users\\\\NEERAJ\\\\Documents\\\\working directory'"
      ]
     },
     "execution_count": 1,
     "metadata": {},
     "output_type": "execute_result"
    }
   ],
   "source": [
    "pwd"
   ]
  },
  {
   "cell_type": "code",
   "execution_count": null,
   "id": "467125dd",
   "metadata": {},
   "outputs": [],
   "source": []
  },
  {
   "cell_type": "code",
   "execution_count": 2,
   "id": "4c2b7934",
   "metadata": {},
   "outputs": [],
   "source": [
    "import pandas as pd"
   ]
  },
  {
   "cell_type": "code",
   "execution_count": 5,
   "id": "c451e8d8",
   "metadata": {},
   "outputs": [
    {
     "name": "stdout",
     "output_type": "stream",
     "text": [
      "   Age  Ht   Wt  Bpl  Chl  Alb   Ca  UA\n",
      "0   22  67  144    1  200   43   98  54\n",
      "1   25  62  128    1  243   41  104  33\n",
      "2   25  68  150    2   50   38   96  30\n",
      "3   19  64  125    1  158   41   99  47\n",
      "4   19  67  130    2  255   45  105  83\n",
      "5   20  64  118    1  210   39   95  40\n",
      "6   20  64  118    1  210   39   95  40\n",
      "7   20  65  119    2  192   38   93  50\n",
      "8   21  60  107    1  246   42  101  52\n",
      "9   21  65  135    2  245   34  106  48\n",
      "    Age  Ht   Wt  Bpl  Chl  Alb   Ca  UA\n",
      "41   24  68  125    1  195   49  106  49\n",
      "42   24  64  130    2  250   39  103  49\n",
      "43   24  64  130    2  225   39  103  51\n",
      "44   24  65  130    1  200   50  108  53\n",
      "45   24  65  148    2  180   37  104  51\n",
      "46   24  64  135    1  240   42   96  33\n",
      "47   24  71  156    2  330   48  102  40\n",
      "48   25  62  107    1  175   39  101  57\n",
      "49   25  67  175    2  205   46   93  47\n",
      "50   25  66  112    1  235   44  101  52\n",
      "51   25  63  120    2  260   44  103  51\n",
      "52   54  67  127    2  260   46  106  46\n",
      "53   25  67  135    1  295   38  106  43\n",
      "54   25   6  141    2  230   48  101  43\n",
      "55   26  66  135    1  240   48  103  35\n",
      "56   26  64  118    2  238   40   99  46\n",
      "57   26  65  125    1  198   44   96  43\n",
      "58   26  65  120    2  196   38   95  43\n",
      "59   36  65  121    2  270   43   98  35\n",
      "60   53  65  140    2  220   40  107  46\n",
      "<class 'pandas.core.frame.DataFrame'>\n",
      "RangeIndex: 61 entries, 0 to 60\n",
      "Data columns (total 8 columns):\n",
      " #   Column  Non-Null Count  Dtype\n",
      "---  ------  --------------  -----\n",
      " 0   Age     61 non-null     int64\n",
      " 1   Ht      61 non-null     int64\n",
      " 2   Wt      61 non-null     int64\n",
      " 3   Bpl     61 non-null     int64\n",
      " 4   Chl     61 non-null     int64\n",
      " 5   Alb     61 non-null     int64\n",
      " 6   Ca      61 non-null     int64\n",
      " 7   UA      61 non-null     int64\n",
      "dtypes: int64(8)\n",
      "memory usage: 3.9 KB\n",
      "None\n",
      "             Age         Ht          Wt        Bpl         Chl        Alb  \\\n",
      "count  61.000000  61.000000   61.000000  61.000000   61.000000  61.000000   \n",
      "mean   23.786885  63.245902  124.590164   1.508197  219.721311  41.836066   \n",
      "std     6.052864   7.904968   16.696683   0.504082   42.745421   3.925049   \n",
      "min    19.000000   6.000000   94.000000   1.000000   50.000000  32.000000   \n",
      "25%    21.000000  63.000000  115.000000   1.000000  198.000000  39.000000   \n",
      "50%    22.000000  64.000000  125.000000   2.000000  220.000000  42.000000   \n",
      "75%    24.000000  66.000000  135.000000   2.000000  247.000000  44.000000   \n",
      "max    54.000000  71.000000  175.000000   2.000000  330.000000  50.000000   \n",
      "\n",
      "               Ca         UA  \n",
      "count   61.000000  61.000000  \n",
      "mean   100.344262  45.377049  \n",
      "std      4.285189   9.228875  \n",
      "min     92.000000  28.000000  \n",
      "25%     96.000000  40.000000  \n",
      "50%    101.000000  45.000000  \n",
      "75%    104.000000  49.000000  \n",
      "max    108.000000  83.000000  \n"
     ]
    }
   ],
   "source": [
    "df = pd.read_csv('read.csv')\n",
    "df\n",
    "print(df.head(10))\n",
    "print(df.tail(20))\n",
    "print(df.info())\n",
    "print(df.describe())\n"
   ]
  },
  {
   "cell_type": "code",
   "execution_count": 5,
   "id": "b1bde982",
   "metadata": {},
   "outputs": [
    {
     "name": "stdout",
     "output_type": "stream",
     "text": [
      "1.2.4\n"
     ]
    }
   ],
   "source": [
    "print(pd.__version__)"
   ]
  },
  {
   "cell_type": "code",
   "execution_count": 7,
   "id": "93fb09f0",
   "metadata": {},
   "outputs": [
    {
     "name": "stdout",
     "output_type": "stream",
     "text": [
      "     0\n",
      "0   Ca\n",
      "1  Age\n"
     ]
    }
   ],
   "source": [
    "import pandas\n",
    "mydataset = {\n",
    "    'Age','Ca'\n",
    "}\n",
    "\n",
    "myvar = pandas.DataFrame(mydataset)\n",
    "print(myvar)"
   ]
  },
  {
   "cell_type": "code",
   "execution_count": 14,
   "id": "8d219fe8",
   "metadata": {},
   "outputs": [
    {
     "name": "stdout",
     "output_type": "stream",
     "text": [
      "0    1\n",
      "1    7\n",
      "2    2\n",
      "dtype: int64\n",
      "1\n"
     ]
    }
   ],
   "source": [
    "import pandas as pd\n",
    "\n",
    "a = [1,7,2]\n",
    "\n",
    "myvar = pd.Series(a)\n",
    "print(myvar)\n",
    "print(myvar[0])"
   ]
  },
  {
   "cell_type": "code",
   "execution_count": 16,
   "id": "1536971a",
   "metadata": {},
   "outputs": [
    {
     "name": "stdout",
     "output_type": "stream",
     "text": [
      "x    1\n",
      "y    7\n",
      "z    2\n",
      "dtype: int64\n",
      "7\n"
     ]
    }
   ],
   "source": [
    "import pandas as pd\n",
    "\n",
    "a = [1,7,2]\n",
    "\n",
    "myvar = pd.Series(a, index = [\"x\",\"y\",\"z\"])\n",
    "print(myvar)\n",
    "print(myvar[\"y\"])"
   ]
  },
  {
   "cell_type": "code",
   "execution_count": 17,
   "id": "7b8ae7b6",
   "metadata": {},
   "outputs": [
    {
     "name": "stdout",
     "output_type": "stream",
     "text": [
      "day1    420\n",
      "day2    380\n",
      "day3    390\n",
      "dtype: int64\n"
     ]
    }
   ],
   "source": [
    "import pandas as pd\n",
    "\n",
    "calories = {\"day1\": 420, \"day2\": 380, \"day3\":390}\n",
    "myvar = pd.Series(calories)\n",
    "\n",
    "print(myvar)"
   ]
  },
  {
   "cell_type": "code",
   "execution_count": 18,
   "id": "03a4633b",
   "metadata": {},
   "outputs": [
    {
     "name": "stdout",
     "output_type": "stream",
     "text": [
      "day1    420\n",
      "day2    380\n",
      "dtype: int64\n"
     ]
    }
   ],
   "source": [
    "import pandas as pd\n",
    "\n",
    "calories = {\"day1\": 420, \"day2\": 380, \"day3\": 390}\n",
    "\n",
    "myvar = pd.Series(calories, index = [\"day1\", \"day2\"])\n",
    "\n",
    "print(myvar)"
   ]
  },
  {
   "cell_type": "code",
   "execution_count": 23,
   "id": "995c4319",
   "metadata": {},
   "outputs": [
    {
     "name": "stdout",
     "output_type": "stream",
     "text": [
      "   calories  duration\n",
      "0       420        50\n",
      "1       380        40\n",
      "2       390        45\n",
      "calories    420\n",
      "duration     50\n",
      "Name: 0, dtype: int64\n"
     ]
    }
   ],
   "source": [
    "import pandas as pd\n",
    "\n",
    "data = {\n",
    "  \"calories\": [420, 380, 390],\n",
    "  \"duration\": [50, 40, 45]\n",
    "}\n",
    "\n",
    "myvar = pd.DataFrame(data)\n",
    "\n",
    "print(myvar)\n",
    "print(myvar.loc[0,])"
   ]
  },
  {
   "cell_type": "code",
   "execution_count": 29,
   "id": "7ed00847",
   "metadata": {},
   "outputs": [
    {
     "name": "stdout",
     "output_type": "stream",
     "text": [
      "      calories  duration\n",
      "day1       420        50\n",
      "day2       380        40\n",
      "day3       390        45\n",
      "calories    380\n",
      "duration     40\n",
      "Name: day2, dtype: int64\n"
     ]
    }
   ],
   "source": [
    "import pandas as pd\n",
    "\n",
    "data = {\n",
    "  \"calories\": [420, 380, 390],\n",
    "  \"duration\": [50, 40, 45]\n",
    "}\n",
    "\n",
    "df = pd.DataFrame(data, index = [\"day1\", \"day2\", \"day3\"])\n",
    "\n",
    "print(df) \n",
    "print(df.loc[\"day2\"])"
   ]
  },
  {
   "cell_type": "code",
   "execution_count": 30,
   "id": "06d0381e",
   "metadata": {},
   "outputs": [
    {
     "name": "stdout",
     "output_type": "stream",
     "text": [
      "   Duration  Pulse  Maxpulse  Calories\n",
      "0        60    110       130       409\n",
      "1        60    117       145       479\n",
      "2        60    103       135       340\n",
      "3        45    109       175       282\n",
      "4        45    117       148       406\n",
      "5        60    102       127       300\n"
     ]
    }
   ],
   "source": [
    "import pandas as pd\n",
    "\n",
    "data = {\n",
    "  \"Duration\":{\n",
    "    \"0\":60,\n",
    "    \"1\":60,\n",
    "    \"2\":60,\n",
    "    \"3\":45,\n",
    "    \"4\":45,\n",
    "    \"5\":60\n",
    "  },\n",
    "  \"Pulse\":{\n",
    "    \"0\":110,\n",
    "    \"1\":117,\n",
    "    \"2\":103,\n",
    "    \"3\":109,\n",
    "    \"4\":117,\n",
    "    \"5\":102\n",
    "  },\n",
    "  \"Maxpulse\":{\n",
    "    \"0\":130,\n",
    "    \"1\":145,\n",
    "    \"2\":135,\n",
    "    \"3\":175,\n",
    "    \"4\":148,\n",
    "    \"5\":127\n",
    "  },\n",
    "  \"Calories\":{\n",
    "    \"0\":409,\n",
    "    \"1\":479,\n",
    "    \"2\":340,\n",
    "    \"3\":282,\n",
    "    \"4\":406,\n",
    "    \"5\":300\n",
    "  }\n",
    "}\n",
    "\n",
    "df = pd.DataFrame(data)\n",
    "\n",
    "print(df) "
   ]
  },
  {
   "cell_type": "code",
   "execution_count": 9,
   "id": "e95f66cd",
   "metadata": {},
   "outputs": [],
   "source": [
    "#Delete rows where \"Age\" is higher than 120:\n",
    "import pandas as pd\n",
    "df = pd.read_csv('read.csv')\n",
    "df\n",
    "for x in df.index:\n",
    "  if df.loc[x, \"Age\"] > 20:\n",
    "    df.drop(x, inplace = True)\n"
   ]
  },
  {
   "cell_type": "code",
   "execution_count": 14,
   "id": "f54007d9",
   "metadata": {},
   "outputs": [],
   "source": [
    "import pandas as pd\n",
    "df = pd.read_csv('read.csv')\n",
    "df\n",
    "df.drop_duplicates(inplace = True)"
   ]
  },
  {
   "cell_type": "code",
   "execution_count": 16,
   "id": "a74bf553",
   "metadata": {},
   "outputs": [
    {
     "data": {
      "text/html": [
       "<div>\n",
       "<style scoped>\n",
       "    .dataframe tbody tr th:only-of-type {\n",
       "        vertical-align: middle;\n",
       "    }\n",
       "\n",
       "    .dataframe tbody tr th {\n",
       "        vertical-align: top;\n",
       "    }\n",
       "\n",
       "    .dataframe thead th {\n",
       "        text-align: right;\n",
       "    }\n",
       "</style>\n",
       "<table border=\"1\" class=\"dataframe\">\n",
       "  <thead>\n",
       "    <tr style=\"text-align: right;\">\n",
       "      <th></th>\n",
       "      <th>Age</th>\n",
       "      <th>Ht</th>\n",
       "      <th>Wt</th>\n",
       "      <th>Bpl</th>\n",
       "      <th>Chl</th>\n",
       "      <th>Alb</th>\n",
       "      <th>Ca</th>\n",
       "      <th>UA</th>\n",
       "    </tr>\n",
       "  </thead>\n",
       "  <tbody>\n",
       "    <tr>\n",
       "      <th>Age</th>\n",
       "      <td>1.000000</td>\n",
       "      <td>0.032115</td>\n",
       "      <td>0.139133</td>\n",
       "      <td>0.216349</td>\n",
       "      <td>0.135428</td>\n",
       "      <td>0.108644</td>\n",
       "      <td>0.239340</td>\n",
       "      <td>-0.081183</td>\n",
       "    </tr>\n",
       "    <tr>\n",
       "      <th>Ht</th>\n",
       "      <td>0.032115</td>\n",
       "      <td>1.000000</td>\n",
       "      <td>0.103817</td>\n",
       "      <td>-0.052797</td>\n",
       "      <td>0.000502</td>\n",
       "      <td>-0.140489</td>\n",
       "      <td>0.043709</td>\n",
       "      <td>0.057192</td>\n",
       "    </tr>\n",
       "    <tr>\n",
       "      <th>Wt</th>\n",
       "      <td>0.139133</td>\n",
       "      <td>0.103817</td>\n",
       "      <td>1.000000</td>\n",
       "      <td>0.122190</td>\n",
       "      <td>0.109032</td>\n",
       "      <td>0.047532</td>\n",
       "      <td>0.053718</td>\n",
       "      <td>0.040606</td>\n",
       "    </tr>\n",
       "    <tr>\n",
       "      <th>Bpl</th>\n",
       "      <td>0.216349</td>\n",
       "      <td>-0.052797</td>\n",
       "      <td>0.122190</td>\n",
       "      <td>1.000000</td>\n",
       "      <td>0.089447</td>\n",
       "      <td>-0.134089</td>\n",
       "      <td>0.017961</td>\n",
       "      <td>0.040525</td>\n",
       "    </tr>\n",
       "    <tr>\n",
       "      <th>Chl</th>\n",
       "      <td>0.135428</td>\n",
       "      <td>0.000502</td>\n",
       "      <td>0.109032</td>\n",
       "      <td>0.089447</td>\n",
       "      <td>1.000000</td>\n",
       "      <td>0.085650</td>\n",
       "      <td>0.321997</td>\n",
       "      <td>0.133691</td>\n",
       "    </tr>\n",
       "    <tr>\n",
       "      <th>Alb</th>\n",
       "      <td>0.108644</td>\n",
       "      <td>-0.140489</td>\n",
       "      <td>0.047532</td>\n",
       "      <td>-0.134089</td>\n",
       "      <td>0.085650</td>\n",
       "      <td>1.000000</td>\n",
       "      <td>0.377975</td>\n",
       "      <td>0.066149</td>\n",
       "    </tr>\n",
       "    <tr>\n",
       "      <th>Ca</th>\n",
       "      <td>0.239340</td>\n",
       "      <td>0.043709</td>\n",
       "      <td>0.053718</td>\n",
       "      <td>0.017961</td>\n",
       "      <td>0.321997</td>\n",
       "      <td>0.377975</td>\n",
       "      <td>1.000000</td>\n",
       "      <td>0.180830</td>\n",
       "    </tr>\n",
       "    <tr>\n",
       "      <th>UA</th>\n",
       "      <td>-0.081183</td>\n",
       "      <td>0.057192</td>\n",
       "      <td>0.040606</td>\n",
       "      <td>0.040525</td>\n",
       "      <td>0.133691</td>\n",
       "      <td>0.066149</td>\n",
       "      <td>0.180830</td>\n",
       "      <td>1.000000</td>\n",
       "    </tr>\n",
       "  </tbody>\n",
       "</table>\n",
       "</div>"
      ],
      "text/plain": [
       "          Age        Ht        Wt       Bpl       Chl       Alb        Ca  \\\n",
       "Age  1.000000  0.032115  0.139133  0.216349  0.135428  0.108644  0.239340   \n",
       "Ht   0.032115  1.000000  0.103817 -0.052797  0.000502 -0.140489  0.043709   \n",
       "Wt   0.139133  0.103817  1.000000  0.122190  0.109032  0.047532  0.053718   \n",
       "Bpl  0.216349 -0.052797  0.122190  1.000000  0.089447 -0.134089  0.017961   \n",
       "Chl  0.135428  0.000502  0.109032  0.089447  1.000000  0.085650  0.321997   \n",
       "Alb  0.108644 -0.140489  0.047532 -0.134089  0.085650  1.000000  0.377975   \n",
       "Ca   0.239340  0.043709  0.053718  0.017961  0.321997  0.377975  1.000000   \n",
       "UA  -0.081183  0.057192  0.040606  0.040525  0.133691  0.066149  0.180830   \n",
       "\n",
       "           UA  \n",
       "Age -0.081183  \n",
       "Ht   0.057192  \n",
       "Wt   0.040606  \n",
       "Bpl  0.040525  \n",
       "Chl  0.133691  \n",
       "Alb  0.066149  \n",
       "Ca   0.180830  \n",
       "UA   1.000000  "
      ]
     },
     "execution_count": 16,
     "metadata": {},
     "output_type": "execute_result"
    }
   ],
   "source": [
    "import pandas as pd\n",
    "df = pd.read_csv('read.csv')\n",
    "df\n",
    "df.corr()"
   ]
  },
  {
   "cell_type": "code",
   "execution_count": 19,
   "id": "002b2076",
   "metadata": {},
   "outputs": [
    {
     "data": {
      "image/png": "[encoded data removed]",
      "text/plain": [
       "<Figure size 432x288 with 1 Axes>"
      ]
     },
     "metadata": {
      "needs_background": "light"
     },
     "output_type": "display_data"
    }
   ],
   "source": [
    "import pandas as pd\n",
    "import matplotlib.pyplot as plt\n",
    "\n",
    "df = pd.read_csv('read.csv')\n",
    "\n",
    "df.plot()\n",
    "\n",
    "plt.show()"
   ]
  },
  {
   "cell_type": "code",
   "execution_count": 22,
   "id": "b586ee35",
   "metadata": {},
   "outputs": [
    {
     "data": {
      "image/png": "[encoded data removed]",
      "text/plain": [
       "<Figure size 432x288 with 1 Axes>"
      ]
     },
     "metadata": {
      "needs_background": "light"
     },
     "output_type": "display_data"
    },
    {
     "data": {
      "text/plain": [
       "<AxesSubplot:ylabel='Frequency'>"
      ]
     },
     "execution_count": 22,
     "metadata": {},
     "output_type": "execute_result"
    },
    {
     "data": {
      "image/png": "[encoded data removed]",
      "text/plain": [
       "<Figure size 432x288 with 1 Axes>"
      ]
     },
     "metadata": {
      "needs_background": "light"
     },
     "output_type": "display_data"
    }
   ],
   "source": [
    "import pandas as pd\n",
    "import matplotlib.pyplot as plt\n",
    "\n",
    "df = pd.read_csv('read.csv')\n",
    "\n",
    "df.plot(kind = 'scatter', x = 'Age', y = 'Ca')\n",
    "\n",
    "plt.show()\n",
    "\n",
    "df[\"Age\"].plot(kind = 'hist')"
   ]
  }
 ],
 "metadata": {
  "kernelspec": {
   "display_name": "Python 3",
   "language": "python",
   "name": "python3"
  },
  "language_info": {
   "codemirror_mode": {
    "name": "ipython",
    "version": 3
   },
   "file_extension": ".py",
   "mimetype": "text/x-python",
   "name": "python",
   "nbconvert_exporter": "python",
   "pygments_lexer": "ipython3",
   "version": "3.8.8"
  }
 },
 "nbformat": 4,
 "nbformat_minor": 5
}
