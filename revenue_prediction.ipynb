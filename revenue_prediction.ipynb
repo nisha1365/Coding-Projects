{
 "cells": [
  {
   "cell_type": "code",
   "execution_count": null,
   "id": "bupjgg0WHOHf",
   "metadata": {
    "colab": {
     "base_uri": "https://localhost:8080/"
    },
    "id": "bupjgg0WHOHf",
    "outputId": "480db52e-58e5-4a7c-d5b0-3dbba0a4ee76"
   },
   "outputs": [
    {
     "name": "stdout",
     "output_type": "stream",
     "text": [
      "Drive already mounted at /content/drive; to attempt to forcibly remount, call drive.mount(\"/content/drive\", force_remount=True).\n"
     ]
    }
   ],
   "source": [
    "from google.colab import drive\n",
    "drive.mount('/content/drive')"
   ]
  },
  {
   "cell_type": "code",
   "execution_count": null,
   "id": "0e7e263d",
   "metadata": {
    "id": "0e7e263d"
   },
   "outputs": [],
   "source": [
    "df = pd.read_csv('/content/drive/MyDrive/hackathon/Train_Data.csv')"
   ]
  },
  {
   "cell_type": "markdown",
   "id": "ce0ed407",
   "metadata": {
    "id": "ce0ed407"
   },
   "source": [
    "# Data Description\n",
    "\n",
    " \n",
    "\n",
    "date: the date on which the ad was made live\n",
    "\n",
    "campaign: campaign number\n",
    "\n",
    "adgroup: adgroup number\n",
    "\n",
    "ad: ad number\n",
    "\n",
    "impressions - Number of time the ad was shown\n",
    "\n",
    "clicks - Number of time the ad clicked shown\n",
    "\n",
    "cost - Amount spent to show ad\n",
    "\n",
    "conversions - Number of transactions received\n",
    "\n",
    "revenue: revenue generated from the ad "
   ]
  },
  {
   "cell_type": "code",
   "execution_count": null,
   "id": "bd9acdfb",
   "metadata": {
    "colab": {
     "base_uri": "https://localhost:8080/",
     "height": 417
    },
    "id": "bd9acdfb",
    "outputId": "0437bcf9-c1c2-47f4-e790-58acc88bf8a0"
   },
   "outputs": [
    {
     "data": {
      "text/html": [
       "<div>\n",
       "<style scoped>\n",
       "    .dataframe tbody tr th:only-of-type {\n",
       "        vertical-align: middle;\n",
       "    }\n",
       "\n",
       "    .dataframe tbody tr th {\n",
       "        vertical-align: top;\n",
       "    }\n",
       "\n",
       "    .dataframe thead th {\n",
       "        text-align: right;\n",
       "    }\n",
       "</style>\n",
       "<table border=\"1\" class=\"dataframe\">\n",
       "  <thead>\n",
       "    <tr style=\"text-align: right;\">\n",
       "      <th></th>\n",
       "      <th>date</th>\n",
       "      <th>campaign</th>\n",
       "      <th>adgroup</th>\n",
       "      <th>ad</th>\n",
       "      <th>impressions</th>\n",
       "      <th>clicks</th>\n",
       "      <th>cost</th>\n",
       "      <th>conversions</th>\n",
       "      <th>revenue</th>\n",
       "    </tr>\n",
       "  </thead>\n",
       "  <tbody>\n",
       "    <tr>\n",
       "      <th>0</th>\n",
       "      <td>01-08-2020</td>\n",
       "      <td>campaign 1</td>\n",
       "      <td>adgroup 1</td>\n",
       "      <td>ad 1</td>\n",
       "      <td>24</td>\n",
       "      <td>6</td>\n",
       "      <td>0.08</td>\n",
       "      <td>0</td>\n",
       "      <td>0.00</td>\n",
       "    </tr>\n",
       "    <tr>\n",
       "      <th>1</th>\n",
       "      <td>01-08-2020</td>\n",
       "      <td>campaign 1</td>\n",
       "      <td>adgroup 2</td>\n",
       "      <td>ad 1</td>\n",
       "      <td>1</td>\n",
       "      <td>0</td>\n",
       "      <td>0.00</td>\n",
       "      <td>0</td>\n",
       "      <td>0.00</td>\n",
       "    </tr>\n",
       "    <tr>\n",
       "      <th>2</th>\n",
       "      <td>01-08-2020</td>\n",
       "      <td>campaign 1</td>\n",
       "      <td>adgroup 3</td>\n",
       "      <td>ad 1</td>\n",
       "      <td>13</td>\n",
       "      <td>4</td>\n",
       "      <td>0.04</td>\n",
       "      <td>0</td>\n",
       "      <td>0.00</td>\n",
       "    </tr>\n",
       "    <tr>\n",
       "      <th>3</th>\n",
       "      <td>01-08-2020</td>\n",
       "      <td>campaign 1</td>\n",
       "      <td>adgroup 4</td>\n",
       "      <td>ad 1</td>\n",
       "      <td>5</td>\n",
       "      <td>4</td>\n",
       "      <td>0.08</td>\n",
       "      <td>0</td>\n",
       "      <td>0.00</td>\n",
       "    </tr>\n",
       "    <tr>\n",
       "      <th>4</th>\n",
       "      <td>01-08-2020</td>\n",
       "      <td>campaign 1</td>\n",
       "      <td>adgroup 1</td>\n",
       "      <td>ad 2</td>\n",
       "      <td>247</td>\n",
       "      <td>126</td>\n",
       "      <td>1.29</td>\n",
       "      <td>4</td>\n",
       "      <td>925.71</td>\n",
       "    </tr>\n",
       "    <tr>\n",
       "      <th>...</th>\n",
       "      <td>...</td>\n",
       "      <td>...</td>\n",
       "      <td>...</td>\n",
       "      <td>...</td>\n",
       "      <td>...</td>\n",
       "      <td>...</td>\n",
       "      <td>...</td>\n",
       "      <td>...</td>\n",
       "      <td>...</td>\n",
       "    </tr>\n",
       "    <tr>\n",
       "      <th>4566</th>\n",
       "      <td>28-02-2021</td>\n",
       "      <td>campaign 1</td>\n",
       "      <td>adgroup 3</td>\n",
       "      <td>ad 55</td>\n",
       "      <td>19</td>\n",
       "      <td>6</td>\n",
       "      <td>0.07</td>\n",
       "      <td>0</td>\n",
       "      <td>0.00</td>\n",
       "    </tr>\n",
       "    <tr>\n",
       "      <th>4567</th>\n",
       "      <td>28-02-2021</td>\n",
       "      <td>campaign 1</td>\n",
       "      <td>adgroup 4</td>\n",
       "      <td>ad 55</td>\n",
       "      <td>1</td>\n",
       "      <td>0</td>\n",
       "      <td>0.00</td>\n",
       "      <td>0</td>\n",
       "      <td>0.00</td>\n",
       "    </tr>\n",
       "    <tr>\n",
       "      <th>4568</th>\n",
       "      <td>28-02-2021</td>\n",
       "      <td>campaign 1</td>\n",
       "      <td>adgroup 3</td>\n",
       "      <td>ad 56</td>\n",
       "      <td>16</td>\n",
       "      <td>8</td>\n",
       "      <td>0.12</td>\n",
       "      <td>1</td>\n",
       "      <td>93.20</td>\n",
       "    </tr>\n",
       "    <tr>\n",
       "      <th>4569</th>\n",
       "      <td>28-02-2021</td>\n",
       "      <td>campaign 1</td>\n",
       "      <td>adgroup 1</td>\n",
       "      <td>ad 56</td>\n",
       "      <td>37</td>\n",
       "      <td>13</td>\n",
       "      <td>0.23</td>\n",
       "      <td>0</td>\n",
       "      <td>0.00</td>\n",
       "    </tr>\n",
       "    <tr>\n",
       "      <th>4570</th>\n",
       "      <td>28-02-2021</td>\n",
       "      <td>campaign 1</td>\n",
       "      <td>adgroup 1</td>\n",
       "      <td>ad 55</td>\n",
       "      <td>19</td>\n",
       "      <td>10</td>\n",
       "      <td>0.14</td>\n",
       "      <td>0</td>\n",
       "      <td>0.00</td>\n",
       "    </tr>\n",
       "  </tbody>\n",
       "</table>\n",
       "<p>4571 rows × 9 columns</p>\n",
       "</div>"
      ],
      "text/plain": [
       "            date    campaign    adgroup  ...  cost  conversions  revenue\n",
       "0     01-08-2020  campaign 1  adgroup 1  ...  0.08            0     0.00\n",
       "1     01-08-2020  campaign 1  adgroup 2  ...  0.00            0     0.00\n",
       "2     01-08-2020  campaign 1  adgroup 3  ...  0.04            0     0.00\n",
       "3     01-08-2020  campaign 1  adgroup 4  ...  0.08            0     0.00\n",
       "4     01-08-2020  campaign 1  adgroup 1  ...  1.29            4   925.71\n",
       "...          ...         ...        ...  ...   ...          ...      ...\n",
       "4566  28-02-2021  campaign 1  adgroup 3  ...  0.07            0     0.00\n",
       "4567  28-02-2021  campaign 1  adgroup 4  ...  0.00            0     0.00\n",
       "4568  28-02-2021  campaign 1  adgroup 3  ...  0.12            1    93.20\n",
       "4569  28-02-2021  campaign 1  adgroup 1  ...  0.23            0     0.00\n",
       "4570  28-02-2021  campaign 1  adgroup 1  ...  0.14            0     0.00\n",
       "\n",
       "[4571 rows x 9 columns]"
      ]
     },
     "execution_count": 6,
     "metadata": {
      "tags": []
     },
     "output_type": "execute_result"
    }
   ],
   "source": [
    "df"
   ]
  },
  {
   "cell_type": "code",
   "execution_count": 1,
   "id": "d46b2db1",
   "metadata": {
    "id": "d46b2db1"
   },
   "outputs": [],
   "source": [
    "import numpy as np\n",
    "import pandas as pd\n",
    "import matplotlib.pyplot as plt\n",
    "import seaborn as sns"
   ]
  },
  {
   "cell_type": "code",
   "execution_count": null,
   "id": "eba079eb",
   "metadata": {
    "colab": {
     "base_uri": "https://localhost:8080/",
     "height": 295
    },
    "id": "eba079eb",
    "outputId": "8105628d-4348-44d6-e14c-d1d033a39d9c"
   },
   "outputs": [
    {
     "data": {
      "text/html": [
       "<div>\n",
       "<style scoped>\n",
       "    .dataframe tbody tr th:only-of-type {\n",
       "        vertical-align: middle;\n",
       "    }\n",
       "\n",
       "    .dataframe tbody tr th {\n",
       "        vertical-align: top;\n",
       "    }\n",
       "\n",
       "    .dataframe thead th {\n",
       "        text-align: right;\n",
       "    }\n",
       "</style>\n",
       "<table border=\"1\" class=\"dataframe\">\n",
       "  <thead>\n",
       "    <tr style=\"text-align: right;\">\n",
       "      <th></th>\n",
       "      <th>impressions</th>\n",
       "      <th>clicks</th>\n",
       "      <th>cost</th>\n",
       "      <th>conversions</th>\n",
       "      <th>revenue</th>\n",
       "    </tr>\n",
       "  </thead>\n",
       "  <tbody>\n",
       "    <tr>\n",
       "      <th>count</th>\n",
       "      <td>4571.000000</td>\n",
       "      <td>4571.000000</td>\n",
       "      <td>4571.000000</td>\n",
       "      <td>4571.000000</td>\n",
       "      <td>4571.000000</td>\n",
       "    </tr>\n",
       "    <tr>\n",
       "      <th>mean</th>\n",
       "      <td>92.635747</td>\n",
       "      <td>43.340844</td>\n",
       "      <td>2.800834</td>\n",
       "      <td>1.339094</td>\n",
       "      <td>231.865340</td>\n",
       "    </tr>\n",
       "    <tr>\n",
       "      <th>std</th>\n",
       "      <td>198.349737</td>\n",
       "      <td>100.164913</td>\n",
       "      <td>14.361618</td>\n",
       "      <td>5.223922</td>\n",
       "      <td>1091.742763</td>\n",
       "    </tr>\n",
       "    <tr>\n",
       "      <th>min</th>\n",
       "      <td>1.000000</td>\n",
       "      <td>0.000000</td>\n",
       "      <td>0.000000</td>\n",
       "      <td>0.000000</td>\n",
       "      <td>0.000000</td>\n",
       "    </tr>\n",
       "    <tr>\n",
       "      <th>25%</th>\n",
       "      <td>6.000000</td>\n",
       "      <td>2.000000</td>\n",
       "      <td>0.040000</td>\n",
       "      <td>0.000000</td>\n",
       "      <td>0.000000</td>\n",
       "    </tr>\n",
       "    <tr>\n",
       "      <th>50%</th>\n",
       "      <td>16.000000</td>\n",
       "      <td>7.000000</td>\n",
       "      <td>0.210000</td>\n",
       "      <td>0.000000</td>\n",
       "      <td>0.000000</td>\n",
       "    </tr>\n",
       "    <tr>\n",
       "      <th>75%</th>\n",
       "      <td>84.000000</td>\n",
       "      <td>38.000000</td>\n",
       "      <td>1.350000</td>\n",
       "      <td>1.000000</td>\n",
       "      <td>92.600000</td>\n",
       "    </tr>\n",
       "    <tr>\n",
       "      <th>max</th>\n",
       "      <td>3239.000000</td>\n",
       "      <td>1771.000000</td>\n",
       "      <td>531.250000</td>\n",
       "      <td>94.000000</td>\n",
       "      <td>20515.410000</td>\n",
       "    </tr>\n",
       "  </tbody>\n",
       "</table>\n",
       "</div>"
      ],
      "text/plain": [
       "       impressions       clicks         cost  conversions       revenue\n",
       "count  4571.000000  4571.000000  4571.000000  4571.000000   4571.000000\n",
       "mean     92.635747    43.340844     2.800834     1.339094    231.865340\n",
       "std     198.349737   100.164913    14.361618     5.223922   1091.742763\n",
       "min       1.000000     0.000000     0.000000     0.000000      0.000000\n",
       "25%       6.000000     2.000000     0.040000     0.000000      0.000000\n",
       "50%      16.000000     7.000000     0.210000     0.000000      0.000000\n",
       "75%      84.000000    38.000000     1.350000     1.000000     92.600000\n",
       "max    3239.000000  1771.000000   531.250000    94.000000  20515.410000"
      ]
     },
     "execution_count": 7,
     "metadata": {
      "tags": []
     },
     "output_type": "execute_result"
    }
   ],
   "source": [
    "df.describe()"
   ]
  },
  {
   "cell_type": "code",
   "execution_count": null,
   "id": "65c4ed6b",
   "metadata": {
    "colab": {
     "base_uri": "https://localhost:8080/"
    },
    "id": "65c4ed6b",
    "outputId": "46f93f4a-9655-40d9-c388-a8e46b9ca431"
   },
   "outputs": [
    {
     "data": {
      "text/plain": [
       "date            object\n",
       "campaign        object\n",
       "adgroup         object\n",
       "ad              object\n",
       "impressions      int64\n",
       "clicks           int64\n",
       "cost           float64\n",
       "conversions      int64\n",
       "revenue        float64\n",
       "dtype: object"
      ]
     },
     "execution_count": 8,
     "metadata": {
      "tags": []
     },
     "output_type": "execute_result"
    }
   ],
   "source": [
    "df.dtypes"
   ]
  },
  {
   "cell_type": "code",
   "execution_count": null,
   "id": "yyaJtyek1f1p",
   "metadata": {
    "colab": {
     "base_uri": "https://localhost:8080/",
     "height": 319
    },
    "id": "yyaJtyek1f1p",
    "outputId": "16b06437-bf7f-4876-bd5f-b0120ba635ae"
   },
   "outputs": [
    {
     "data": {
      "image/png": "[encoded data removed]",
      "text/plain": [
       "<Figure size 432x288 with 2 Axes>"
      ]
     },
     "metadata": {
      "needs_background": "light",
      "tags": []
     },
     "output_type": "display_data"
    }
   ],
   "source": [
    "sns.heatmap(df._get_numeric_data().astype(float).corr(),\n",
    "            square=True, cmap='RdBu_r', linewidths=.5,\n",
    "            annot=True, fmt='.2f') \n",
    "plt.show()"
   ]
  },
  {
   "cell_type": "code",
   "execution_count": null,
   "id": "f8ac1ffa",
   "metadata": {
    "colab": {
     "base_uri": "https://localhost:8080/"
    },
    "id": "f8ac1ffa",
    "outputId": "c06c7069-a14f-4a3a-d5f9-f8ca5432c648"
   },
   "outputs": [
    {
     "data": {
      "text/plain": [
       "array(['campaign 1'], dtype=object)"
      ]
     },
     "execution_count": 10,
     "metadata": {
      "tags": []
     },
     "output_type": "execute_result"
    }
   ],
   "source": [
    "df['campaign'].unique()"
   ]
  },
  {
   "cell_type": "code",
   "execution_count": null,
   "id": "de1df4a2",
   "metadata": {
    "colab": {
     "base_uri": "https://localhost:8080/"
    },
    "id": "de1df4a2",
    "outputId": "4b226e75-d07f-4048-eaf5-6828e03d96ce"
   },
   "outputs": [
    {
     "data": {
      "text/plain": [
       "date           datetime64[ns]\n",
       "campaign               object\n",
       "adgroup                object\n",
       "ad                     object\n",
       "impressions             int64\n",
       "clicks                  int64\n",
       "cost                  float64\n",
       "conversions             int64\n",
       "revenue               float64\n",
       "dtype: object"
      ]
     },
     "execution_count": 11,
     "metadata": {
      "tags": []
     },
     "output_type": "execute_result"
    }
   ],
   "source": [
    "df['date'] = pd.to_datetime(df['date'])\n",
    "df.dtypes"
   ]
  },
  {
   "cell_type": "code",
   "execution_count": null,
   "id": "3eb1f976",
   "metadata": {
    "id": "3eb1f976"
   },
   "outputs": [],
   "source": [
    "df['Day'] = df['date'].dt.day\n",
    "df['Month'] = df['date'].dt.month\n",
    "df['Year'] = df['date'].dt.year"
   ]
  },
  {
   "cell_type": "code",
   "execution_count": null,
   "id": "8ddbc4ab",
   "metadata": {
    "id": "8ddbc4ab"
   },
   "outputs": [],
   "source": [
    "df.drop(columns=['campaign','date','ad','adgroup'],inplace=True)"
   ]
  },
  {
   "cell_type": "code",
   "execution_count": null,
   "id": "66c1ccc3",
   "metadata": {
    "colab": {
     "base_uri": "https://localhost:8080/",
     "height": 417
    },
    "id": "66c1ccc3",
    "outputId": "f58c26a4-72fe-4381-e2ea-09890085700e"
   },
   "outputs": [
    {
     "data": {
      "text/html": [
       "<div>\n",
       "<style scoped>\n",
       "    .dataframe tbody tr th:only-of-type {\n",
       "        vertical-align: middle;\n",
       "    }\n",
       "\n",
       "    .dataframe tbody tr th {\n",
       "        vertical-align: top;\n",
       "    }\n",
       "\n",
       "    .dataframe thead th {\n",
       "        text-align: right;\n",
       "    }\n",
       "</style>\n",
       "<table border=\"1\" class=\"dataframe\">\n",
       "  <thead>\n",
       "    <tr style=\"text-align: right;\">\n",
       "      <th></th>\n",
       "      <th>impressions</th>\n",
       "      <th>clicks</th>\n",
       "      <th>cost</th>\n",
       "      <th>conversions</th>\n",
       "      <th>revenue</th>\n",
       "      <th>Day</th>\n",
       "      <th>Month</th>\n",
       "      <th>Year</th>\n",
       "    </tr>\n",
       "  </thead>\n",
       "  <tbody>\n",
       "    <tr>\n",
       "      <th>0</th>\n",
       "      <td>24</td>\n",
       "      <td>6</td>\n",
       "      <td>0.08</td>\n",
       "      <td>0</td>\n",
       "      <td>0.00</td>\n",
       "      <td>8</td>\n",
       "      <td>1</td>\n",
       "      <td>2020</td>\n",
       "    </tr>\n",
       "    <tr>\n",
       "      <th>1</th>\n",
       "      <td>1</td>\n",
       "      <td>0</td>\n",
       "      <td>0.00</td>\n",
       "      <td>0</td>\n",
       "      <td>0.00</td>\n",
       "      <td>8</td>\n",
       "      <td>1</td>\n",
       "      <td>2020</td>\n",
       "    </tr>\n",
       "    <tr>\n",
       "      <th>2</th>\n",
       "      <td>13</td>\n",
       "      <td>4</td>\n",
       "      <td>0.04</td>\n",
       "      <td>0</td>\n",
       "      <td>0.00</td>\n",
       "      <td>8</td>\n",
       "      <td>1</td>\n",
       "      <td>2020</td>\n",
       "    </tr>\n",
       "    <tr>\n",
       "      <th>3</th>\n",
       "      <td>5</td>\n",
       "      <td>4</td>\n",
       "      <td>0.08</td>\n",
       "      <td>0</td>\n",
       "      <td>0.00</td>\n",
       "      <td>8</td>\n",
       "      <td>1</td>\n",
       "      <td>2020</td>\n",
       "    </tr>\n",
       "    <tr>\n",
       "      <th>4</th>\n",
       "      <td>247</td>\n",
       "      <td>126</td>\n",
       "      <td>1.29</td>\n",
       "      <td>4</td>\n",
       "      <td>925.71</td>\n",
       "      <td>8</td>\n",
       "      <td>1</td>\n",
       "      <td>2020</td>\n",
       "    </tr>\n",
       "    <tr>\n",
       "      <th>...</th>\n",
       "      <td>...</td>\n",
       "      <td>...</td>\n",
       "      <td>...</td>\n",
       "      <td>...</td>\n",
       "      <td>...</td>\n",
       "      <td>...</td>\n",
       "      <td>...</td>\n",
       "      <td>...</td>\n",
       "    </tr>\n",
       "    <tr>\n",
       "      <th>4566</th>\n",
       "      <td>19</td>\n",
       "      <td>6</td>\n",
       "      <td>0.07</td>\n",
       "      <td>0</td>\n",
       "      <td>0.00</td>\n",
       "      <td>28</td>\n",
       "      <td>2</td>\n",
       "      <td>2021</td>\n",
       "    </tr>\n",
       "    <tr>\n",
       "      <th>4567</th>\n",
       "      <td>1</td>\n",
       "      <td>0</td>\n",
       "      <td>0.00</td>\n",
       "      <td>0</td>\n",
       "      <td>0.00</td>\n",
       "      <td>28</td>\n",
       "      <td>2</td>\n",
       "      <td>2021</td>\n",
       "    </tr>\n",
       "    <tr>\n",
       "      <th>4568</th>\n",
       "      <td>16</td>\n",
       "      <td>8</td>\n",
       "      <td>0.12</td>\n",
       "      <td>1</td>\n",
       "      <td>93.20</td>\n",
       "      <td>28</td>\n",
       "      <td>2</td>\n",
       "      <td>2021</td>\n",
       "    </tr>\n",
       "    <tr>\n",
       "      <th>4569</th>\n",
       "      <td>37</td>\n",
       "      <td>13</td>\n",
       "      <td>0.23</td>\n",
       "      <td>0</td>\n",
       "      <td>0.00</td>\n",
       "      <td>28</td>\n",
       "      <td>2</td>\n",
       "      <td>2021</td>\n",
       "    </tr>\n",
       "    <tr>\n",
       "      <th>4570</th>\n",
       "      <td>19</td>\n",
       "      <td>10</td>\n",
       "      <td>0.14</td>\n",
       "      <td>0</td>\n",
       "      <td>0.00</td>\n",
       "      <td>28</td>\n",
       "      <td>2</td>\n",
       "      <td>2021</td>\n",
       "    </tr>\n",
       "  </tbody>\n",
       "</table>\n",
       "<p>4571 rows × 8 columns</p>\n",
       "</div>"
      ],
      "text/plain": [
       "      impressions  clicks  cost  conversions  revenue  Day  Month  Year\n",
       "0              24       6  0.08            0     0.00    8      1  2020\n",
       "1               1       0  0.00            0     0.00    8      1  2020\n",
       "2              13       4  0.04            0     0.00    8      1  2020\n",
       "3               5       4  0.08            0     0.00    8      1  2020\n",
       "4             247     126  1.29            4   925.71    8      1  2020\n",
       "...           ...     ...   ...          ...      ...  ...    ...   ...\n",
       "4566           19       6  0.07            0     0.00   28      2  2021\n",
       "4567            1       0  0.00            0     0.00   28      2  2021\n",
       "4568           16       8  0.12            1    93.20   28      2  2021\n",
       "4569           37      13  0.23            0     0.00   28      2  2021\n",
       "4570           19      10  0.14            0     0.00   28      2  2021\n",
       "\n",
       "[4571 rows x 8 columns]"
      ]
     },
     "execution_count": 14,
     "metadata": {
      "tags": []
     },
     "output_type": "execute_result"
    }
   ],
   "source": [
    "df"
   ]
  },
  {
   "cell_type": "code",
   "execution_count": null,
   "id": "f98b570d",
   "metadata": {
    "colab": {
     "base_uri": "https://localhost:8080/"
    },
    "id": "f98b570d",
    "outputId": "0e506341-25c4-489b-c4b3-660d64d75f7a"
   },
   "outputs": [
    {
     "data": {
      "text/plain": [
       "impressions    0\n",
       "clicks         0\n",
       "cost           0\n",
       "conversions    0\n",
       "revenue        0\n",
       "Day            0\n",
       "Month          0\n",
       "Year           0\n",
       "dtype: int64"
      ]
     },
     "execution_count": 15,
     "metadata": {
      "tags": []
     },
     "output_type": "execute_result"
    }
   ],
   "source": [
    "df.isna().sum()"
   ]
  },
  {
   "cell_type": "markdown",
   "id": "d3883898",
   "metadata": {
    "id": "d3883898"
   },
   "source": [
    "# Raw metrics:\n",
    "\n",
    "Impressions - Number of time the ad was shown\n",
    "\n",
    "Clicks - Number of time the ad clicked shown\n",
    "\n",
    "Cost - Amount spent to show ad\n",
    "\n",
    "Conversions - Number of transactions received (higher the better)\n",
    "\n",
    "Revenue - Total value of transactions received (higher the better)"
   ]
  },
  {
   "cell_type": "markdown",
   "id": "9a536304",
   "metadata": {
    "id": "9a536304"
   },
   "source": [
    "# Efficiency metrics (optional - can be used for creating new features/feature engineering): \n",
    "\n",
    "The below features can be newly created/calculated and used while building the models. These are based on raw metrics. \n",
    "\n",
    "CTR - Clicks / Impression (higher the better - used to evaluate if the users find the ad relevant)\n",
    "\n",
    "CPC - Cost / Click (lower the better - used to evaluate if the cost for getting a click)\n",
    "\n",
    "CPA - Cost / Conversion (lower the better - used to evaluate if the cost for getting a conversion)\n",
    "\n",
    "ROI - Revenue/Cost (higher the better - used to evaluate the effectiveness of the advertising budget spent"
   ]
  },
  {
   "cell_type": "code",
   "execution_count": null,
   "id": "fa5a7796",
   "metadata": {
    "id": "fa5a7796"
   },
   "outputs": [],
   "source": [
    "df['CTR'] = df['clicks']/df['impressions']\n",
    "df['CPC'] = df['cost']/df['clicks']\n",
    "df['CPA'] = df['cost']/df['conversions']\n",
    "# df['ROI'] = df['revenue']/df['cost']"
   ]
  },
  {
   "cell_type": "code",
   "execution_count": null,
   "id": "0zuLahwBKG48",
   "metadata": {
    "id": "0zuLahwBKG48"
   },
   "outputs": [],
   "source": [
    "# df = pd.get_dummies(df,columns=['adgroup'])"
   ]
  },
  {
   "cell_type": "code",
   "execution_count": null,
   "id": "I8V8PqPkK8cY",
   "metadata": {
    "colab": {
     "base_uri": "https://localhost:8080/",
     "height": 417
    },
    "id": "I8V8PqPkK8cY",
    "outputId": "34ccaae9-8258-4a97-c392-ad932237eb75"
   },
   "outputs": [
    {
     "data": {
      "text/html": [
       "<div>\n",
       "<style scoped>\n",
       "    .dataframe tbody tr th:only-of-type {\n",
       "        vertical-align: middle;\n",
       "    }\n",
       "\n",
       "    .dataframe tbody tr th {\n",
       "        vertical-align: top;\n",
       "    }\n",
       "\n",
       "    .dataframe thead th {\n",
       "        text-align: right;\n",
       "    }\n",
       "</style>\n",
       "<table border=\"1\" class=\"dataframe\">\n",
       "  <thead>\n",
       "    <tr style=\"text-align: right;\">\n",
       "      <th></th>\n",
       "      <th>impressions</th>\n",
       "      <th>clicks</th>\n",
       "      <th>cost</th>\n",
       "      <th>conversions</th>\n",
       "      <th>revenue</th>\n",
       "      <th>Day</th>\n",
       "      <th>Month</th>\n",
       "      <th>Year</th>\n",
       "      <th>CTR</th>\n",
       "      <th>CPC</th>\n",
       "      <th>CPA</th>\n",
       "    </tr>\n",
       "  </thead>\n",
       "  <tbody>\n",
       "    <tr>\n",
       "      <th>0</th>\n",
       "      <td>24</td>\n",
       "      <td>6</td>\n",
       "      <td>0.08</td>\n",
       "      <td>0</td>\n",
       "      <td>0.00</td>\n",
       "      <td>8</td>\n",
       "      <td>1</td>\n",
       "      <td>2020</td>\n",
       "      <td>0.250000</td>\n",
       "      <td>0.013333</td>\n",
       "      <td>inf</td>\n",
       "    </tr>\n",
       "    <tr>\n",
       "      <th>1</th>\n",
       "      <td>1</td>\n",
       "      <td>0</td>\n",
       "      <td>0.00</td>\n",
       "      <td>0</td>\n",
       "      <td>0.00</td>\n",
       "      <td>8</td>\n",
       "      <td>1</td>\n",
       "      <td>2020</td>\n",
       "      <td>0.000000</td>\n",
       "      <td>NaN</td>\n",
       "      <td>NaN</td>\n",
       "    </tr>\n",
       "    <tr>\n",
       "      <th>2</th>\n",
       "      <td>13</td>\n",
       "      <td>4</td>\n",
       "      <td>0.04</td>\n",
       "      <td>0</td>\n",
       "      <td>0.00</td>\n",
       "      <td>8</td>\n",
       "      <td>1</td>\n",
       "      <td>2020</td>\n",
       "      <td>0.307692</td>\n",
       "      <td>0.010000</td>\n",
       "      <td>inf</td>\n",
       "    </tr>\n",
       "    <tr>\n",
       "      <th>3</th>\n",
       "      <td>5</td>\n",
       "      <td>4</td>\n",
       "      <td>0.08</td>\n",
       "      <td>0</td>\n",
       "      <td>0.00</td>\n",
       "      <td>8</td>\n",
       "      <td>1</td>\n",
       "      <td>2020</td>\n",
       "      <td>0.800000</td>\n",
       "      <td>0.020000</td>\n",
       "      <td>inf</td>\n",
       "    </tr>\n",
       "    <tr>\n",
       "      <th>4</th>\n",
       "      <td>247</td>\n",
       "      <td>126</td>\n",
       "      <td>1.29</td>\n",
       "      <td>4</td>\n",
       "      <td>925.71</td>\n",
       "      <td>8</td>\n",
       "      <td>1</td>\n",
       "      <td>2020</td>\n",
       "      <td>0.510121</td>\n",
       "      <td>0.010238</td>\n",
       "      <td>0.3225</td>\n",
       "    </tr>\n",
       "    <tr>\n",
       "      <th>...</th>\n",
       "      <td>...</td>\n",
       "      <td>...</td>\n",
       "      <td>...</td>\n",
       "      <td>...</td>\n",
       "      <td>...</td>\n",
       "      <td>...</td>\n",
       "      <td>...</td>\n",
       "      <td>...</td>\n",
       "      <td>...</td>\n",
       "      <td>...</td>\n",
       "      <td>...</td>\n",
       "    </tr>\n",
       "    <tr>\n",
       "      <th>4566</th>\n",
       "      <td>19</td>\n",
       "      <td>6</td>\n",
       "      <td>0.07</td>\n",
       "      <td>0</td>\n",
       "      <td>0.00</td>\n",
       "      <td>28</td>\n",
       "      <td>2</td>\n",
       "      <td>2021</td>\n",
       "      <td>0.315789</td>\n",
       "      <td>0.011667</td>\n",
       "      <td>inf</td>\n",
       "    </tr>\n",
       "    <tr>\n",
       "      <th>4567</th>\n",
       "      <td>1</td>\n",
       "      <td>0</td>\n",
       "      <td>0.00</td>\n",
       "      <td>0</td>\n",
       "      <td>0.00</td>\n",
       "      <td>28</td>\n",
       "      <td>2</td>\n",
       "      <td>2021</td>\n",
       "      <td>0.000000</td>\n",
       "      <td>NaN</td>\n",
       "      <td>NaN</td>\n",
       "    </tr>\n",
       "    <tr>\n",
       "      <th>4568</th>\n",
       "      <td>16</td>\n",
       "      <td>8</td>\n",
       "      <td>0.12</td>\n",
       "      <td>1</td>\n",
       "      <td>93.20</td>\n",
       "      <td>28</td>\n",
       "      <td>2</td>\n",
       "      <td>2021</td>\n",
       "      <td>0.500000</td>\n",
       "      <td>0.015000</td>\n",
       "      <td>0.1200</td>\n",
       "    </tr>\n",
       "    <tr>\n",
       "      <th>4569</th>\n",
       "      <td>37</td>\n",
       "      <td>13</td>\n",
       "      <td>0.23</td>\n",
       "      <td>0</td>\n",
       "      <td>0.00</td>\n",
       "      <td>28</td>\n",
       "      <td>2</td>\n",
       "      <td>2021</td>\n",
       "      <td>0.351351</td>\n",
       "      <td>0.017692</td>\n",
       "      <td>inf</td>\n",
       "    </tr>\n",
       "    <tr>\n",
       "      <th>4570</th>\n",
       "      <td>19</td>\n",
       "      <td>10</td>\n",
       "      <td>0.14</td>\n",
       "      <td>0</td>\n",
       "      <td>0.00</td>\n",
       "      <td>28</td>\n",
       "      <td>2</td>\n",
       "      <td>2021</td>\n",
       "      <td>0.526316</td>\n",
       "      <td>0.014000</td>\n",
       "      <td>inf</td>\n",
       "    </tr>\n",
       "  </tbody>\n",
       "</table>\n",
       "<p>4571 rows × 11 columns</p>\n",
       "</div>"
      ],
      "text/plain": [
       "      impressions  clicks  cost  conversions  ...  Year       CTR       CPC     CPA\n",
       "0              24       6  0.08            0  ...  2020  0.250000  0.013333     inf\n",
       "1               1       0  0.00            0  ...  2020  0.000000       NaN     NaN\n",
       "2              13       4  0.04            0  ...  2020  0.307692  0.010000     inf\n",
       "3               5       4  0.08            0  ...  2020  0.800000  0.020000     inf\n",
       "4             247     126  1.29            4  ...  2020  0.510121  0.010238  0.3225\n",
       "...           ...     ...   ...          ...  ...   ...       ...       ...     ...\n",
       "4566           19       6  0.07            0  ...  2021  0.315789  0.011667     inf\n",
       "4567            1       0  0.00            0  ...  2021  0.000000       NaN     NaN\n",
       "4568           16       8  0.12            1  ...  2021  0.500000  0.015000  0.1200\n",
       "4569           37      13  0.23            0  ...  2021  0.351351  0.017692     inf\n",
       "4570           19      10  0.14            0  ...  2021  0.526316  0.014000     inf\n",
       "\n",
       "[4571 rows x 11 columns]"
      ]
     },
     "execution_count": 18,
     "metadata": {
      "tags": []
     },
     "output_type": "execute_result"
    }
   ],
   "source": [
    "df"
   ]
  },
  {
   "cell_type": "code",
   "execution_count": null,
   "id": "LQ3CbYWIr1xS",
   "metadata": {
    "id": "LQ3CbYWIr1xS"
   },
   "outputs": [],
   "source": [
    "df.replace([np.inf, -np.inf], np.nan,inplace=True)"
   ]
  },
  {
   "cell_type": "code",
   "execution_count": null,
   "id": "GN9dp5w1r-dR",
   "metadata": {
    "colab": {
     "base_uri": "https://localhost:8080/"
    },
    "id": "GN9dp5w1r-dR",
    "outputId": "9ec51c6f-fc05-4255-c5a4-5ada8d0840f7"
   },
   "outputs": [
    {
     "data": {
      "text/plain": [
       "impressions       0\n",
       "clicks            0\n",
       "cost              0\n",
       "conversions       0\n",
       "revenue           0\n",
       "Day               0\n",
       "Month             0\n",
       "Year              0\n",
       "CTR               0\n",
       "CPC             444\n",
       "CPA            3213\n",
       "dtype: int64"
      ]
     },
     "execution_count": 20,
     "metadata": {
      "tags": []
     },
     "output_type": "execute_result"
    }
   ],
   "source": [
    "df.isna().sum()"
   ]
  },
  {
   "cell_type": "code",
   "execution_count": null,
   "id": "8YqA-_eDsBbu",
   "metadata": {
    "id": "8YqA-_eDsBbu"
   },
   "outputs": [],
   "source": [
    "df.fillna(0,inplace=True)"
   ]
  },
  {
   "cell_type": "code",
   "execution_count": null,
   "id": "279f9cf8",
   "metadata": {
    "id": "279f9cf8"
   },
   "outputs": [],
   "source": [
    "train_X_df = df.drop(columns=['revenue'])\n",
    "train_Y_df = df['revenue']"
   ]
  },
  {
   "cell_type": "code",
   "execution_count": null,
   "id": "b9d2992d",
   "metadata": {
    "colab": {
     "base_uri": "https://localhost:8080/"
    },
    "id": "b9d2992d",
    "outputId": "fa0d8064-68b3-4ac0-e8f5-405253fda086"
   },
   "outputs": [
    {
     "name": "stdout",
     "output_type": "stream",
     "text": [
      "{'regr': ExtraTreesRegressor(bootstrap=False, ccp_alpha=0.5, criterion='mae',\n",
      "                    max_depth=6, max_features='auto', max_leaf_nodes=None,\n",
      "                    max_samples=None, min_impurity_decrease=0.0,\n",
      "                    min_impurity_split=None, min_samples_leaf=1,\n",
      "                    min_samples_split=2, min_weight_fraction_leaf=0.0,\n",
      "                    n_estimators=2000, n_jobs=None, oob_score=False,\n",
      "                    random_state=None, verbose=0, warm_start=False)}\n"
     ]
    }
   ],
   "source": [
    "from sklearn.linear_model import LinearRegression\n",
    "from sklearn.pipeline import Pipeline\n",
    "from sklearn.preprocessing import StandardScaler\n",
    "from sklearn.preprocessing import MinMaxScaler\n",
    "from sklearn.preprocessing import RobustScaler\n",
    "from sklearn.model_selection import GridSearchCV\n",
    "from sklearn.model_selection import RandomizedSearchCV\n",
    "from sklearn.linear_model import Ridge\n",
    "from sklearn.neighbors import KNeighborsRegressor\n",
    "from sklearn.tree import DecisionTreeRegressor\n",
    "from sklearn.metrics import mean_squared_error\n",
    "from sklearn.linear_model import Lasso\n",
    "from sklearn.feature_selection import SelectKBest\n",
    "from sklearn.neural_network import MLPRegressor\n",
    "from sklearn.ensemble import RandomForestRegressor\n",
    "from sklearn.ensemble import ExtraTreesRegressor\n",
    "\n",
    "\n",
    "\n",
    "pipe = Pipeline(steps=[ \n",
    "                       ('scaler', RobustScaler()),\n",
    "                       ('regr', LinearRegression()),\n",
    "                       ]\n",
    "                )\n",
    "                        \n",
    "param_distributions= [\n",
    "                      # {\n",
    "                      #       'scaler': [StandardScaler(),MinMaxScaler(), RobustScaler(), 'passthrough'],\n",
    "                      #       'regr': [LinearRegression()]\n",
    "                      # },\n",
    "                      {\n",
    "                            'scaler': [StandardScaler(),MinMaxScaler(), RobustScaler(), 'passthrough'],\n",
    "                            'regr': [DecisionTreeRegressor(criterion='mse',ccp_alpha=0.1,max_depth=5)],\n",
    "                            'regr__splitter':['best','random'] \n",
    "                      },\n",
    "                       \n",
    "                      # {\n",
    "                      #       'scaler': [StandardScaler(),MinMaxScaler(), RobustScaler(), 'passthrough'],\n",
    "                      #       'regr': [KNeighborsRegressor()],\n",
    "                      #       'regr__n_neighbors':[5,10,15]    \n",
    "                      # },\n",
    "                      # {\n",
    "                      #       'scaler': [StandardScaler(),MinMaxScaler(), RobustScaler(), 'passthrough'],\n",
    "                      #       'regr': [Lasso(max_iter=2000,random_state=2021)],\n",
    "                      #       'regr__alpha':[1,2,3,4,5,6]    \n",
    "                      # },\n",
    "                      {\n",
    "                            # 'scaler': [StandardScaler(),MinMaxScaler(), RobustScaler(), 'passthrough'],\n",
    "                            'regr': [ExtraTreesRegressor(criterion='mae',max_depth=6,n_estimators=2000,bootstrap=False,ccp_alpha=0.5)],\n",
    "                             # 'regr__max_depth':[5,6],  \n",
    "                      },\n",
    "                      ]\n",
    "                        \n",
    "\n",
    "grid_search = GridSearchCV(pipe, param_grid=param_distributions, refit=True, cv=2) \n",
    "grid_search.fit(train_X_df, train_Y_df)\n",
    "print(grid_search.best_params_)\n",
    "\n",
    "# random_search_cv = RandomizedSearchCV(pipe, param_distributions=param_distributions, n_iter=30, scoring='neg_root_mean_squared_error', refit=True, cv=5, random_state=0) \n",
    "# random_search_cv.fit(train_X_df, train_Y_df)\n",
    "# print(random_search_cv.best_params_)"
   ]
  },
  {
   "cell_type": "code",
   "execution_count": null,
   "id": "1d5f55f4",
   "metadata": {
    "id": "1d5f55f4"
   },
   "outputs": [],
   "source": [
    "best_model = grid_search.best_estimator_\n",
    "predicted_train_Y = best_model.predict(train_X_df)"
   ]
  },
  {
   "cell_type": "code",
   "execution_count": null,
   "id": "c4ade602",
   "metadata": {
    "colab": {
     "base_uri": "https://localhost:8080/"
    },
    "id": "c4ade602",
    "outputId": "47ca8db6-15c9-4258-9cbb-26d657417b33"
   },
   "outputs": [
    {
     "data": {
      "text/plain": [
       "27821.071666539912"
      ]
     },
     "execution_count": 56,
     "metadata": {
      "tags": []
     },
     "output_type": "execute_result"
    }
   ],
   "source": [
    "from sklearn.metrics import mean_squared_error\n",
    "mean_squared_error(train_Y_df, predicted_train_Y)"
   ]
  },
  {
   "cell_type": "code",
   "execution_count": null,
   "id": "f--ykyFm1H6n",
   "metadata": {
    "colab": {
     "base_uri": "https://localhost:8080/"
    },
    "id": "f--ykyFm1H6n",
    "outputId": "62078aa6-388d-4c18-fde1-c2d341586387"
   },
   "outputs": [
    {
     "data": {
      "text/html": [
       "<div>\n",
       "<style scoped>\n",
       "    .dataframe tbody tr th:only-of-type {\n",
       "        vertical-align: middle;\n",
       "    }\n",
       "\n",
       "    .dataframe tbody tr th {\n",
       "        vertical-align: top;\n",
       "    }\n",
       "\n",
       "    .dataframe thead th {\n",
       "        text-align: right;\n",
       "    }\n",
       "</style>\n",
       "<table border=\"1\" class=\"dataframe\">\n",
       "  <thead>\n",
       "    <tr style=\"text-align: right;\">\n",
       "      <th></th>\n",
       "      <th>cost</th>\n",
       "      <th>impressions</th>\n",
       "      <th>clicks</th>\n",
       "      <th>conversions</th>\n",
       "      <th>Day</th>\n",
       "      <th>Month</th>\n",
       "      <th>Year</th>\n",
       "      <th>CTR</th>\n",
       "      <th>CPC</th>\n",
       "      <th>CPA</th>\n",
       "    </tr>\n",
       "  </thead>\n",
       "  <tbody>\n",
       "    <tr>\n",
       "      <th>0</th>\n",
       "      <td>0.58</td>\n",
       "      <td>121</td>\n",
       "      <td>49</td>\n",
       "      <td>1</td>\n",
       "      <td>3</td>\n",
       "      <td>1</td>\n",
       "      <td>2021</td>\n",
       "      <td>0.404959</td>\n",
       "      <td>0.011837</td>\n",
       "      <td>0.58</td>\n",
       "    </tr>\n",
       "    <tr>\n",
       "      <th>1</th>\n",
       "      <td>0.17</td>\n",
       "      <td>22</td>\n",
       "      <td>12</td>\n",
       "      <td>0</td>\n",
       "      <td>3</td>\n",
       "      <td>1</td>\n",
       "      <td>2021</td>\n",
       "      <td>0.545455</td>\n",
       "      <td>0.014167</td>\n",
       "      <td>0.00</td>\n",
       "    </tr>\n",
       "    <tr>\n",
       "      <th>2</th>\n",
       "      <td>0.05</td>\n",
       "      <td>5</td>\n",
       "      <td>3</td>\n",
       "      <td>0</td>\n",
       "      <td>3</td>\n",
       "      <td>1</td>\n",
       "      <td>2021</td>\n",
       "      <td>0.600000</td>\n",
       "      <td>0.016667</td>\n",
       "      <td>0.00</td>\n",
       "    </tr>\n",
       "    <tr>\n",
       "      <th>3</th>\n",
       "      <td>0.01</td>\n",
       "      <td>2</td>\n",
       "      <td>1</td>\n",
       "      <td>0</td>\n",
       "      <td>3</td>\n",
       "      <td>1</td>\n",
       "      <td>2021</td>\n",
       "      <td>0.500000</td>\n",
       "      <td>0.010000</td>\n",
       "      <td>0.00</td>\n",
       "    </tr>\n",
       "    <tr>\n",
       "      <th>4</th>\n",
       "      <td>0.01</td>\n",
       "      <td>3</td>\n",
       "      <td>1</td>\n",
       "      <td>0</td>\n",
       "      <td>3</td>\n",
       "      <td>1</td>\n",
       "      <td>2021</td>\n",
       "      <td>0.333333</td>\n",
       "      <td>0.010000</td>\n",
       "      <td>0.00</td>\n",
       "    </tr>\n",
       "    <tr>\n",
       "      <th>...</th>\n",
       "      <td>...</td>\n",
       "      <td>...</td>\n",
       "      <td>...</td>\n",
       "      <td>...</td>\n",
       "      <td>...</td>\n",
       "      <td>...</td>\n",
       "      <td>...</td>\n",
       "      <td>...</td>\n",
       "      <td>...</td>\n",
       "      <td>...</td>\n",
       "    </tr>\n",
       "    <tr>\n",
       "      <th>313</th>\n",
       "      <td>0.01</td>\n",
       "      <td>1</td>\n",
       "      <td>1</td>\n",
       "      <td>0</td>\n",
       "      <td>15</td>\n",
       "      <td>3</td>\n",
       "      <td>2021</td>\n",
       "      <td>1.000000</td>\n",
       "      <td>0.010000</td>\n",
       "      <td>0.00</td>\n",
       "    </tr>\n",
       "    <tr>\n",
       "      <th>314</th>\n",
       "      <td>0.01</td>\n",
       "      <td>5</td>\n",
       "      <td>1</td>\n",
       "      <td>0</td>\n",
       "      <td>15</td>\n",
       "      <td>3</td>\n",
       "      <td>2021</td>\n",
       "      <td>0.200000</td>\n",
       "      <td>0.010000</td>\n",
       "      <td>0.00</td>\n",
       "    </tr>\n",
       "    <tr>\n",
       "      <th>315</th>\n",
       "      <td>0.14</td>\n",
       "      <td>25</td>\n",
       "      <td>11</td>\n",
       "      <td>0</td>\n",
       "      <td>15</td>\n",
       "      <td>3</td>\n",
       "      <td>2021</td>\n",
       "      <td>0.440000</td>\n",
       "      <td>0.012727</td>\n",
       "      <td>0.00</td>\n",
       "    </tr>\n",
       "    <tr>\n",
       "      <th>316</th>\n",
       "      <td>0.06</td>\n",
       "      <td>9</td>\n",
       "      <td>4</td>\n",
       "      <td>0</td>\n",
       "      <td>15</td>\n",
       "      <td>3</td>\n",
       "      <td>2021</td>\n",
       "      <td>0.444444</td>\n",
       "      <td>0.015000</td>\n",
       "      <td>0.00</td>\n",
       "    </tr>\n",
       "    <tr>\n",
       "      <th>317</th>\n",
       "      <td>0.33</td>\n",
       "      <td>67</td>\n",
       "      <td>27</td>\n",
       "      <td>1</td>\n",
       "      <td>15</td>\n",
       "      <td>3</td>\n",
       "      <td>2021</td>\n",
       "      <td>0.402985</td>\n",
       "      <td>0.012222</td>\n",
       "      <td>0.33</td>\n",
       "    </tr>\n",
       "  </tbody>\n",
       "</table>\n",
       "<p>318 rows × 10 columns</p>\n",
       "</div>"
      ],
      "text/plain": [
       "     cost  impressions  clicks  conversions  ...  Year       CTR       CPC   CPA\n",
       "0    0.58          121      49            1  ...  2021  0.404959  0.011837  0.58\n",
       "1    0.17           22      12            0  ...  2021  0.545455  0.014167  0.00\n",
       "2    0.05            5       3            0  ...  2021  0.600000  0.016667  0.00\n",
       "3    0.01            2       1            0  ...  2021  0.500000  0.010000  0.00\n",
       "4    0.01            3       1            0  ...  2021  0.333333  0.010000  0.00\n",
       "..    ...          ...     ...          ...  ...   ...       ...       ...   ...\n",
       "313  0.01            1       1            0  ...  2021  1.000000  0.010000  0.00\n",
       "314  0.01            5       1            0  ...  2021  0.200000  0.010000  0.00\n",
       "315  0.14           25      11            0  ...  2021  0.440000  0.012727  0.00\n",
       "316  0.06            9       4            0  ...  2021  0.444444  0.015000  0.00\n",
       "317  0.33           67      27            1  ...  2021  0.402985  0.012222  0.33\n",
       "\n",
       "[318 rows x 10 columns]"
      ]
     },
     "execution_count": 57,
     "metadata": {
      "tags": []
     },
     "output_type": "execute_result"
    }
   ],
   "source": [
    "X_test = pd.read_csv('/content/drive/MyDrive/hackathon/Test_Data.csv')\n",
    "X_test['date'] = pd.to_datetime(X_test['date'])\n",
    "X_test['Day'] = X_test['date'].dt.day\n",
    "X_test['Month'] = X_test['date'].dt.month\n",
    "X_test['Year'] = X_test['date'].dt.year\n",
    "X_test.drop(columns=['campaign','date','ad','adgroup'],inplace=True)\n",
    "# X_test = pd.get_dummies(X_test,columns=['adgroup'])\n",
    "X_test['CTR'] = X_test['clicks']/X_test['impressions']\n",
    "X_test['CPC'] = X_test['cost']/X_test['clicks']\n",
    "X_test['CPA'] = X_test['cost']/X_test['conversions'] \n",
    "X_test.replace([np.inf, -np.inf], np.nan,inplace=True)\n",
    "X_test.fillna(0,inplace=True)\n",
    "X_test"
   ]
  },
  {
   "cell_type": "code",
   "execution_count": null,
   "id": "NXZGheJwzFnm",
   "metadata": {
    "id": "NXZGheJwzFnm"
   },
   "outputs": [
    {
     "ename": "NameError",
     "evalue": "name 'best_model' is not defined",
     "output_type": "error",
     "traceback": [
      "\u001b[1;31m---------------------------------------------------------------------------\u001b[0m",
      "\u001b[1;31mNameError\u001b[0m                                 Traceback (most recent call last)",
      "\u001b[1;32m<ipython-input-1-d9bc4de26406>\u001b[0m in \u001b[0;36m<module>\u001b[1;34m\u001b[0m\n\u001b[1;32m----> 1\u001b[1;33m \u001b[0mpredicted_test_Y\u001b[0m \u001b[1;33m=\u001b[0m \u001b[0mbest_model\u001b[0m\u001b[1;33m.\u001b[0m\u001b[0mpredict\u001b[0m\u001b[1;33m(\u001b[0m\u001b[0mX_test\u001b[0m\u001b[1;33m)\u001b[0m\u001b[1;33m\u001b[0m\u001b[1;33m\u001b[0m\u001b[0m\n\u001b[0m",
      "\u001b[1;31mNameError\u001b[0m: name 'best_model' is not defined"
     ]
    }
   ],
   "source": [
    "predicted_test_Y = best_model.predict(X_test)"
   ]
  },
  {
   "cell_type": "code",
   "execution_count": null,
   "id": "yNuJTjJ8Q2iN",
   "metadata": {
    "id": "yNuJTjJ8Q2iN"
   },
   "outputs": [],
   "source": [
    "\n",
    "pd.DataFrame(predicted_test_Y).to_csv('predicted_test_Y.csv', header=['revenue'], index=False)"
   ]
  },
  {
   "cell_type": "code",
   "execution_count": null,
   "id": "cc6a9e91",
   "metadata": {},
   "outputs": [],
   "source": []
  }
 ],
 "metadata": {
  "colab": {
   "name": "revenue_prediction.ipynb",
   "provenance": []
  },
  "kernelspec": {
   "display_name": "Python 3",
   "language": "python",
   "name": "python3"
  },
  "language_info": {
   "codemirror_mode": {
    "name": "ipython",
    "version": 3
   },
   "file_extension": ".py",
   "mimetype": "text/x-python",
   "name": "python",
   "nbconvert_exporter": "python",
   "pygments_lexer": "ipython3",
   "version": "3.8.8"
  }
 },
 "nbformat": 4,
 "nbformat_minor": 5
}
